{
  "cells": [
    {
      "cell_type": "code",
      "execution_count": null,
      "metadata": {
        "id": "SlACiW8FwosG"
      },
      "outputs": [],
      "source": [
        "import pandas as pd\n",
        "import numpy as np\n",
        "from sklearn.metrics import auc\n"
      ]
    },
    {
      "cell_type": "markdown",
      "metadata": {
        "id": "FZf1vvTEF_7r"
      },
      "source": [
        "#Data Exploration"
      ]
    },
    {
      "cell_type": "code",
      "execution_count": null,
      "metadata": {
        "id": "sVb65Z3ktd6S",
        "colab": {
          "base_uri": "https://localhost:8080/"
        },
        "outputId": "c5454fcd-82c3-40c4-f02a-b79f63c76128"
      },
      "outputs": [
        {
          "output_type": "stream",
          "name": "stderr",
          "text": [
            "/usr/local/lib/python3.7/dist-packages/IPython/core/interactiveshell.py:2718: DtypeWarning: Columns (4,5) have mixed types.Specify dtype option on import or set low_memory=False.\n",
            "  interactivity=interactivity, compiler=compiler, result=result)\n"
          ]
        }
      ],
      "source": [
        "notes=pd.read_csv(\"NOTEEVENTS.csv\")"
      ]
    },
    {
      "cell_type": "code",
      "execution_count": null,
      "metadata": {
        "id": "R83Ch1znwnOL",
        "colab": {
          "base_uri": "https://localhost:8080/"
        },
        "outputId": "35fed956-8541-4302-c2c7-2b62d607b141"
      },
      "outputs": [
        {
          "output_type": "execute_result",
          "data": {
            "text/plain": [
              "Index(['ROW_ID', 'SUBJECT_ID', 'HADM_ID', 'CHARTDATE', 'CHARTTIME',\n",
              "       'STORETIME', 'CATEGORY', 'DESCRIPTION', 'CGID', 'ISERROR', 'TEXT'],\n",
              "      dtype='object')"
            ]
          },
          "metadata": {},
          "execution_count": 5
        }
      ],
      "source": [
        "notes.columns"
      ]
    },
    {
      "cell_type": "code",
      "execution_count": null,
      "metadata": {
        "id": "mgLsMI4qw9S5",
        "colab": {
          "base_uri": "https://localhost:8080/"
        },
        "outputId": "a603dcec-178d-4593-a9f3-209a6e9a98cf"
      },
      "outputs": [
        {
          "output_type": "execute_result",
          "data": {
            "text/plain": [
              "array(['Admission Date:  [**2151-7-16**]       Discharge Date:  [**2151-8-4**]\\n\\n\\nService:\\nADDENDUM:\\n\\nRADIOLOGIC STUDIES:  Radiologic studies also included a chest\\nCT, which confirmed cavitary lesions in the left lung apex\\nconsistent with infectious process/tuberculosis.  This also\\nmoderate-sized left pleural effusion.\\n\\nHEAD CT:  Head CT showed no intracranial hemorrhage or mass\\neffect, but old infarction consistent with past medical\\nhistory.\\n\\nABDOMINAL CT:  Abdominal CT showed lesions of\\nT10 and sacrum most likely secondary to osteoporosis. These can\\nbe followed by repeat imaging as an outpatient.\\n\\n\\n\\n                            [**First Name8 (NamePattern2) **] [**First Name4 (NamePattern1) 1775**] [**Last Name (NamePattern1) **], M.D.  [**MD Number(1) 1776**]\\n\\nDictated By:[**Hospital 1807**]\\nMEDQUIST36\\n\\nD:  [**2151-8-5**]  12:11\\nT:  [**2151-8-5**]  12:21\\nJOB#:  [**Job Number 1808**]\\n',\n",
              "       'Admission Date:  [**2118-6-2**]       Discharge Date:  [**2118-6-14**]\\n\\nDate of Birth:                    Sex:  F\\n\\nService:  MICU and then to [**Doctor Last Name **] Medicine\\n\\nHISTORY OF PRESENT ILLNESS:  This is an 81-year-old female\\nwith a history of emphysema (not on home O2), who presents\\nwith three days of shortness of breath thought by her primary\\ncare doctor to be a COPD flare.  Two days prior to admission,\\nshe was started on a prednisone taper and one day prior to\\nadmission she required oxygen at home in order to maintain\\noxygen saturation greater than 90%.  She has also been on\\nlevofloxacin and nebulizers, and was not getting better, and\\npresented to the [**Hospital1 18**] Emergency Room.\\n\\nIn the [**Hospital3 **] Emergency Room, her oxygen saturation was\\n100% on CPAP.  She was not able to be weaned off of this\\ndespite nebulizer treatment and Solu-Medrol 125 mg IV x2.\\n\\nReview of systems is negative for the following:  Fevers,\\nchills, nausea, vomiting, night sweats, change in weight,\\ngastrointestinal complaints, neurologic changes, rashes,\\npalpitations, orthopnea.  Is positive for the following:\\nChest pressure occasionally with shortness of breath with\\nexertion, some shortness of breath that is positionally\\nrelated, but is improved with nebulizer treatment.\\n\\nPAST MEDICAL HISTORY:\\n1. COPD.  Last pulmonary function tests in [**2117-11-3**]\\ndemonstrated a FVC of 52% of predicted, a FEV1 of 54% of\\npredicted, a MMF of 23% of predicted, and a FEV1:FVC ratio of\\n67% of predicted, that does not improve with bronchodilator\\ntreatment.  The FVC, however, does significantly improve with\\nbronchodilator treatment consistent with her known reversible\\nair flow obstruction in addition to an underlying restrictive\\nventilatory defect.  The patient has never been on home\\noxygen prior to this recent episode.  She has never been on\\nsteroid taper or been intubated in the past.\\n2. Lacunar CVA.  MRI of the head in [**2114-11-4**]\\ndemonstrates \"mild degree of multiple small foci of high T2\\nsignal within the white matter of both cerebral hemispheres\\nas well as the pons, in the latter region predominantly to\\nthe right of midline.  The abnormalities, while nonspecific\\nin etiology, are most likely secondary to chronic\\nmicrovascular infarction.  There is no mass, lesion, shift of\\nthe normal midline strictures or hydrocephalus.  The major\\nvascular flow patterns are preserved.  There is moderate\\nright maxillary, moderate bilateral ethmoid, mild left\\nmaxillary, minimal right sphenoid, and frontal sinus mucosal\\nthickening.  These abnormalities could represent an allergic\\nor some other type of inflammatory process.  Additionally\\nnoted is a moderately enlarged subtotally empty sella\\nturcica\".\\n3. Angina:  Most recent stress test was in [**2118-1-3**]\\ngoing for four minutes with a rate pressure product of\\n10,000, 64% of maximum predicted heart rate without evidence\\nof ischemic EKG changes or symptoms.  The imaging portion of\\nthe study demonstrated no evidence of myocardial ischemia and\\na calculated ejection fraction of 84%.  The patient denies\\nangina at rest and gets angina with walking a few blocks.\\nAre alleviated by sublingual nitroglycerin.\\n4. Hypothyroidism on Synthroid.\\n5. Depression on Lexapro.\\n6. Motor vehicle accident with head injury approximately 10\\nyears ago.\\n\\nMEDICATIONS ON ADMISSION:\\n1. Hydrochlorothiazide 25 q.d.\\n2. Prednisone 60 mg, 50 mg, 40 mg, 20 mg.\\n3. Levofloxacin 500 mg q.d.\\n4. Imdur 60 mg q.d.\\n5. Synthroid 75 mcg q.d.\\n6. Pulmicort nebulizer b.i.d.\\n7. Albuterol nebulizer q.4. prn.\\n8. Lexapro 10 mg q.d.\\n9. Protonix 40 mg q.d.\\n10. Aspirin 81 mg q.d.\\n\\nALLERGIES:  Norvasc leads to lightheadedness and headache.\\n\\nFAMILY HISTORY:  Noncontributory.\\n\\nSOCIAL HISTORY:  Lives with her husband, Dr. [**Known lastname 1809**] an\\neminent Pediatric Neurologist at [**Hospital3 1810**].  The\\npatient is a prior smoker, but has not smoked in over 10\\nyears.  She has no known alcohol use and she is a full code.\\n\\nPHYSICAL EXAM AT TIME OF ADMISSION:  Blood pressure 142/76,\\nheart rate 100 and regular, respirations at 17-21, and 97%\\naxillary temperature.  She was saturating at 100% on CPAP\\nwith dry mucous membranes.  An elderly female in no apparent\\ndistress.  Pupils are equal, round, and reactive to light and\\naccommodation.  Extraocular movements are intact.  Oropharynx\\ndifficult to assess due to CPAP machine.  No evidence of\\njugular venous pressure, however, the strap from the CPAP\\nmachine obscures the neck exam.  Cranial nerves II through\\nXII are grossly intact.  Neck is supple without\\nlymphadenopathy.  Heart exam:  Tachycardic, regular, obscured\\nby loud bilateral wheezing with increase in the expiratory\\nphase as well as profuse scattered rhonchi throughout the\\nlung fields.  Positive bowel sounds, soft, nontender,\\nnondistended, obese, no masses.  Mild edema of the lower\\nextremities without clubbing or cyanosis, no rashes.  There\\nis a right hand hematoma.  Strength is assessed as [**5-9**] in the\\nlower extremities, [**5-9**] in the upper extremities with a normal\\nmental status and cognition.\\n\\nLABORATORY STUDIES:  White count 19, hematocrit 41, platelets\\n300.  Chem-7:  127, 3.6, 88, 29, 17, 0.6, 143.  Troponin was\\nnegative.  CKs were negative times three.  Initial blood gas\\nshowed a pH of 7.4, pO2 of 66, pCO2 of 54.\\n\\nChest x-ray demonstrates a moderate sized hiatal hernia,\\nsegmental atelectasis, left lower lobe infiltrate versus\\nsegmental atelectasis.\\n\\nEKG shows normal sinus rhythm at 113 beats per minute, normal\\naxis, no evidence of ST-T wave changes.\\n\\nBRIEF SUMMARY OF HOSPITAL COURSE:\\n1. COPD/dyspnea/pneumonia:  The patient was initially placed\\non an aggressive steroid taper and admitted to the Medical\\nIntensive Care Unit due to her difficulty with oxygenation\\ndespite CPAP machine.  She was also given nebulizer\\ntreatments q.4h. as well as chest PT.  The nebulizers were\\nincreased to q.1h. due to the fact that she continued to have\\nlabored breathing.\\n\\nDue to persistent respiratory failure and labored breathing,\\nthe patient was intubated on [**2118-6-7**] in order to improve\\noxygenation, ventilation, and ability to suction.  A\\nbronchoscopy was performed on [**2118-6-7**], which demonstrated\\nmarked narrowing of the airways with expiration consistent\\nwith tracheomalacia.\\n\\nOn [**2118-6-9**], two silicone stents were placed, one in the left\\nmain stem (12 x 25 and one in the trachea 16 x 40) by Dr.\\n[**First Name (STitle) **] [**Name (STitle) **] under rigid bronchoscopy with general anesthesia.\\n\\nOn [**2118-6-11**], the patient was extubated to a cool mist shovel\\nmask and her oxygen was titrated down to 2 liters nasal\\ncannula at which time she was transferred to the medical\\nfloor.  On the medical floor, the steroids were weaned to off\\non [**2118-6-14**], and the patient was saturating at 97% on 2\\nliters, 92% on room air.\\n\\nOn [**2118-6-14**], the patient was seen again by the Interventional\\nPulmonology service, who agreed that she looked much improved\\nand recommended that she go to pulmonary rehabilitation with\\nfollowup within six weeks\\' time status post placement of\\nstents in respiratory failure.\\n\\n2. Cardiovascular:  The patient was ruled out for a MI.  She\\ndid have another episode on the medical floor of chest pain,\\nwhich showed no evidence of EKG changes and negative\\ntroponin, negative CKs x3.  She was continued on aspirin,\\nImdur, and diltiazem for rate control per her outpatient\\nregimen.\\n\\n3. Hypertension:  She was maintained on diltiazem and\\nhydrochlorothiazide with adequate blood pressure control and\\nnormalization of electrolytes.\\n\\n4. Hematuria:  The patient had intermittent hematuria likely\\nsecondary to Foley placement.  The Foley catheter was\\ndiscontinued on [**2118-6-14**].  She had serial urinalyses, which\\nwere all negative for signs of infection.\\n\\n5. Hyperglycemia:  Patient was placed on insulin-sliding\\nscale due to hyperglycemia, which was steroid induced.  This\\nworked quite well and her glucose came back to normal levels\\nonce the steroids were tapered to off.\\n\\n6. Leukocytosis:  Patient did have a profound leukocytosis of\\n20 to 22 during much of her hospital course.  As the steroids\\nwere tapered to off, her white blood cell count on [**2118-6-14**]\\nwas 15,000.  It was felt that the leukocytosis was secondary\\nto both steroids as well as question of a left lower lobe\\npneumonia.\\n\\n7. For the left lower lobe pneumonia, the patient had\\ninitially received a course of levofloxacin 500 p.o. q.d.\\nfrom [**2118-6-4**] to [**2118-6-10**].  This was restarted on [**2118-6-12**]\\nfor an additional seven day course given the fact that she\\nstill had the leukocytosis and still had marked rales at the\\nleft lower lobe.\\n\\n8. Hypothyroidism:  The patient was continued on outpatient\\nmedical regimen.\\n\\n9. Depression:  The patient was continued on Lexapro per\\noutpatient regimen.  It is recommended that she follow up\\nwith a therapist as an outpatient due to the fact that she\\ndid have a blunted affect throughout much of the hospital\\ncourse, and did appear clinically to be depressed.\\n\\n10. Prophylaxis:  She was maintained on proton-pump inhibitor\\nwith subQ Heparin.\\n\\n11. Sore throat:  The patient did have a sore throat for much\\nof the hospital course post extubation.  This was treated\\nwith Cepacol lozenges as well as KBL liquid (a solution\\ncontaining Kaopectate, Bismuth, and lidocaine) at bedtime.\\n\\n12. Communication/code status:  The patient was full code\\nthroughout her hospital course, and communication was\\nmaintained with the patient and her husband.\\n\\n13. Muscle weakness:  The patient did have profound muscle\\nweakness and was evaluated by Physical Therapy, and was found\\nto have impaired functional mobility, impaired\\nmusculoskeletal performance, impaired gas exchange, impaired\\nendurance, impaired ventilation, and needed help with supine\\nto sit.  However, she was able to tolerate sitting in a chair\\nfor approximately one hour.\\n\\nOn motor exam, her flexors and extensors of the lower\\nextremities were [**4-8**] at the knee, [**4-8**] at the ankle, [**4-8**] at\\nthe elbows, and [**4-8**] hips.  It was felt that this weakness was\\nmost likely due to a combination of steroid myopathy as well\\nas muscle atrophy secondary to deconditioning after a\\nprolonged hospital course.\\n\\n14. Speech/swallow:  The patient had a Speech and Swallow\\nevaluation showing no evidence of dysphagia, no evidence of\\nvocal cord damage status post tracheal stent placement.\\n\\nDISCHARGE CONDITION:  The patient was able to oxygenate on\\nroom air at 93% at the time of discharge.  She was profoundly\\nweak, but was no longer tachycardic and had a normal blood\\npressure.  Her respirations were much improved albeit with\\ntransmitted upper airway sounds.\\n\\nDISCHARGE STATUS:  The patient will be discharged to [**Hospital1 **]\\nfor both pulmonary and physical rehabilitation.\\n\\nDISCHARGE MEDICATIONS:\\n1. Levothyroxine 75 mcg p.o. q.d.\\n2. Citalopram 10 mg p.o. q.d.\\n3. Aspirin 81 mg p.o. q.d.\\n4. Fluticasone 110 mcg two puffs inhaled b.i.d.\\n5. Salmeterol Diskus one inhalation b.i.d.\\n6. Acetaminophen 325-650 mg p.o. q.4-6h. prn.\\n7. Ipratropium bromide MDI two puffs inhaled q.2h. prn.\\n8. Albuterol 1-2 puffs inhaled q.2h. prn.\\n9. Zolpidem tartrate 5 mg p.o. q.h.s. prn.\\n10. Isosorbide dinitrate 10 mg p.o. t.i.d.\\n11. Diltiazem 60 mg p.o. q.i.d.\\n12. Pantoprazole 40 mg p.o. q.24h.\\n13. Trazodone 25 mg p.o. q.h.s. prn.\\n14. SubQ Heparin 5000 units subcutaneous b.i.d. until such\\ntime that the patient is able to get out of bed twice a day.\\n15. Cepacol lozenges q.2h. prn.\\n16. Levofloxacin 500 mg p.o. q.d. for a seven day course to\\nbe completed on [**2118-6-21**].\\n17. Kaopectate/Benadryl/lidocaine 5 mL p.o. b.i.d. prn, not\\nto be given around mealtimes for concern of dysphagia induced\\nby lidocaine.\\n18. Lorazepam 0.5-2 mg IV q.6h. prn.\\n\\nFOLLOW-UP PLANS:  The patient is recommended to followup with\\nDr. [**First Name4 (NamePattern1) **] [**Last Name (NamePattern1) 1407**], [**Telephone/Fax (1) 1408**] within two weeks of leaving\\nof the hospital.  She is also recommended to followup with\\nthe Interventional Pulmonary service for followup status post\\nstent placement.  She is also recommended to followup with a\\nneurologist if her muscle weakness does not improve within\\none week on physical therapy with concern for steroid-induced\\nmyopathy.\\n\\nFINAL DIAGNOSES:\\n1. Tracheomalacia status post tracheal and left main stem\\nbronchial stent placement.\\n2. Hypertension.\\n3. Hypothyroidism.\\n4. Restrictive lung defect.\\n5. Depression.\\n\\n\\n                     DR.[**Last Name (STitle) **],[**First Name3 (LF) **] 12-207\\n\\n\\nDictated By:[**Last Name (NamePattern1) 1811**]\\nMEDQUIST36\\n\\nD:  [**2118-6-14**]  11:30\\nT:  [**2118-6-14**]  11:33\\nJOB#:  [**Job Number 1812**]\\n',\n",
              "       'Admission Date:  [**2119-5-4**]              Discharge Date:   [**2119-5-25**]\\n\\n\\nService: CARDIOTHORACIC\\n\\nAllergies:\\nAmlodipine\\n\\nAttending:[**Last Name (NamePattern1) 1561**]\\nChief Complaint:\\n81 yo F smoker w/ COPD, severe TBM, s/p tracheobronchoplasty [**5-5**]\\ns/p perc trach [**5-13**]\\n\\nMajor Surgical or Invasive Procedure:\\nbronchoscopy 3/31,4/2,3,[**6-12**], [**5-17**], [**5-19**]\\ns/p trachealplasty [**5-5**]\\npercutaneous tracheostomy [**5-13**] after failed extubation\\ndown size trach on [**5-25**] to size 6 cuffless\\n\\n\\nHistory of Present Illness:\\nThis 81 year old woman has a history of COPD. Over the past five\\n\\nyears she has had progressive difficulties with her breathing.\\nIn\\n[**2118-6-4**] she was admitted to [**Hospital1 18**] for respiratory failure\\ndue\\nto a COPD exacerbation. Due to persistent hypoxemia, she\\nrequired\\nintubation and a eventual bronchoscopy on [**2118-6-9**] revealed marked\\n\\nnarrowing of the airways on expiration consistent with\\ntracheomalacia.\\nShe subsequently underwent placement of two\\nsilicone stents, one in the left main stem and one in the\\ntrachea. During the admission the patient had complaints of\\nchest\\npain and ruled out for an MI. She was subsequently discharged to\\n\\n[**Hospital1 **] for physical and pulmonary rehab. Repeat bronchoscopy\\non\\n[**2118-8-1**] revealed granulation tissue at the distal right lateral\\nwall of the tracheal stent. There was significant malacia of the\\n\\nperipheral and central airways with complete collapse of the\\nairways on coughing and forced expiration. Small nodules were\\nalso noted on the vocal cords. She has noticed improvement in\\nher\\nrespiratory status, but most recently has been in discussion\\nwith Dr. [**First Name4 (NamePattern1) 951**] [**Last Name (NamePattern1) 952**] regarding possible tracheobronchial plasty\\n\\nwith mesh. Tracheal stents d/c [**2119-4-19**] in anticipation of\\nsurgery.\\nIn terms of symptoms, she describes many years of intermittent\\nchest pain that she describes as left sided and occurring at any\\n\\ntime. Currently, she notices it about three times a week, and\\nstates that it seems to resolve after three nitroglycerin.\\nShe currently is dependent on oxygen and wears 1.5-2 liters\\naround the clock. She has frequent coughing and brings up \"dark\\nsputum\".\\n\\n\\n\\nPast Medical History:\\nCOPD flare [**6-7**] s/p intubation, s/p distal tracheal to Left Main\\nStem stents placed [**2118-6-9**]. Stents d/c\\'d [**2119-4-19**], CAD w/ atypical\\nangina (LAD 30%, RCA 30%, EF 63%), ^chol, hypothyroidism, htn,\\nhiatal hernia, lacunar CVA, s/p ped struck -> head injury & rib\\nfx, depression\\nPMH:\\nCOPD, s/p admit [**6-7**] for exacerbation requiring intubation\\ntracheobronchomalacia, s/p bronchial stenting\\nLarge hiatal hernia\\nLacunar CVA\\nHypothyroidism by records in CCC, although patient denies and is\\n\\nnot taking any medication\\nDepression\\nMVA, s/p head injury approximately 10 years ago\\nHypertension\\nHysterectomy\\n\\n\\nSocial History:\\nSocial History: The patient is married and worked as a clinical\\npsychologist. Her husband is a pediatric neurologist at\\n[**Hospital3 **]. They have several children, one of which is\\n\\na nurse.\\n\\n\\nFamily History:\\nFamily History: (+) FHx CAD; Father with an MI in his 40\\'s, died\\n\\nof a CVA at age 59\\n\\n\\nPhysical Exam:\\nAdmit H+P\\nGeneral-lovely 81 yr old feamle in NAD.\\nNeuro- intermittently anxious, MAE, PERRLA, L eye ptosis,\\nsymetrical smile, gossly intact.\\nHEENT-PERRLA, sclera anicteric, pharynx- no exud or erythema\\nResp-clear upper, diffuse ronchi, intermit exp wheezes\\nCor- RRR, No M, R, G\\nAbd- soft, NT, ND, no masses. Slight protrusion at area of\\nhiatal hernia\\nExt- no edema or clubbing\\n\\nBrief Hospital Course:\\n82 y/o female admitted [**2119-5-4**] for consideration of\\ntracheoplasty.\\nBronchoscopy done [**5-4**] confirming severe TBM. Underwent\\ntracheoplasty [**5-5**], complicated by resp failure d/t mucous\\nplugging, hypoxia requiring re-intubation resulting in prolonged\\nICU and hospital course. Also developed right upper extrem DVT\\nfrom mid line.\\n\\nPain- Epidural accidently d/c\\'d POD#1, pt briefly used dilaudid\\nPCA intermittently w/ fair pain control. Pt required\\nre-intubation for resp failure d/t secretions and PCA d/c at\\nthat time. Propofol for sedation while intubated. Sedation d/c\\'d\\n[**5-12**] for weaning trial w/ ETT- failed trial. Trach [**5-13**]-weaning\\nefforts as below. Minimal c/o pain since [**5-13**]. Presently pain\\nfree.\\n\\nNeuro- Initially intact- post op aggitation, inhibiting weaning\\nefforts [**5-16**]. Psych eval [**5-18**]-Started on zyprexa and ativan w/\\nimprovement in anxiety. Presently A+Ox3- cooperative and lovely.\\n\\nResp- Extubated POD#2 then required re-intub  [**5-7**] for hypoxia\\nd/t poor cough and mucous plugging. SIMV/PS alt w/CMV at night\\nx4-5d, with CPAP attempts during day.\\nBronchoscopy qd [**Date range (1) 1813**] for secretion management. Bronch [**5-9**]\\nrevealed swollen epiglottis, bronch [**5-10**] - good leak w/ ETT cuff\\ndeflated. Bronch [**5-13**] for eval/trach placement. Last bronch [**5-19**]\\nw/ min secretions present, sputum sent.\\n[**5-13**] perc trach done(#8 Portex- cuffed low pressure maintained to\\npreserve tracheoplasty site). [**5-13**] CPAP15/peep5 initiated post\\ntrach placement. Weaning ongoing.  [**Date range (1) 1814**]- Aggressive weaning\\nw/ increasing episodes of CPAP, progressing to Trach Mask.\\n[**2033-5-20**]-Trach mask overnight w/ no episodes of SOB, or\\nhemodynamic instability. Trach changed to #6 portex- capped and\\n[**Last Name (un) 1815**] well x48hrs on 2LNP. productive cough. Aggressive PT as\\nwell w/ OOB > chair [**Hospital1 **]-tid to total 4-6hr qd. Ambulation\\n~100-120 ft [**5-22**] w/ PT assist.\\n\\nID- Vancomycin started post-op for graft prophylaxis. Fever\\nspike [**2119-5-8**] w/ BAl & sputum sent> + MRSA. Vanco cont to [**4-7**]\\nweeks post trachealplasty. Fever low grade [**5-12**], [**5-15**]> cultured-\\nno new results. [**5-19**]- WBC 20.8 .\\n\\nCardiac-Hypertension controlled w/ hydralazine IV, then d/c and\\ncont controlled. HR 65-75 NSR. Avoiding B Blockers. Lasix 20mg\\nIV qd.\\n[**5-15**]- RUE redness and swelling at site of midline, RUE DVT by\\nultrasound, midline d/c; heparin gtt started and therapeutic\\nrange monitored. [**5-22**]  changed to Lovenox sq [**Hospital1 **]. Coags in good\\ncontrol [**5-23**] (48.2/13.8/1.2)\\nAccess- R midline placed [**2119-5-9**] for access- clotted [**2119-5-15**] and\\nd/c\\'d.  RUE redness and swelling and DVT via ultrasound. [**5-15**]- L\\nbrachial PICC line placed- TPN resumed.\\n\\nGI-Large hiatal hernia- unable to place enteral feeding tube at\\nbedside or underfluoro. Re-attempt [**5-17**] by EGD doboff tube\\nplaced distal esophagus, dislodged in 12hours and removed.\\n\\nNutrition- PPN/TPN initiated [**2119-5-8**]- [**2119-5-25**]. PICC placed\\n[**2119-5-15**]. Speech and Swallow eval [**5-22**]- rec change trach form #8\\nto #6 Portex to allow improved epiglotis and oropharyngeal\\nmovement to assist w/ swallowing. Then re-eval.  Trach changed\\n[**5-23**] to #6 cuffless portex trach. Passed repeat swallow eval and\\n[**Last Name (un) 1815**] diet of regular solids w/ thin liquids- CHIN TUCK to\\nswallow thin liquids. Give meds whole w/ apple sauce. WOULD\\nRECOMMEND repeat video swallow eval in [**8-17**] days to possibly\\neliminate chin tuck- see page 3 referral.\\n\\nEndo- Hypothyroid, maintained on levoxyl.\\n\\nMuscu/Skel- OOB> chair 4-6hours/day, PT consulting.\\n\\n\\nMedications on Admission:\\nadvair 250/50\", atrovent, imdur 60\\', lasix 40\\', lexapro 20\\',\\nlipitor 10\\', prilosec 20\\', mucinex 600\", synthroid 75\\', detrol\\nLA 4\\', ambien 5\\', trazadone 75\\', melatonin prn\\n\\nDischarge Medications:\\n1. Albuterol Sulfate 0.083 % Solution Sig: One (1)  Inhalation\\nQ6H (every 6 hours) as needed for wheezing.\\n2. Ipratropium Bromide 0.02 % Solution Sig: One (1)  Inhalation\\nQ6H (every 6 hours) as needed for wheezing.\\n3. Fluticasone-Salmeterol 250-50 mcg/Dose Disk with Device Sig:\\nOne (1) Disk with Device Inhalation [**Hospital1 **] (2 times a day).\\n4. Albuterol 90 mcg/Actuation Aerosol Sig: 1-2 Puffs Inhalation\\nQ6H (every 6 hours) as needed.\\n5. Ipratropium Bromide 18 mcg/Actuation Aerosol Sig: Two (2)\\nPuff Inhalation QID (4 times a day).\\n6. Acetaminophen 325 mg Tablet Sig: 1-2 Tablets PO Q4-6H (every\\n4 to 6 hours) as needed.\\n7. Sodium Chloride 0.65 % Aerosol, Spray Sig: [**2-5**] Sprays Nasal\\nQID (4 times a day) as needed.\\n8. Camphor-Menthol 0.5-0.5 % Lotion Sig: One (1) Appl Topical\\nTID (3 times a day) as needed.\\n9. Enoxaparin Sodium 60 mg/0.6mL Syringe Sig: One (1)\\nSubcutaneous Q12H (every 12 hours).\\n10. Trazodone HCl 50 mg Tablet Sig: 1.5 Tablets PO HS (at\\nbedtime) as needed.\\n11. Escitalopram Oxalate 10 mg Tablet Sig: Two (2) Tablet PO\\nDAILY (Daily).\\n12. Nystatin 100,000 unit/g Cream Sig: One (1) Appl Topical  [**Hospital1 **]\\n(2 times a day).\\n13. Pantoprazole Sodium 40 mg Tablet, Delayed Release (E.C.)\\nSig: One (1) Tablet, Delayed Release (E.C.) PO Q24H (every 24\\nhours).\\n14. Tolterodine Tartrate 2 mg Tablet Sig: One (1) Tablet PO BID\\n(2 times a day).\\n15. Levothyroxine Sodium 75 mcg Tablet Sig: One (1) Tablet PO\\nDAILY (Daily).\\n16. Heparin Lock Flush (Porcine) 100 unit/mL Syringe Sig: One\\n(1) ML Intravenous  DAILY (Daily) as needed.\\n\\n\\nDischarge Disposition:\\nExtended Care\\n\\nFacility:\\n[**Hospital3 7**] & Rehab Center - [**Hospital1 8**]\\n\\nDischarge Diagnosis:\\nCOPD, Coronary Artery Disease/atypical angina (LAD 30%, RCA 30%,\\nEF 63%), hypercholesterolemia, hypothyroidism, Hypertension,\\nhiatal hernia, Cerebral Vascular Accident,s/p Motor Vehicle\\nColision-> head injury & rib fracture.\\nTBM- s/p tracheoplasty.\\n\\n\\nDischarge Condition:\\ngood\\n\\nDischarge Instructions:\\nplease update Dr.[**Name (NI) 1816**] [**Telephone/Fax (1) 170**] office for:  fever,\\nshortness of breath, chest pain , productive cough or if you\\nhave any questions or concerns.\\n\\n\\nCompleted by:[**2119-5-25**]',\n",
              "       ...,\n",
              "       'Family Meeting Note\\nFamily meeting held with both [** **], SW [**Name8 (MD) **], RN [**Doctor Last Name **] and myself. [**Known lastname 3491**] clinical course to date and thermal control discussed. Possible discharge for [**1-23**] set, [**Month/Year (2) **] understand that [**Known lastname 2243**] may not be ready. Pediatrician Dr. [**Last Name (STitle) 4002**] at [**Location (un) 861**] AFB identified. [**Location (un) 14**] desire circumcision prior to discharge. All parental questions and concerns addressed. Checklist completed and placed in chart.\\n',\n",
              "       \"NPN 1800\\n\\n\\n#1 Resp: [**Known lastname 2243**] remains in RA w/ RR 20's-50. O2sat 97-100%.\\nNo spells, no desats. Color pale pink, well perfused.\\nA: Stable in RA w/o spells.\\nP: Cont to monitor for change in resp. status.\\n#2 F/N: TF remain at 120cc/kg/[**Initials (NamePattern4) **] [**Known lastname 2243**] breast fed very well\\nX2 this AM, > 10 mins w/ milk present around mouth and in\\naspirate. PC'd for 15cc and 5cc. Baby was fed q 3 hrs this\\nshift. He bottle fed 25cc and 30cc this afternoon. He\\nrequired much encouragement to take bottles. Abd benign,\\nvoiding qs. Stooled X1 mod amt. transitional stool. No\\nspits.\\nA: Learning to breast feed, has an effective latch and is\\nable to sustain latch > 10 mins.\\nP: Cont to encourage breast feeding/oral feeds.\\n#3 Dev: [**Known lastname 2243**] remains in a heated isolette swaddled and\\npositioned supine. Baby waking himself earlier in shift for\\nfeeds, required waking later this afternoon. Alert and\\nactive, temps stable in weaning isolette now set at 29.7C,\\ndecreased from 33C.\\nA: 36 wks corrected. Able to wean isolette temp somewhat.\\nP: Cont to provide dev. supports.\\n#4 [**Known lastname 14**]: Mom discharged to home today. [**Known lastname 14**] in for\\nfamily meeting at 2pm; present were [**Name8 (MD) 299**], NNP, [**Initials (NamePattern4) **] [**Last Name (NamePattern4) 258**],\\nSoc. service and myself. [**Last Name (NamePattern4) 14**] asking many questions, very\\ninvested and involved in care. Mom tearful to leave infants.\\nMom is pumping about 20cc per pump session. Encouraged\\nfrequent pumpings and massage. Mom has a hospital grade pump\\nfor home use.\\nA: Invested and loving [**Last Name (NamePattern4) **]. Mother plans to be in\\ntomorrow to nurse [**First Name (Titles) **] [**Last Name (Titles) 4457**].\\nP: Cont parent support. Assess infant's readiness to nurse\\neach feeding.\\n#5 Bili: Phototherapy shut off at 10am. Jaundice mild. Blood\\ntype A neg, baby is [**Name2 (NI) **] neg.\\nA: Hyperbili of prematurity.\\nP: Recheck in AM.\\n\\n\\n\",\n",
              "       'NPN 1800\\nNursing Addendum:\\n[**Known lastname 2243**] was changed from PE20 to E24 today.\\n'],\n",
              "      dtype=object)"
            ]
          },
          "metadata": {},
          "execution_count": 6
        }
      ],
      "source": [
        "notes[\"TEXT\"].values"
      ]
    },
    {
      "cell_type": "code",
      "execution_count": null,
      "metadata": {
        "id": "bweSV_HI55bM",
        "colab": {
          "base_uri": "https://localhost:8080/"
        },
        "outputId": "73de5342-571b-4e5e-963b-9b5e6b892bd9"
      },
      "outputs": [
        {
          "output_type": "execute_result",
          "data": {
            "text/plain": [
              "(2083180, 11)"
            ]
          },
          "metadata": {},
          "execution_count": 7
        }
      ],
      "source": [
        "notes.shape"
      ]
    },
    {
      "cell_type": "code",
      "execution_count": null,
      "metadata": {
        "id": "1ntE-Mc659KF",
        "colab": {
          "base_uri": "https://localhost:8080/"
        },
        "outputId": "f5a8ba77-b41d-4207-cd95-c9b71284dfda"
      },
      "outputs": [
        {
          "output_type": "execute_result",
          "data": {
            "text/plain": [
              "<bound method NDFrame.describe of           ROW_ID  ...                                               TEXT\n",
              "0            174  ...  Admission Date:  [**2151-7-16**]       Dischar...\n",
              "1            175  ...  Admission Date:  [**2118-6-2**]       Discharg...\n",
              "2            176  ...  Admission Date:  [**2119-5-4**]              D...\n",
              "3            177  ...  Admission Date:  [**2124-7-21**]              ...\n",
              "4            178  ...  Admission Date:  [**2162-3-3**]              D...\n",
              "...          ...  ...                                                ...\n",
              "2083175  2070657  ...  NPN\\n\\n\\n#1  Infant remains in RA with O2 sats...\n",
              "2083176  2070658  ...  Neonatology\\nDOL #5, CGA 36 weeks.\\n\\nCVR: Con...\n",
              "2083177  2070659  ...  Family Meeting Note\\nFamily meeting held with ...\n",
              "2083178  2070660  ...  NPN 1800\\n\\n\\n#1 Resp: [**Known lastname 2243*...\n",
              "2083179  2070661  ...  NPN 1800\\nNursing Addendum:\\n[**Known lastname...\n",
              "\n",
              "[2083180 rows x 11 columns]>"
            ]
          },
          "metadata": {},
          "execution_count": 8
        }
      ],
      "source": [
        "notes.describe"
      ]
    },
    {
      "cell_type": "code",
      "execution_count": null,
      "metadata": {
        "id": "sFb5lrKX59Oy"
      },
      "outputs": [],
      "source": [
        ""
      ]
    },
    {
      "cell_type": "code",
      "execution_count": null,
      "metadata": {
        "id": "3WYlR4mf6d_g",
        "colab": {
          "base_uri": "https://localhost:8080/"
        },
        "outputId": "73fac0e1-d38f-471f-c870-612454f2603d"
      },
      "outputs": [
        {
          "output_type": "execute_result",
          "data": {
            "text/plain": [
              "Report                                             1132519\n",
              "Nursing Progress Note                               191836\n",
              "CHEST (PORTABLE AP)                                 169270\n",
              "Physician Resident Progress Note                     62698\n",
              "CHEST (PA & LAT)                                     43158\n",
              "                                                    ...   \n",
              "EP staff HVMA                                            1\n",
              "ICU Attending note                                       1\n",
              "B BREAST CORE BIOSPY UNDER US BILAT                      1\n",
              "R CT LOWER EXTREMITY MTS WITHOUT CONTRAST RIGHT          1\n",
              "Physical Therapy. Rehab Services                         1\n",
              "Name: DESCRIPTION, Length: 3848, dtype: int64"
            ]
          },
          "metadata": {},
          "execution_count": 9
        }
      ],
      "source": [
        "notes.DESCRIPTION.value_counts()"
      ]
    },
    {
      "cell_type": "code",
      "execution_count": null,
      "metadata": {
        "id": "vRHLuyCi6eFj",
        "colab": {
          "base_uri": "https://localhost:8080/"
        },
        "outputId": "673fa940-0ec5-42e6-df8c-5e42fedb2752"
      },
      "outputs": [
        {
          "output_type": "execute_result",
          "data": {
            "text/plain": [
              "Nursing/other        822497\n",
              "Radiology            522279\n",
              "Nursing              223556\n",
              "ECG                  209051\n",
              "Physician            141624\n",
              "Discharge summary     59652\n",
              "Echo                  45794\n",
              "Respiratory           31739\n",
              "Nutrition              9418\n",
              "General                8301\n",
              "Rehab Services         5431\n",
              "Social Work            2670\n",
              "Case Management         967\n",
              "Pharmacy                103\n",
              "Consult                  98\n",
              "Name: CATEGORY, dtype: int64"
            ]
          },
          "metadata": {},
          "execution_count": 10
        }
      ],
      "source": [
        "notes.CATEGORY.value_counts()"
      ]
    },
    {
      "cell_type": "code",
      "execution_count": null,
      "metadata": {
        "id": "jsn4_99o6eJ6"
      },
      "outputs": [],
      "source": [
        ""
      ]
    },
    {
      "cell_type": "code",
      "execution_count": null,
      "metadata": {
        "id": "jE2nxoGnxynr"
      },
      "outputs": [],
      "source": [
        "admissions = pd.read_csv(\"/content/ADMISSIONS.csv\")"
      ]
    },
    {
      "cell_type": "code",
      "execution_count": null,
      "metadata": {
        "id": "jb825P795HCq",
        "colab": {
          "base_uri": "https://localhost:8080/",
          "height": 790
        },
        "outputId": "665390c9-74b0-4f0b-d26b-70baf9aac3a4"
      },
      "outputs": [
        {
          "output_type": "execute_result",
          "data": {
            "text/html": [
              "<div>\n",
              "<style scoped>\n",
              "    .dataframe tbody tr th:only-of-type {\n",
              "        vertical-align: middle;\n",
              "    }\n",
              "\n",
              "    .dataframe tbody tr th {\n",
              "        vertical-align: top;\n",
              "    }\n",
              "\n",
              "    .dataframe thead th {\n",
              "        text-align: right;\n",
              "    }\n",
              "</style>\n",
              "<table border=\"1\" class=\"dataframe\">\n",
              "  <thead>\n",
              "    <tr style=\"text-align: right;\">\n",
              "      <th></th>\n",
              "      <th>ROW_ID</th>\n",
              "      <th>SUBJECT_ID</th>\n",
              "      <th>HADM_ID</th>\n",
              "      <th>ADMITTIME</th>\n",
              "      <th>DISCHTIME</th>\n",
              "      <th>DEATHTIME</th>\n",
              "      <th>ADMISSION_TYPE</th>\n",
              "      <th>ADMISSION_LOCATION</th>\n",
              "      <th>DISCHARGE_LOCATION</th>\n",
              "      <th>INSURANCE</th>\n",
              "      <th>LANGUAGE</th>\n",
              "      <th>RELIGION</th>\n",
              "      <th>MARITAL_STATUS</th>\n",
              "      <th>ETHNICITY</th>\n",
              "      <th>EDREGTIME</th>\n",
              "      <th>EDOUTTIME</th>\n",
              "      <th>DIAGNOSIS</th>\n",
              "      <th>HOSPITAL_EXPIRE_FLAG</th>\n",
              "      <th>HAS_CHARTEVENTS_DATA</th>\n",
              "    </tr>\n",
              "  </thead>\n",
              "  <tbody>\n",
              "    <tr>\n",
              "      <th>0</th>\n",
              "      <td>21</td>\n",
              "      <td>22</td>\n",
              "      <td>165315</td>\n",
              "      <td>2196-04-09 12:26:00</td>\n",
              "      <td>2196-04-10 15:54:00</td>\n",
              "      <td>NaN</td>\n",
              "      <td>EMERGENCY</td>\n",
              "      <td>EMERGENCY ROOM ADMIT</td>\n",
              "      <td>DISC-TRAN CANCER/CHLDRN H</td>\n",
              "      <td>Private</td>\n",
              "      <td>NaN</td>\n",
              "      <td>UNOBTAINABLE</td>\n",
              "      <td>MARRIED</td>\n",
              "      <td>WHITE</td>\n",
              "      <td>2196-04-09 10:06:00</td>\n",
              "      <td>2196-04-09 13:24:00</td>\n",
              "      <td>BENZODIAZEPINE OVERDOSE</td>\n",
              "      <td>0</td>\n",
              "      <td>1</td>\n",
              "    </tr>\n",
              "    <tr>\n",
              "      <th>1</th>\n",
              "      <td>22</td>\n",
              "      <td>23</td>\n",
              "      <td>152223</td>\n",
              "      <td>2153-09-03 07:15:00</td>\n",
              "      <td>2153-09-08 19:10:00</td>\n",
              "      <td>NaN</td>\n",
              "      <td>ELECTIVE</td>\n",
              "      <td>PHYS REFERRAL/NORMAL DELI</td>\n",
              "      <td>HOME HEALTH CARE</td>\n",
              "      <td>Medicare</td>\n",
              "      <td>NaN</td>\n",
              "      <td>CATHOLIC</td>\n",
              "      <td>MARRIED</td>\n",
              "      <td>WHITE</td>\n",
              "      <td>NaN</td>\n",
              "      <td>NaN</td>\n",
              "      <td>CORONARY ARTERY DISEASE\\CORONARY ARTERY BYPASS...</td>\n",
              "      <td>0</td>\n",
              "      <td>1</td>\n",
              "    </tr>\n",
              "    <tr>\n",
              "      <th>2</th>\n",
              "      <td>23</td>\n",
              "      <td>23</td>\n",
              "      <td>124321</td>\n",
              "      <td>2157-10-18 19:34:00</td>\n",
              "      <td>2157-10-25 14:00:00</td>\n",
              "      <td>NaN</td>\n",
              "      <td>EMERGENCY</td>\n",
              "      <td>TRANSFER FROM HOSP/EXTRAM</td>\n",
              "      <td>HOME HEALTH CARE</td>\n",
              "      <td>Medicare</td>\n",
              "      <td>ENGL</td>\n",
              "      <td>CATHOLIC</td>\n",
              "      <td>MARRIED</td>\n",
              "      <td>WHITE</td>\n",
              "      <td>NaN</td>\n",
              "      <td>NaN</td>\n",
              "      <td>BRAIN MASS</td>\n",
              "      <td>0</td>\n",
              "      <td>1</td>\n",
              "    </tr>\n",
              "    <tr>\n",
              "      <th>3</th>\n",
              "      <td>24</td>\n",
              "      <td>24</td>\n",
              "      <td>161859</td>\n",
              "      <td>2139-06-06 16:14:00</td>\n",
              "      <td>2139-06-09 12:48:00</td>\n",
              "      <td>NaN</td>\n",
              "      <td>EMERGENCY</td>\n",
              "      <td>TRANSFER FROM HOSP/EXTRAM</td>\n",
              "      <td>HOME</td>\n",
              "      <td>Private</td>\n",
              "      <td>NaN</td>\n",
              "      <td>PROTESTANT QUAKER</td>\n",
              "      <td>SINGLE</td>\n",
              "      <td>WHITE</td>\n",
              "      <td>NaN</td>\n",
              "      <td>NaN</td>\n",
              "      <td>INTERIOR MYOCARDIAL INFARCTION</td>\n",
              "      <td>0</td>\n",
              "      <td>1</td>\n",
              "    </tr>\n",
              "    <tr>\n",
              "      <th>4</th>\n",
              "      <td>25</td>\n",
              "      <td>25</td>\n",
              "      <td>129635</td>\n",
              "      <td>2160-11-02 02:06:00</td>\n",
              "      <td>2160-11-05 14:55:00</td>\n",
              "      <td>NaN</td>\n",
              "      <td>EMERGENCY</td>\n",
              "      <td>EMERGENCY ROOM ADMIT</td>\n",
              "      <td>HOME</td>\n",
              "      <td>Private</td>\n",
              "      <td>NaN</td>\n",
              "      <td>UNOBTAINABLE</td>\n",
              "      <td>MARRIED</td>\n",
              "      <td>WHITE</td>\n",
              "      <td>2160-11-02 01:01:00</td>\n",
              "      <td>2160-11-02 04:27:00</td>\n",
              "      <td>ACUTE CORONARY SYNDROME</td>\n",
              "      <td>0</td>\n",
              "      <td>1</td>\n",
              "    </tr>\n",
              "    <tr>\n",
              "      <th>...</th>\n",
              "      <td>...</td>\n",
              "      <td>...</td>\n",
              "      <td>...</td>\n",
              "      <td>...</td>\n",
              "      <td>...</td>\n",
              "      <td>...</td>\n",
              "      <td>...</td>\n",
              "      <td>...</td>\n",
              "      <td>...</td>\n",
              "      <td>...</td>\n",
              "      <td>...</td>\n",
              "      <td>...</td>\n",
              "      <td>...</td>\n",
              "      <td>...</td>\n",
              "      <td>...</td>\n",
              "      <td>...</td>\n",
              "      <td>...</td>\n",
              "      <td>...</td>\n",
              "      <td>...</td>\n",
              "    </tr>\n",
              "    <tr>\n",
              "      <th>58971</th>\n",
              "      <td>58594</td>\n",
              "      <td>98800</td>\n",
              "      <td>191113</td>\n",
              "      <td>2131-03-30 21:13:00</td>\n",
              "      <td>2131-04-02 15:02:00</td>\n",
              "      <td>NaN</td>\n",
              "      <td>EMERGENCY</td>\n",
              "      <td>CLINIC REFERRAL/PREMATURE</td>\n",
              "      <td>HOME</td>\n",
              "      <td>Private</td>\n",
              "      <td>ENGL</td>\n",
              "      <td>NOT SPECIFIED</td>\n",
              "      <td>SINGLE</td>\n",
              "      <td>WHITE</td>\n",
              "      <td>2131-03-30 19:44:00</td>\n",
              "      <td>2131-03-30 22:41:00</td>\n",
              "      <td>TRAUMA</td>\n",
              "      <td>0</td>\n",
              "      <td>1</td>\n",
              "    </tr>\n",
              "    <tr>\n",
              "      <th>58972</th>\n",
              "      <td>58595</td>\n",
              "      <td>98802</td>\n",
              "      <td>101071</td>\n",
              "      <td>2151-03-05 20:00:00</td>\n",
              "      <td>2151-03-06 09:10:00</td>\n",
              "      <td>2151-03-06 09:10:00</td>\n",
              "      <td>EMERGENCY</td>\n",
              "      <td>CLINIC REFERRAL/PREMATURE</td>\n",
              "      <td>DEAD/EXPIRED</td>\n",
              "      <td>Medicare</td>\n",
              "      <td>ENGL</td>\n",
              "      <td>CATHOLIC</td>\n",
              "      <td>WIDOWED</td>\n",
              "      <td>WHITE</td>\n",
              "      <td>2151-03-05 17:23:00</td>\n",
              "      <td>2151-03-05 21:06:00</td>\n",
              "      <td>SAH</td>\n",
              "      <td>1</td>\n",
              "      <td>1</td>\n",
              "    </tr>\n",
              "    <tr>\n",
              "      <th>58973</th>\n",
              "      <td>58596</td>\n",
              "      <td>98805</td>\n",
              "      <td>122631</td>\n",
              "      <td>2200-09-12 07:15:00</td>\n",
              "      <td>2200-09-20 12:08:00</td>\n",
              "      <td>NaN</td>\n",
              "      <td>ELECTIVE</td>\n",
              "      <td>PHYS REFERRAL/NORMAL DELI</td>\n",
              "      <td>HOME HEALTH CARE</td>\n",
              "      <td>Private</td>\n",
              "      <td>ENGL</td>\n",
              "      <td>NOT SPECIFIED</td>\n",
              "      <td>MARRIED</td>\n",
              "      <td>WHITE</td>\n",
              "      <td>NaN</td>\n",
              "      <td>NaN</td>\n",
              "      <td>RENAL CANCER/SDA</td>\n",
              "      <td>0</td>\n",
              "      <td>1</td>\n",
              "    </tr>\n",
              "    <tr>\n",
              "      <th>58974</th>\n",
              "      <td>58597</td>\n",
              "      <td>98813</td>\n",
              "      <td>170407</td>\n",
              "      <td>2128-11-11 02:29:00</td>\n",
              "      <td>2128-12-22 13:11:00</td>\n",
              "      <td>NaN</td>\n",
              "      <td>EMERGENCY</td>\n",
              "      <td>EMERGENCY ROOM ADMIT</td>\n",
              "      <td>SNF</td>\n",
              "      <td>Private</td>\n",
              "      <td>ENGL</td>\n",
              "      <td>CATHOLIC</td>\n",
              "      <td>MARRIED</td>\n",
              "      <td>WHITE</td>\n",
              "      <td>2128-11-10 23:48:00</td>\n",
              "      <td>2128-11-11 03:16:00</td>\n",
              "      <td>S/P FALL</td>\n",
              "      <td>0</td>\n",
              "      <td>0</td>\n",
              "    </tr>\n",
              "    <tr>\n",
              "      <th>58975</th>\n",
              "      <td>58598</td>\n",
              "      <td>98813</td>\n",
              "      <td>190264</td>\n",
              "      <td>2131-10-25 03:09:00</td>\n",
              "      <td>2131-10-26 17:44:00</td>\n",
              "      <td>NaN</td>\n",
              "      <td>EMERGENCY</td>\n",
              "      <td>CLINIC REFERRAL/PREMATURE</td>\n",
              "      <td>HOME</td>\n",
              "      <td>Private</td>\n",
              "      <td>ENGL</td>\n",
              "      <td>CATHOLIC</td>\n",
              "      <td>MARRIED</td>\n",
              "      <td>WHITE</td>\n",
              "      <td>2131-10-25 00:08:00</td>\n",
              "      <td>2131-10-25 04:35:00</td>\n",
              "      <td>INTRACRANIAL HEMORRHAGE</td>\n",
              "      <td>0</td>\n",
              "      <td>1</td>\n",
              "    </tr>\n",
              "  </tbody>\n",
              "</table>\n",
              "<p>58976 rows × 19 columns</p>\n",
              "</div>"
            ],
            "text/plain": [
              "       ROW_ID  SUBJECT_ID  ...  HOSPITAL_EXPIRE_FLAG HAS_CHARTEVENTS_DATA\n",
              "0          21          22  ...                     0                    1\n",
              "1          22          23  ...                     0                    1\n",
              "2          23          23  ...                     0                    1\n",
              "3          24          24  ...                     0                    1\n",
              "4          25          25  ...                     0                    1\n",
              "...       ...         ...  ...                   ...                  ...\n",
              "58971   58594       98800  ...                     0                    1\n",
              "58972   58595       98802  ...                     1                    1\n",
              "58973   58596       98805  ...                     0                    1\n",
              "58974   58597       98813  ...                     0                    0\n",
              "58975   58598       98813  ...                     0                    1\n",
              "\n",
              "[58976 rows x 19 columns]"
            ]
          },
          "metadata": {},
          "execution_count": 12
        }
      ],
      "source": [
        "admissions"
      ]
    },
    {
      "cell_type": "code",
      "execution_count": null,
      "metadata": {
        "id": "h2vW9aCNUn39",
        "colab": {
          "base_uri": "https://localhost:8080/"
        },
        "outputId": "24c60644-a08f-4fc2-ac6b-dac06132fb4f"
      },
      "outputs": [
        {
          "output_type": "execute_result",
          "data": {
            "text/plain": [
              "<bound method NDFrame.describe of 0        165315\n",
              "1        152223\n",
              "2        124321\n",
              "3        161859\n",
              "4        129635\n",
              "          ...  \n",
              "58971    191113\n",
              "58972    101071\n",
              "58973    122631\n",
              "58974    170407\n",
              "58975    190264\n",
              "Name: HADM_ID, Length: 58976, dtype: int64>"
            ]
          },
          "metadata": {},
          "execution_count": 13
        }
      ],
      "source": [
        "admissions.HADM_ID.describe"
      ]
    },
    {
      "cell_type": "code",
      "execution_count": null,
      "metadata": {
        "id": "UyJ35kJ9gg7c"
      },
      "outputs": [],
      "source": [
        "admissions = admissions.sort_values(['SUBJECT_ID','ADMITTIME'])\n",
        "admissions = admissions.reset_index(drop = True)\n"
      ]
    },
    {
      "cell_type": "code",
      "execution_count": null,
      "metadata": {
        "id": "Hd6udfmLiD2H",
        "colab": {
          "base_uri": "https://localhost:8080/",
          "height": 1000
        },
        "outputId": "9600ead9-8e22-4785-e8ee-8ae72aebe8ad"
      },
      "outputs": [
        {
          "output_type": "execute_result",
          "data": {
            "text/html": [
              "<div>\n",
              "<style scoped>\n",
              "    .dataframe tbody tr th:only-of-type {\n",
              "        vertical-align: middle;\n",
              "    }\n",
              "\n",
              "    .dataframe tbody tr th {\n",
              "        vertical-align: top;\n",
              "    }\n",
              "\n",
              "    .dataframe thead th {\n",
              "        text-align: right;\n",
              "    }\n",
              "</style>\n",
              "<table border=\"1\" class=\"dataframe\">\n",
              "  <thead>\n",
              "    <tr style=\"text-align: right;\">\n",
              "      <th></th>\n",
              "      <th>ROW_ID</th>\n",
              "      <th>SUBJECT_ID</th>\n",
              "      <th>HADM_ID</th>\n",
              "      <th>ADMITTIME</th>\n",
              "      <th>DISCHTIME</th>\n",
              "      <th>DEATHTIME</th>\n",
              "      <th>ADMISSION_TYPE</th>\n",
              "      <th>ADMISSION_LOCATION</th>\n",
              "      <th>DISCHARGE_LOCATION</th>\n",
              "      <th>INSURANCE</th>\n",
              "      <th>LANGUAGE</th>\n",
              "      <th>RELIGION</th>\n",
              "      <th>MARITAL_STATUS</th>\n",
              "      <th>ETHNICITY</th>\n",
              "      <th>EDREGTIME</th>\n",
              "      <th>EDOUTTIME</th>\n",
              "      <th>DIAGNOSIS</th>\n",
              "      <th>HOSPITAL_EXPIRE_FLAG</th>\n",
              "      <th>HAS_CHARTEVENTS_DATA</th>\n",
              "    </tr>\n",
              "  </thead>\n",
              "  <tbody>\n",
              "    <tr>\n",
              "      <th>0</th>\n",
              "      <td>1</td>\n",
              "      <td>2</td>\n",
              "      <td>163353</td>\n",
              "      <td>2138-07-17 19:04:00</td>\n",
              "      <td>2138-07-21 15:48:00</td>\n",
              "      <td>NaN</td>\n",
              "      <td>NEWBORN</td>\n",
              "      <td>PHYS REFERRAL/NORMAL DELI</td>\n",
              "      <td>HOME</td>\n",
              "      <td>Private</td>\n",
              "      <td>NaN</td>\n",
              "      <td>NOT SPECIFIED</td>\n",
              "      <td>NaN</td>\n",
              "      <td>ASIAN</td>\n",
              "      <td>NaN</td>\n",
              "      <td>NaN</td>\n",
              "      <td>NEWBORN</td>\n",
              "      <td>0</td>\n",
              "      <td>1</td>\n",
              "    </tr>\n",
              "    <tr>\n",
              "      <th>1</th>\n",
              "      <td>2</td>\n",
              "      <td>3</td>\n",
              "      <td>145834</td>\n",
              "      <td>2101-10-20 19:08:00</td>\n",
              "      <td>2101-10-31 13:58:00</td>\n",
              "      <td>NaN</td>\n",
              "      <td>EMERGENCY</td>\n",
              "      <td>EMERGENCY ROOM ADMIT</td>\n",
              "      <td>SNF</td>\n",
              "      <td>Medicare</td>\n",
              "      <td>NaN</td>\n",
              "      <td>CATHOLIC</td>\n",
              "      <td>MARRIED</td>\n",
              "      <td>WHITE</td>\n",
              "      <td>2101-10-20 17:09:00</td>\n",
              "      <td>2101-10-20 19:24:00</td>\n",
              "      <td>HYPOTENSION</td>\n",
              "      <td>0</td>\n",
              "      <td>1</td>\n",
              "    </tr>\n",
              "    <tr>\n",
              "      <th>2</th>\n",
              "      <td>3</td>\n",
              "      <td>4</td>\n",
              "      <td>185777</td>\n",
              "      <td>2191-03-16 00:28:00</td>\n",
              "      <td>2191-03-23 18:41:00</td>\n",
              "      <td>NaN</td>\n",
              "      <td>EMERGENCY</td>\n",
              "      <td>EMERGENCY ROOM ADMIT</td>\n",
              "      <td>HOME WITH HOME IV PROVIDR</td>\n",
              "      <td>Private</td>\n",
              "      <td>NaN</td>\n",
              "      <td>PROTESTANT QUAKER</td>\n",
              "      <td>SINGLE</td>\n",
              "      <td>WHITE</td>\n",
              "      <td>2191-03-15 13:10:00</td>\n",
              "      <td>2191-03-16 01:10:00</td>\n",
              "      <td>FEVER,DEHYDRATION,FAILURE TO THRIVE</td>\n",
              "      <td>0</td>\n",
              "      <td>1</td>\n",
              "    </tr>\n",
              "    <tr>\n",
              "      <th>3</th>\n",
              "      <td>4</td>\n",
              "      <td>5</td>\n",
              "      <td>178980</td>\n",
              "      <td>2103-02-02 04:31:00</td>\n",
              "      <td>2103-02-04 12:15:00</td>\n",
              "      <td>NaN</td>\n",
              "      <td>NEWBORN</td>\n",
              "      <td>PHYS REFERRAL/NORMAL DELI</td>\n",
              "      <td>HOME</td>\n",
              "      <td>Private</td>\n",
              "      <td>NaN</td>\n",
              "      <td>BUDDHIST</td>\n",
              "      <td>NaN</td>\n",
              "      <td>ASIAN</td>\n",
              "      <td>NaN</td>\n",
              "      <td>NaN</td>\n",
              "      <td>NEWBORN</td>\n",
              "      <td>0</td>\n",
              "      <td>1</td>\n",
              "    </tr>\n",
              "    <tr>\n",
              "      <th>4</th>\n",
              "      <td>5</td>\n",
              "      <td>6</td>\n",
              "      <td>107064</td>\n",
              "      <td>2175-05-30 07:15:00</td>\n",
              "      <td>2175-06-15 16:00:00</td>\n",
              "      <td>NaN</td>\n",
              "      <td>ELECTIVE</td>\n",
              "      <td>PHYS REFERRAL/NORMAL DELI</td>\n",
              "      <td>HOME HEALTH CARE</td>\n",
              "      <td>Medicare</td>\n",
              "      <td>ENGL</td>\n",
              "      <td>NOT SPECIFIED</td>\n",
              "      <td>MARRIED</td>\n",
              "      <td>WHITE</td>\n",
              "      <td>NaN</td>\n",
              "      <td>NaN</td>\n",
              "      <td>CHRONIC RENAL FAILURE/SDA</td>\n",
              "      <td>0</td>\n",
              "      <td>1</td>\n",
              "    </tr>\n",
              "    <tr>\n",
              "      <th>5</th>\n",
              "      <td>6</td>\n",
              "      <td>7</td>\n",
              "      <td>118037</td>\n",
              "      <td>2121-05-23 15:05:00</td>\n",
              "      <td>2121-05-27 11:57:00</td>\n",
              "      <td>NaN</td>\n",
              "      <td>NEWBORN</td>\n",
              "      <td>PHYS REFERRAL/NORMAL DELI</td>\n",
              "      <td>HOME</td>\n",
              "      <td>Private</td>\n",
              "      <td>NaN</td>\n",
              "      <td>CATHOLIC</td>\n",
              "      <td>NaN</td>\n",
              "      <td>WHITE</td>\n",
              "      <td>NaN</td>\n",
              "      <td>NaN</td>\n",
              "      <td>NEWBORN</td>\n",
              "      <td>0</td>\n",
              "      <td>1</td>\n",
              "    </tr>\n",
              "    <tr>\n",
              "      <th>6</th>\n",
              "      <td>7</td>\n",
              "      <td>8</td>\n",
              "      <td>159514</td>\n",
              "      <td>2117-11-20 10:22:00</td>\n",
              "      <td>2117-11-24 14:20:00</td>\n",
              "      <td>NaN</td>\n",
              "      <td>NEWBORN</td>\n",
              "      <td>PHYS REFERRAL/NORMAL DELI</td>\n",
              "      <td>HOME</td>\n",
              "      <td>Private</td>\n",
              "      <td>NaN</td>\n",
              "      <td>CATHOLIC</td>\n",
              "      <td>NaN</td>\n",
              "      <td>WHITE</td>\n",
              "      <td>NaN</td>\n",
              "      <td>NaN</td>\n",
              "      <td>NEWBORN</td>\n",
              "      <td>0</td>\n",
              "      <td>1</td>\n",
              "    </tr>\n",
              "    <tr>\n",
              "      <th>7</th>\n",
              "      <td>8</td>\n",
              "      <td>9</td>\n",
              "      <td>150750</td>\n",
              "      <td>2149-11-09 13:06:00</td>\n",
              "      <td>2149-11-14 10:15:00</td>\n",
              "      <td>2149-11-14 10:15:00</td>\n",
              "      <td>EMERGENCY</td>\n",
              "      <td>EMERGENCY ROOM ADMIT</td>\n",
              "      <td>DEAD/EXPIRED</td>\n",
              "      <td>Medicaid</td>\n",
              "      <td>NaN</td>\n",
              "      <td>UNOBTAINABLE</td>\n",
              "      <td>NaN</td>\n",
              "      <td>UNKNOWN/NOT SPECIFIED</td>\n",
              "      <td>2149-11-09 11:13:00</td>\n",
              "      <td>2149-11-09 13:18:00</td>\n",
              "      <td>HEMORRHAGIC CVA</td>\n",
              "      <td>1</td>\n",
              "      <td>1</td>\n",
              "    </tr>\n",
              "    <tr>\n",
              "      <th>8</th>\n",
              "      <td>9</td>\n",
              "      <td>10</td>\n",
              "      <td>184167</td>\n",
              "      <td>2103-06-28 11:36:00</td>\n",
              "      <td>2103-07-06 12:10:00</td>\n",
              "      <td>NaN</td>\n",
              "      <td>NEWBORN</td>\n",
              "      <td>PHYS REFERRAL/NORMAL DELI</td>\n",
              "      <td>SHORT TERM HOSPITAL</td>\n",
              "      <td>Medicaid</td>\n",
              "      <td>NaN</td>\n",
              "      <td>UNOBTAINABLE</td>\n",
              "      <td>NaN</td>\n",
              "      <td>BLACK/AFRICAN AMERICAN</td>\n",
              "      <td>NaN</td>\n",
              "      <td>NaN</td>\n",
              "      <td>NEWBORN</td>\n",
              "      <td>0</td>\n",
              "      <td>1</td>\n",
              "    </tr>\n",
              "    <tr>\n",
              "      <th>9</th>\n",
              "      <td>10</td>\n",
              "      <td>11</td>\n",
              "      <td>194540</td>\n",
              "      <td>2178-04-16 06:18:00</td>\n",
              "      <td>2178-05-11 19:00:00</td>\n",
              "      <td>NaN</td>\n",
              "      <td>EMERGENCY</td>\n",
              "      <td>EMERGENCY ROOM ADMIT</td>\n",
              "      <td>HOME HEALTH CARE</td>\n",
              "      <td>Private</td>\n",
              "      <td>NaN</td>\n",
              "      <td>OTHER</td>\n",
              "      <td>MARRIED</td>\n",
              "      <td>WHITE</td>\n",
              "      <td>2178-04-15 20:46:00</td>\n",
              "      <td>2178-04-16 06:53:00</td>\n",
              "      <td>BRAIN MASS</td>\n",
              "      <td>0</td>\n",
              "      <td>1</td>\n",
              "    </tr>\n",
              "    <tr>\n",
              "      <th>10</th>\n",
              "      <td>11</td>\n",
              "      <td>12</td>\n",
              "      <td>112213</td>\n",
              "      <td>2104-08-07 10:15:00</td>\n",
              "      <td>2104-08-20 02:57:00</td>\n",
              "      <td>2104-08-20 02:57:00</td>\n",
              "      <td>ELECTIVE</td>\n",
              "      <td>PHYS REFERRAL/NORMAL DELI</td>\n",
              "      <td>DEAD/EXPIRED</td>\n",
              "      <td>Medicare</td>\n",
              "      <td>NaN</td>\n",
              "      <td>JEWISH</td>\n",
              "      <td>MARRIED</td>\n",
              "      <td>WHITE</td>\n",
              "      <td>NaN</td>\n",
              "      <td>NaN</td>\n",
              "      <td>PANCREATIC CANCER/SDA</td>\n",
              "      <td>1</td>\n",
              "      <td>1</td>\n",
              "    </tr>\n",
              "    <tr>\n",
              "      <th>11</th>\n",
              "      <td>12</td>\n",
              "      <td>13</td>\n",
              "      <td>143045</td>\n",
              "      <td>2167-01-08 18:43:00</td>\n",
              "      <td>2167-01-15 15:15:00</td>\n",
              "      <td>NaN</td>\n",
              "      <td>EMERGENCY</td>\n",
              "      <td>TRANSFER FROM HOSP/EXTRAM</td>\n",
              "      <td>HOME HEALTH CARE</td>\n",
              "      <td>Medicaid</td>\n",
              "      <td>NaN</td>\n",
              "      <td>OTHER</td>\n",
              "      <td>NaN</td>\n",
              "      <td>WHITE</td>\n",
              "      <td>NaN</td>\n",
              "      <td>NaN</td>\n",
              "      <td>CORONARY ARTERY DISEASE</td>\n",
              "      <td>0</td>\n",
              "      <td>1</td>\n",
              "    </tr>\n",
              "    <tr>\n",
              "      <th>12</th>\n",
              "      <td>13</td>\n",
              "      <td>16</td>\n",
              "      <td>103251</td>\n",
              "      <td>2178-02-03 06:35:00</td>\n",
              "      <td>2178-02-05 10:51:00</td>\n",
              "      <td>NaN</td>\n",
              "      <td>NEWBORN</td>\n",
              "      <td>PHYS REFERRAL/NORMAL DELI</td>\n",
              "      <td>HOME</td>\n",
              "      <td>Private</td>\n",
              "      <td>NaN</td>\n",
              "      <td>UNOBTAINABLE</td>\n",
              "      <td>NaN</td>\n",
              "      <td>WHITE</td>\n",
              "      <td>NaN</td>\n",
              "      <td>NaN</td>\n",
              "      <td>NEWBORN</td>\n",
              "      <td>0</td>\n",
              "      <td>1</td>\n",
              "    </tr>\n",
              "    <tr>\n",
              "      <th>13</th>\n",
              "      <td>14</td>\n",
              "      <td>17</td>\n",
              "      <td>194023</td>\n",
              "      <td>2134-12-27 07:15:00</td>\n",
              "      <td>2134-12-31 16:05:00</td>\n",
              "      <td>NaN</td>\n",
              "      <td>ELECTIVE</td>\n",
              "      <td>PHYS REFERRAL/NORMAL DELI</td>\n",
              "      <td>HOME HEALTH CARE</td>\n",
              "      <td>Private</td>\n",
              "      <td>ENGL</td>\n",
              "      <td>CATHOLIC</td>\n",
              "      <td>MARRIED</td>\n",
              "      <td>WHITE</td>\n",
              "      <td>NaN</td>\n",
              "      <td>NaN</td>\n",
              "      <td>PATIENT FORAMEN OVALE\\ PATENT FORAMEN OVALE MI...</td>\n",
              "      <td>0</td>\n",
              "      <td>1</td>\n",
              "    </tr>\n",
              "    <tr>\n",
              "      <th>14</th>\n",
              "      <td>15</td>\n",
              "      <td>17</td>\n",
              "      <td>161087</td>\n",
              "      <td>2135-05-09 14:11:00</td>\n",
              "      <td>2135-05-13 14:40:00</td>\n",
              "      <td>NaN</td>\n",
              "      <td>EMERGENCY</td>\n",
              "      <td>EMERGENCY ROOM ADMIT</td>\n",
              "      <td>HOME HEALTH CARE</td>\n",
              "      <td>Private</td>\n",
              "      <td>ENGL</td>\n",
              "      <td>CATHOLIC</td>\n",
              "      <td>MARRIED</td>\n",
              "      <td>WHITE</td>\n",
              "      <td>2135-05-09 11:27:00</td>\n",
              "      <td>2135-05-09 13:45:00</td>\n",
              "      <td>PERICARDIAL EFFUSION</td>\n",
              "      <td>0</td>\n",
              "      <td>1</td>\n",
              "    </tr>\n",
              "    <tr>\n",
              "      <th>15</th>\n",
              "      <td>16</td>\n",
              "      <td>18</td>\n",
              "      <td>188822</td>\n",
              "      <td>2167-10-02 11:18:00</td>\n",
              "      <td>2167-10-04 16:15:00</td>\n",
              "      <td>NaN</td>\n",
              "      <td>EMERGENCY</td>\n",
              "      <td>PHYS REFERRAL/NORMAL DELI</td>\n",
              "      <td>HOME</td>\n",
              "      <td>Private</td>\n",
              "      <td>NaN</td>\n",
              "      <td>CATHOLIC</td>\n",
              "      <td>MARRIED</td>\n",
              "      <td>WHITE</td>\n",
              "      <td>NaN</td>\n",
              "      <td>NaN</td>\n",
              "      <td>HYPOGLYCEMIA;SEIZURES</td>\n",
              "      <td>0</td>\n",
              "      <td>1</td>\n",
              "    </tr>\n",
              "    <tr>\n",
              "      <th>16</th>\n",
              "      <td>17</td>\n",
              "      <td>19</td>\n",
              "      <td>109235</td>\n",
              "      <td>2108-08-05 16:25:00</td>\n",
              "      <td>2108-08-11 11:29:00</td>\n",
              "      <td>NaN</td>\n",
              "      <td>EMERGENCY</td>\n",
              "      <td>EMERGENCY ROOM ADMIT</td>\n",
              "      <td>REHAB/DISTINCT PART HOSP</td>\n",
              "      <td>Medicare</td>\n",
              "      <td>NaN</td>\n",
              "      <td>UNOBTAINABLE</td>\n",
              "      <td>NaN</td>\n",
              "      <td>WHITE</td>\n",
              "      <td>2108-08-05 08:01:00</td>\n",
              "      <td>2108-08-05 20:12:00</td>\n",
              "      <td>C-2 FRACTURE</td>\n",
              "      <td>0</td>\n",
              "      <td>1</td>\n",
              "    </tr>\n",
              "    <tr>\n",
              "      <th>17</th>\n",
              "      <td>18</td>\n",
              "      <td>20</td>\n",
              "      <td>157681</td>\n",
              "      <td>2183-04-28 09:45:00</td>\n",
              "      <td>2183-05-03 14:45:00</td>\n",
              "      <td>NaN</td>\n",
              "      <td>ELECTIVE</td>\n",
              "      <td>PHYS REFERRAL/NORMAL DELI</td>\n",
              "      <td>HOME</td>\n",
              "      <td>Medicare</td>\n",
              "      <td>NaN</td>\n",
              "      <td>CATHOLIC</td>\n",
              "      <td>WIDOWED</td>\n",
              "      <td>WHITE</td>\n",
              "      <td>NaN</td>\n",
              "      <td>NaN</td>\n",
              "      <td>CORONARY ARTERY DISEASE\\CORONARY ARTERY BYPASS...</td>\n",
              "      <td>0</td>\n",
              "      <td>1</td>\n",
              "    </tr>\n",
              "    <tr>\n",
              "      <th>18</th>\n",
              "      <td>19</td>\n",
              "      <td>21</td>\n",
              "      <td>109451</td>\n",
              "      <td>2134-09-11 12:17:00</td>\n",
              "      <td>2134-09-24 16:15:00</td>\n",
              "      <td>NaN</td>\n",
              "      <td>EMERGENCY</td>\n",
              "      <td>EMERGENCY ROOM ADMIT</td>\n",
              "      <td>REHAB/DISTINCT PART HOSP</td>\n",
              "      <td>Medicare</td>\n",
              "      <td>NaN</td>\n",
              "      <td>JEWISH</td>\n",
              "      <td>MARRIED</td>\n",
              "      <td>WHITE</td>\n",
              "      <td>2134-09-11 09:22:00</td>\n",
              "      <td>2134-09-11 22:30:00</td>\n",
              "      <td>CONGESTIVE HEART FAILURE</td>\n",
              "      <td>0</td>\n",
              "      <td>1</td>\n",
              "    </tr>\n",
              "    <tr>\n",
              "      <th>19</th>\n",
              "      <td>20</td>\n",
              "      <td>21</td>\n",
              "      <td>111970</td>\n",
              "      <td>2135-01-30 20:50:00</td>\n",
              "      <td>2135-02-08 02:08:00</td>\n",
              "      <td>2135-02-08 02:08:00</td>\n",
              "      <td>EMERGENCY</td>\n",
              "      <td>EMERGENCY ROOM ADMIT</td>\n",
              "      <td>DEAD/EXPIRED</td>\n",
              "      <td>Medicare</td>\n",
              "      <td>NaN</td>\n",
              "      <td>JEWISH</td>\n",
              "      <td>MARRIED</td>\n",
              "      <td>WHITE</td>\n",
              "      <td>2135-01-30 18:46:00</td>\n",
              "      <td>2135-01-30 22:05:00</td>\n",
              "      <td>SEPSIS</td>\n",
              "      <td>1</td>\n",
              "      <td>1</td>\n",
              "    </tr>\n",
              "  </tbody>\n",
              "</table>\n",
              "</div>"
            ],
            "text/plain": [
              "    ROW_ID  SUBJECT_ID  ...  HOSPITAL_EXPIRE_FLAG HAS_CHARTEVENTS_DATA\n",
              "0        1           2  ...                     0                    1\n",
              "1        2           3  ...                     0                    1\n",
              "2        3           4  ...                     0                    1\n",
              "3        4           5  ...                     0                    1\n",
              "4        5           6  ...                     0                    1\n",
              "5        6           7  ...                     0                    1\n",
              "6        7           8  ...                     0                    1\n",
              "7        8           9  ...                     1                    1\n",
              "8        9          10  ...                     0                    1\n",
              "9       10          11  ...                     0                    1\n",
              "10      11          12  ...                     1                    1\n",
              "11      12          13  ...                     0                    1\n",
              "12      13          16  ...                     0                    1\n",
              "13      14          17  ...                     0                    1\n",
              "14      15          17  ...                     0                    1\n",
              "15      16          18  ...                     0                    1\n",
              "16      17          19  ...                     0                    1\n",
              "17      18          20  ...                     0                    1\n",
              "18      19          21  ...                     0                    1\n",
              "19      20          21  ...                     1                    1\n",
              "\n",
              "[20 rows x 19 columns]"
            ]
          },
          "metadata": {},
          "execution_count": 15
        }
      ],
      "source": [
        "admissions.head(20)"
      ]
    },
    {
      "cell_type": "code",
      "execution_count": null,
      "metadata": {
        "id": "_b5wx_OOJdQC",
        "colab": {
          "base_uri": "https://localhost:8080/"
        },
        "outputId": "7584c6e2-286a-4dd7-ddf3-7654295a5cc0"
      },
      "outputs": [
        {
          "output_type": "execute_result",
          "data": {
            "text/plain": [
              "NEWBORN                                                                     7823\n",
              "PNEUMONIA                                                                   1566\n",
              "SEPSIS                                                                      1184\n",
              "CONGESTIVE HEART FAILURE                                                     928\n",
              "CORONARY ARTERY DISEASE                                                      840\n",
              "                                                                            ... \n",
              "MULTIPLE FRACTURES,FRONTAL CONTUSIONS                                          1\n",
              "MORBID OBESITY;INCISIONAL HERNIA;GALLSTONES/SDA                                1\n",
              "ATRIAL SEPTIC DEFECT\\REPAIR ATRIAL SEPTAL DEFECT;MINIMALLY INVASIVE /SDA       1\n",
              "ADENAL CARCINOMA OF LIVER/SDA                                                  1\n",
              "SHORTNESS OF BREATH;MITRAL VALVE DISEASE                                       1\n",
              "Name: DIAGNOSIS, Length: 15691, dtype: int64"
            ]
          },
          "metadata": {},
          "execution_count": 16
        }
      ],
      "source": [
        "admissions.DIAGNOSIS.value_counts()"
      ]
    },
    {
      "cell_type": "code",
      "execution_count": null,
      "metadata": {
        "id": "BoOePjkWJaXi",
        "colab": {
          "base_uri": "https://localhost:8080/"
        },
        "outputId": "fdd0150e-9e44-444b-cbee-068591dfa800"
      },
      "outputs": [
        {
          "output_type": "execute_result",
          "data": {
            "text/plain": [
              "(58976, 19)"
            ]
          },
          "metadata": {},
          "execution_count": 17
        }
      ],
      "source": [
        "admissions.shape"
      ]
    },
    {
      "cell_type": "code",
      "execution_count": null,
      "metadata": {
        "id": "IrHrk1cNjIAf",
        "colab": {
          "base_uri": "https://localhost:8080/",
          "height": 153
        },
        "outputId": "db9326a5-859c-4a87-b0fd-d5666ce0bf09"
      },
      "outputs": [
        {
          "output_type": "execute_result",
          "data": {
            "text/html": [
              "<div>\n",
              "<style scoped>\n",
              "    .dataframe tbody tr th:only-of-type {\n",
              "        vertical-align: middle;\n",
              "    }\n",
              "\n",
              "    .dataframe tbody tr th {\n",
              "        vertical-align: top;\n",
              "    }\n",
              "\n",
              "    .dataframe thead th {\n",
              "        text-align: right;\n",
              "    }\n",
              "</style>\n",
              "<table border=\"1\" class=\"dataframe\">\n",
              "  <thead>\n",
              "    <tr style=\"text-align: right;\">\n",
              "      <th></th>\n",
              "      <th>ROW_ID</th>\n",
              "      <th>SUBJECT_ID</th>\n",
              "      <th>HADM_ID</th>\n",
              "      <th>ADMITTIME</th>\n",
              "      <th>DISCHTIME</th>\n",
              "      <th>DEATHTIME</th>\n",
              "      <th>ADMISSION_TYPE</th>\n",
              "      <th>ADMISSION_LOCATION</th>\n",
              "      <th>DISCHARGE_LOCATION</th>\n",
              "      <th>INSURANCE</th>\n",
              "      <th>LANGUAGE</th>\n",
              "      <th>RELIGION</th>\n",
              "      <th>MARITAL_STATUS</th>\n",
              "      <th>ETHNICITY</th>\n",
              "      <th>EDREGTIME</th>\n",
              "      <th>EDOUTTIME</th>\n",
              "      <th>DIAGNOSIS</th>\n",
              "      <th>HOSPITAL_EXPIRE_FLAG</th>\n",
              "      <th>HAS_CHARTEVENTS_DATA</th>\n",
              "    </tr>\n",
              "  </thead>\n",
              "  <tbody>\n",
              "    <tr>\n",
              "      <th>102</th>\n",
              "      <td>103</td>\n",
              "      <td>100</td>\n",
              "      <td>153952</td>\n",
              "      <td>2157-08-10 07:15:00</td>\n",
              "      <td>2157-08-18 19:54:00</td>\n",
              "      <td>NaN</td>\n",
              "      <td>ELECTIVE</td>\n",
              "      <td>PHYS REFERRAL/NORMAL DELI</td>\n",
              "      <td>HOME</td>\n",
              "      <td>Private</td>\n",
              "      <td>NaN</td>\n",
              "      <td>CATHOLIC</td>\n",
              "      <td>WIDOWED</td>\n",
              "      <td>UNKNOWN/NOT SPECIFIED</td>\n",
              "      <td>NaN</td>\n",
              "      <td>NaN</td>\n",
              "      <td>AORTIC INSUFFICIENCY\\AORTIC VALVE REPLACEMENT;...</td>\n",
              "      <td>0</td>\n",
              "      <td>1</td>\n",
              "    </tr>\n",
              "  </tbody>\n",
              "</table>\n",
              "</div>"
            ],
            "text/plain": [
              "     ROW_ID  SUBJECT_ID  ...  HOSPITAL_EXPIRE_FLAG HAS_CHARTEVENTS_DATA\n",
              "102     103         100  ...                     0                    1\n",
              "\n",
              "[1 rows x 19 columns]"
            ]
          },
          "metadata": {},
          "execution_count": 18
        }
      ],
      "source": [
        "admissions.loc[admissions.SUBJECT_ID == 100]"
      ]
    },
    {
      "cell_type": "code",
      "execution_count": null,
      "metadata": {
        "id": "bZG0zp4FiiLI",
        "colab": {
          "base_uri": "https://localhost:8080/",
          "height": 202
        },
        "outputId": "fbc2aea0-2038-4e73-ce7e-9716589107ef"
      },
      "outputs": [
        {
          "output_type": "execute_result",
          "data": {
            "text/html": [
              "<div>\n",
              "<style scoped>\n",
              "    .dataframe tbody tr th:only-of-type {\n",
              "        vertical-align: middle;\n",
              "    }\n",
              "\n",
              "    .dataframe tbody tr th {\n",
              "        vertical-align: top;\n",
              "    }\n",
              "\n",
              "    .dataframe thead th {\n",
              "        text-align: right;\n",
              "    }\n",
              "</style>\n",
              "<table border=\"1\" class=\"dataframe\">\n",
              "  <thead>\n",
              "    <tr style=\"text-align: right;\">\n",
              "      <th></th>\n",
              "      <th>ROW_ID</th>\n",
              "      <th>SUBJECT_ID</th>\n",
              "      <th>HADM_ID</th>\n",
              "      <th>ADMITTIME</th>\n",
              "      <th>DISCHTIME</th>\n",
              "      <th>DEATHTIME</th>\n",
              "      <th>ADMISSION_TYPE</th>\n",
              "      <th>ADMISSION_LOCATION</th>\n",
              "      <th>DISCHARGE_LOCATION</th>\n",
              "      <th>INSURANCE</th>\n",
              "      <th>LANGUAGE</th>\n",
              "      <th>RELIGION</th>\n",
              "      <th>MARITAL_STATUS</th>\n",
              "      <th>ETHNICITY</th>\n",
              "      <th>EDREGTIME</th>\n",
              "      <th>EDOUTTIME</th>\n",
              "      <th>DIAGNOSIS</th>\n",
              "      <th>HOSPITAL_EXPIRE_FLAG</th>\n",
              "      <th>HAS_CHARTEVENTS_DATA</th>\n",
              "    </tr>\n",
              "  </thead>\n",
              "  <tbody>\n",
              "    <tr>\n",
              "      <th>572</th>\n",
              "      <td>573</td>\n",
              "      <td>450</td>\n",
              "      <td>105452</td>\n",
              "      <td>2155-05-10 18:12:00</td>\n",
              "      <td>2155-05-28 16:00:00</td>\n",
              "      <td>NaN</td>\n",
              "      <td>EMERGENCY</td>\n",
              "      <td>EMERGENCY ROOM ADMIT</td>\n",
              "      <td>SNF</td>\n",
              "      <td>Medicare</td>\n",
              "      <td>NaN</td>\n",
              "      <td>CATHOLIC</td>\n",
              "      <td>MARRIED</td>\n",
              "      <td>HISPANIC OR LATINO</td>\n",
              "      <td>2155-05-10 15:02:00</td>\n",
              "      <td>2155-05-10 20:15:00</td>\n",
              "      <td>SEPSIS</td>\n",
              "      <td>0</td>\n",
              "      <td>1</td>\n",
              "    </tr>\n",
              "    <tr>\n",
              "      <th>573</th>\n",
              "      <td>574</td>\n",
              "      <td>450</td>\n",
              "      <td>182829</td>\n",
              "      <td>2155-07-24 13:28:00</td>\n",
              "      <td>2155-08-04 07:25:00</td>\n",
              "      <td>2155-08-04 07:25:00</td>\n",
              "      <td>EMERGENCY</td>\n",
              "      <td>EMERGENCY ROOM ADMIT</td>\n",
              "      <td>DEAD/EXPIRED</td>\n",
              "      <td>Medicare</td>\n",
              "      <td>NaN</td>\n",
              "      <td>CATHOLIC</td>\n",
              "      <td>MARRIED</td>\n",
              "      <td>HISPANIC OR LATINO</td>\n",
              "      <td>2155-07-24 11:46:00</td>\n",
              "      <td>2155-07-24 15:23:00</td>\n",
              "      <td>HYPOXIA</td>\n",
              "      <td>1</td>\n",
              "      <td>1</td>\n",
              "    </tr>\n",
              "  </tbody>\n",
              "</table>\n",
              "</div>"
            ],
            "text/plain": [
              "     ROW_ID  SUBJECT_ID  ...  HOSPITAL_EXPIRE_FLAG HAS_CHARTEVENTS_DATA\n",
              "572     573         450  ...                     0                    1\n",
              "573     574         450  ...                     1                    1\n",
              "\n",
              "[2 rows x 19 columns]"
            ]
          },
          "metadata": {},
          "execution_count": 19
        }
      ],
      "source": [
        "admissions.loc[admissions.SUBJECT_ID == 450]"
      ]
    },
    {
      "cell_type": "code",
      "execution_count": null,
      "metadata": {
        "id": "uAqmub2Gjw7p",
        "colab": {
          "base_uri": "https://localhost:8080/",
          "height": 202
        },
        "outputId": "ab67a849-f881-499d-8a2a-a4218e142b45"
      },
      "outputs": [
        {
          "output_type": "execute_result",
          "data": {
            "text/html": [
              "<div>\n",
              "<style scoped>\n",
              "    .dataframe tbody tr th:only-of-type {\n",
              "        vertical-align: middle;\n",
              "    }\n",
              "\n",
              "    .dataframe tbody tr th {\n",
              "        vertical-align: top;\n",
              "    }\n",
              "\n",
              "    .dataframe thead th {\n",
              "        text-align: right;\n",
              "    }\n",
              "</style>\n",
              "<table border=\"1\" class=\"dataframe\">\n",
              "  <thead>\n",
              "    <tr style=\"text-align: right;\">\n",
              "      <th></th>\n",
              "      <th>ROW_ID</th>\n",
              "      <th>SUBJECT_ID</th>\n",
              "      <th>HADM_ID</th>\n",
              "      <th>ADMITTIME</th>\n",
              "      <th>DISCHTIME</th>\n",
              "      <th>DEATHTIME</th>\n",
              "      <th>ADMISSION_TYPE</th>\n",
              "      <th>ADMISSION_LOCATION</th>\n",
              "      <th>DISCHARGE_LOCATION</th>\n",
              "      <th>INSURANCE</th>\n",
              "      <th>LANGUAGE</th>\n",
              "      <th>RELIGION</th>\n",
              "      <th>MARITAL_STATUS</th>\n",
              "      <th>ETHNICITY</th>\n",
              "      <th>EDREGTIME</th>\n",
              "      <th>EDOUTTIME</th>\n",
              "      <th>DIAGNOSIS</th>\n",
              "      <th>HOSPITAL_EXPIRE_FLAG</th>\n",
              "      <th>HAS_CHARTEVENTS_DATA</th>\n",
              "    </tr>\n",
              "  </thead>\n",
              "  <tbody>\n",
              "    <tr>\n",
              "      <th>303</th>\n",
              "      <td>304</td>\n",
              "      <td>234</td>\n",
              "      <td>188399</td>\n",
              "      <td>2105-03-02 13:50:00</td>\n",
              "      <td>2105-03-17 14:20:00</td>\n",
              "      <td>NaN</td>\n",
              "      <td>EMERGENCY</td>\n",
              "      <td>TRANSFER FROM HOSP/EXTRAM</td>\n",
              "      <td>REHAB/DISTINCT PART HOSP</td>\n",
              "      <td>Medicare</td>\n",
              "      <td>NaN</td>\n",
              "      <td>PROTESTANT QUAKER</td>\n",
              "      <td>WIDOWED</td>\n",
              "      <td>WHITE</td>\n",
              "      <td>NaN</td>\n",
              "      <td>NaN</td>\n",
              "      <td>NON Q MU;UROSEPSIS</td>\n",
              "      <td>0</td>\n",
              "      <td>1</td>\n",
              "    </tr>\n",
              "    <tr>\n",
              "      <th>304</th>\n",
              "      <td>305</td>\n",
              "      <td>234</td>\n",
              "      <td>134944</td>\n",
              "      <td>2106-04-04 10:30:00</td>\n",
              "      <td>2106-04-23 15:10:00</td>\n",
              "      <td>NaN</td>\n",
              "      <td>EMERGENCY</td>\n",
              "      <td>TRANSFER FROM HOSP/EXTRAM</td>\n",
              "      <td>SNF</td>\n",
              "      <td>Medicare</td>\n",
              "      <td>NaN</td>\n",
              "      <td>PROTESTANT QUAKER</td>\n",
              "      <td>WIDOWED</td>\n",
              "      <td>WHITE</td>\n",
              "      <td>NaN</td>\n",
              "      <td>NaN</td>\n",
              "      <td>CHEST PAIN/CATH</td>\n",
              "      <td>0</td>\n",
              "      <td>1</td>\n",
              "    </tr>\n",
              "  </tbody>\n",
              "</table>\n",
              "</div>"
            ],
            "text/plain": [
              "     ROW_ID  SUBJECT_ID  ...  HOSPITAL_EXPIRE_FLAG HAS_CHARTEVENTS_DATA\n",
              "303     304         234  ...                     0                    1\n",
              "304     305         234  ...                     0                    1\n",
              "\n",
              "[2 rows x 19 columns]"
            ]
          },
          "metadata": {},
          "execution_count": 20
        }
      ],
      "source": [
        "admissions.loc[admissions.SUBJECT_ID == 234]"
      ]
    },
    {
      "cell_type": "code",
      "execution_count": null,
      "metadata": {
        "id": "gHLbB6cY5HHd",
        "colab": {
          "base_uri": "https://localhost:8080/"
        },
        "outputId": "b6e03b2c-7230-4e4a-8c85-085544026b5f"
      },
      "outputs": [
        {
          "output_type": "execute_result",
          "data": {
            "text/plain": [
              "ROW_ID                   int64\n",
              "SUBJECT_ID               int64\n",
              "HADM_ID                  int64\n",
              "ADMITTIME               object\n",
              "DISCHTIME               object\n",
              "DEATHTIME               object\n",
              "ADMISSION_TYPE          object\n",
              "ADMISSION_LOCATION      object\n",
              "DISCHARGE_LOCATION      object\n",
              "INSURANCE               object\n",
              "LANGUAGE                object\n",
              "RELIGION                object\n",
              "MARITAL_STATUS          object\n",
              "ETHNICITY               object\n",
              "EDREGTIME               object\n",
              "EDOUTTIME               object\n",
              "DIAGNOSIS               object\n",
              "HOSPITAL_EXPIRE_FLAG     int64\n",
              "HAS_CHARTEVENTS_DATA     int64\n",
              "dtype: object"
            ]
          },
          "metadata": {},
          "execution_count": 21
        }
      ],
      "source": [
        "admissions.dtypes"
      ]
    },
    {
      "cell_type": "code",
      "execution_count": null,
      "metadata": {
        "id": "3tTVv-uHdOTc",
        "colab": {
          "base_uri": "https://localhost:8080/"
        },
        "outputId": "12fc0e44-9e93-4211-9879-bc677577c217"
      },
      "outputs": [
        {
          "output_type": "execute_result",
          "data": {
            "text/plain": [
              "ADMISSION_TYPE\n",
              "ELECTIVE      7706\n",
              "EMERGENCY    42071\n",
              "NEWBORN       7863\n",
              "URGENT        1336\n",
              "dtype: int64"
            ]
          },
          "metadata": {},
          "execution_count": 22
        }
      ],
      "source": [
        "admissions.groupby(['ADMISSION_TYPE']).size()"
      ]
    },
    {
      "cell_type": "code",
      "execution_count": null,
      "metadata": {
        "id": "qJgRXusST2vy"
      },
      "outputs": [],
      "source": [
        "#Calculate the days between admittime_succeeding and discharge time which is the days to the readmission/for the next admission\n",
        "admissions.ADMITTIME = pd.to_datetime(admissions.ADMITTIME, format = '%Y-%m-%d %H:%M:%S', errors = 'coerce')\n",
        "admissions.DISCHTIME = pd.to_datetime(admissions.DISCHTIME, format = '%Y-%m-%d %H:%M:%S', errors = 'coerce')\n",
        "#admissions.ADMITTIME_succeeding = pd.to_datetime(admissions.ADMITTIME_succeeding, format = '%Y-%m-%d %H:%M:%S', errors = 'coerce')\n"
      ]
    },
    {
      "cell_type": "code",
      "execution_count": null,
      "metadata": {
        "id": "-_A9ddDAdnDL",
        "colab": {
          "base_uri": "https://localhost:8080/",
          "height": 400
        },
        "outputId": "4d2a961b-ff9d-45bf-ac1c-ed2088072e4f"
      },
      "outputs": [
        {
          "output_type": "execute_result",
          "data": {
            "text/html": [
              "<div>\n",
              "<style scoped>\n",
              "    .dataframe tbody tr th:only-of-type {\n",
              "        vertical-align: middle;\n",
              "    }\n",
              "\n",
              "    .dataframe tbody tr th {\n",
              "        vertical-align: top;\n",
              "    }\n",
              "\n",
              "    .dataframe thead th {\n",
              "        text-align: right;\n",
              "    }\n",
              "</style>\n",
              "<table border=\"1\" class=\"dataframe\">\n",
              "  <thead>\n",
              "    <tr style=\"text-align: right;\">\n",
              "      <th></th>\n",
              "      <th>ROW_ID</th>\n",
              "      <th>SUBJECT_ID</th>\n",
              "      <th>HADM_ID</th>\n",
              "      <th>ADMITTIME</th>\n",
              "      <th>DISCHTIME</th>\n",
              "      <th>DEATHTIME</th>\n",
              "      <th>ADMISSION_TYPE</th>\n",
              "      <th>ADMISSION_LOCATION</th>\n",
              "      <th>DISCHARGE_LOCATION</th>\n",
              "      <th>INSURANCE</th>\n",
              "      <th>LANGUAGE</th>\n",
              "      <th>RELIGION</th>\n",
              "      <th>MARITAL_STATUS</th>\n",
              "      <th>ETHNICITY</th>\n",
              "      <th>EDREGTIME</th>\n",
              "      <th>EDOUTTIME</th>\n",
              "      <th>DIAGNOSIS</th>\n",
              "      <th>HOSPITAL_EXPIRE_FLAG</th>\n",
              "      <th>HAS_CHARTEVENTS_DATA</th>\n",
              "      <th>ADMITTIME_succeeding</th>\n",
              "    </tr>\n",
              "  </thead>\n",
              "  <tbody>\n",
              "    <tr>\n",
              "      <th>0</th>\n",
              "      <td>1</td>\n",
              "      <td>2</td>\n",
              "      <td>163353</td>\n",
              "      <td>2138-07-17 19:04:00</td>\n",
              "      <td>2138-07-21 15:48:00</td>\n",
              "      <td>NaN</td>\n",
              "      <td>NEWBORN</td>\n",
              "      <td>PHYS REFERRAL/NORMAL DELI</td>\n",
              "      <td>HOME</td>\n",
              "      <td>Private</td>\n",
              "      <td>NaN</td>\n",
              "      <td>NOT SPECIFIED</td>\n",
              "      <td>NaN</td>\n",
              "      <td>ASIAN</td>\n",
              "      <td>NaN</td>\n",
              "      <td>NaN</td>\n",
              "      <td>NEWBORN</td>\n",
              "      <td>0</td>\n",
              "      <td>1</td>\n",
              "      <td>NaT</td>\n",
              "    </tr>\n",
              "    <tr>\n",
              "      <th>1</th>\n",
              "      <td>2</td>\n",
              "      <td>3</td>\n",
              "      <td>145834</td>\n",
              "      <td>2101-10-20 19:08:00</td>\n",
              "      <td>2101-10-31 13:58:00</td>\n",
              "      <td>NaN</td>\n",
              "      <td>EMERGENCY</td>\n",
              "      <td>EMERGENCY ROOM ADMIT</td>\n",
              "      <td>SNF</td>\n",
              "      <td>Medicare</td>\n",
              "      <td>NaN</td>\n",
              "      <td>CATHOLIC</td>\n",
              "      <td>MARRIED</td>\n",
              "      <td>WHITE</td>\n",
              "      <td>2101-10-20 17:09:00</td>\n",
              "      <td>2101-10-20 19:24:00</td>\n",
              "      <td>HYPOTENSION</td>\n",
              "      <td>0</td>\n",
              "      <td>1</td>\n",
              "      <td>NaT</td>\n",
              "    </tr>\n",
              "    <tr>\n",
              "      <th>2</th>\n",
              "      <td>3</td>\n",
              "      <td>4</td>\n",
              "      <td>185777</td>\n",
              "      <td>2191-03-16 00:28:00</td>\n",
              "      <td>2191-03-23 18:41:00</td>\n",
              "      <td>NaN</td>\n",
              "      <td>EMERGENCY</td>\n",
              "      <td>EMERGENCY ROOM ADMIT</td>\n",
              "      <td>HOME WITH HOME IV PROVIDR</td>\n",
              "      <td>Private</td>\n",
              "      <td>NaN</td>\n",
              "      <td>PROTESTANT QUAKER</td>\n",
              "      <td>SINGLE</td>\n",
              "      <td>WHITE</td>\n",
              "      <td>2191-03-15 13:10:00</td>\n",
              "      <td>2191-03-16 01:10:00</td>\n",
              "      <td>FEVER,DEHYDRATION,FAILURE TO THRIVE</td>\n",
              "      <td>0</td>\n",
              "      <td>1</td>\n",
              "      <td>NaT</td>\n",
              "    </tr>\n",
              "    <tr>\n",
              "      <th>3</th>\n",
              "      <td>4</td>\n",
              "      <td>5</td>\n",
              "      <td>178980</td>\n",
              "      <td>2103-02-02 04:31:00</td>\n",
              "      <td>2103-02-04 12:15:00</td>\n",
              "      <td>NaN</td>\n",
              "      <td>NEWBORN</td>\n",
              "      <td>PHYS REFERRAL/NORMAL DELI</td>\n",
              "      <td>HOME</td>\n",
              "      <td>Private</td>\n",
              "      <td>NaN</td>\n",
              "      <td>BUDDHIST</td>\n",
              "      <td>NaN</td>\n",
              "      <td>ASIAN</td>\n",
              "      <td>NaN</td>\n",
              "      <td>NaN</td>\n",
              "      <td>NEWBORN</td>\n",
              "      <td>0</td>\n",
              "      <td>1</td>\n",
              "      <td>NaT</td>\n",
              "    </tr>\n",
              "    <tr>\n",
              "      <th>4</th>\n",
              "      <td>5</td>\n",
              "      <td>6</td>\n",
              "      <td>107064</td>\n",
              "      <td>2175-05-30 07:15:00</td>\n",
              "      <td>2175-06-15 16:00:00</td>\n",
              "      <td>NaN</td>\n",
              "      <td>ELECTIVE</td>\n",
              "      <td>PHYS REFERRAL/NORMAL DELI</td>\n",
              "      <td>HOME HEALTH CARE</td>\n",
              "      <td>Medicare</td>\n",
              "      <td>ENGL</td>\n",
              "      <td>NOT SPECIFIED</td>\n",
              "      <td>MARRIED</td>\n",
              "      <td>WHITE</td>\n",
              "      <td>NaN</td>\n",
              "      <td>NaN</td>\n",
              "      <td>CHRONIC RENAL FAILURE/SDA</td>\n",
              "      <td>0</td>\n",
              "      <td>1</td>\n",
              "      <td>NaT</td>\n",
              "    </tr>\n",
              "  </tbody>\n",
              "</table>\n",
              "</div>"
            ],
            "text/plain": [
              "   ROW_ID  SUBJECT_ID  ...  HAS_CHARTEVENTS_DATA ADMITTIME_succeeding\n",
              "0       1           2  ...                     1                  NaT\n",
              "1       2           3  ...                     1                  NaT\n",
              "2       3           4  ...                     1                  NaT\n",
              "3       4           5  ...                     1                  NaT\n",
              "4       5           6  ...                     1                  NaT\n",
              "\n",
              "[5 rows x 20 columns]"
            ]
          },
          "metadata": {},
          "execution_count": 24
        }
      ],
      "source": [
        "admissions['ADMITTIME_succeeding'] = admissions.groupby('SUBJECT_ID').ADMITTIME.shift(-1)\n",
        "admissions.head(5)"
      ]
    },
    {
      "cell_type": "code",
      "execution_count": null,
      "metadata": {
        "id": "Elt2GKxZHgA2"
      },
      "outputs": [],
      "source": [
        "admissions['ADMISSION_TYPE_succeeding'] = admissions.groupby('SUBJECT_ID').ADMISSION_TYPE.shift(-1)\n"
      ]
    },
    {
      "cell_type": "code",
      "execution_count": null,
      "metadata": {
        "id": "GrqLt4vvItnS",
        "colab": {
          "base_uri": "https://localhost:8080/",
          "height": 202
        },
        "outputId": "bb25fddd-e0c9-4eb5-dafb-a714ee4d78d4"
      },
      "outputs": [
        {
          "output_type": "execute_result",
          "data": {
            "text/html": [
              "<div>\n",
              "<style scoped>\n",
              "    .dataframe tbody tr th:only-of-type {\n",
              "        vertical-align: middle;\n",
              "    }\n",
              "\n",
              "    .dataframe tbody tr th {\n",
              "        vertical-align: top;\n",
              "    }\n",
              "\n",
              "    .dataframe thead th {\n",
              "        text-align: right;\n",
              "    }\n",
              "</style>\n",
              "<table border=\"1\" class=\"dataframe\">\n",
              "  <thead>\n",
              "    <tr style=\"text-align: right;\">\n",
              "      <th></th>\n",
              "      <th>ROW_ID</th>\n",
              "      <th>SUBJECT_ID</th>\n",
              "      <th>HADM_ID</th>\n",
              "      <th>ADMITTIME</th>\n",
              "      <th>DISCHTIME</th>\n",
              "      <th>DEATHTIME</th>\n",
              "      <th>ADMISSION_TYPE</th>\n",
              "      <th>ADMISSION_LOCATION</th>\n",
              "      <th>DISCHARGE_LOCATION</th>\n",
              "      <th>INSURANCE</th>\n",
              "      <th>LANGUAGE</th>\n",
              "      <th>RELIGION</th>\n",
              "      <th>MARITAL_STATUS</th>\n",
              "      <th>ETHNICITY</th>\n",
              "      <th>EDREGTIME</th>\n",
              "      <th>EDOUTTIME</th>\n",
              "      <th>DIAGNOSIS</th>\n",
              "      <th>HOSPITAL_EXPIRE_FLAG</th>\n",
              "      <th>HAS_CHARTEVENTS_DATA</th>\n",
              "      <th>ADMITTIME_succeeding</th>\n",
              "      <th>ADMISSION_TYPE_succeeding</th>\n",
              "    </tr>\n",
              "  </thead>\n",
              "  <tbody>\n",
              "    <tr>\n",
              "      <th>303</th>\n",
              "      <td>304</td>\n",
              "      <td>234</td>\n",
              "      <td>188399</td>\n",
              "      <td>2105-03-02 13:50:00</td>\n",
              "      <td>2105-03-17 14:20:00</td>\n",
              "      <td>NaN</td>\n",
              "      <td>EMERGENCY</td>\n",
              "      <td>TRANSFER FROM HOSP/EXTRAM</td>\n",
              "      <td>REHAB/DISTINCT PART HOSP</td>\n",
              "      <td>Medicare</td>\n",
              "      <td>NaN</td>\n",
              "      <td>PROTESTANT QUAKER</td>\n",
              "      <td>WIDOWED</td>\n",
              "      <td>WHITE</td>\n",
              "      <td>NaN</td>\n",
              "      <td>NaN</td>\n",
              "      <td>NON Q MU;UROSEPSIS</td>\n",
              "      <td>0</td>\n",
              "      <td>1</td>\n",
              "      <td>2106-04-04 10:30:00</td>\n",
              "      <td>EMERGENCY</td>\n",
              "    </tr>\n",
              "    <tr>\n",
              "      <th>304</th>\n",
              "      <td>305</td>\n",
              "      <td>234</td>\n",
              "      <td>134944</td>\n",
              "      <td>2106-04-04 10:30:00</td>\n",
              "      <td>2106-04-23 15:10:00</td>\n",
              "      <td>NaN</td>\n",
              "      <td>EMERGENCY</td>\n",
              "      <td>TRANSFER FROM HOSP/EXTRAM</td>\n",
              "      <td>SNF</td>\n",
              "      <td>Medicare</td>\n",
              "      <td>NaN</td>\n",
              "      <td>PROTESTANT QUAKER</td>\n",
              "      <td>WIDOWED</td>\n",
              "      <td>WHITE</td>\n",
              "      <td>NaN</td>\n",
              "      <td>NaN</td>\n",
              "      <td>CHEST PAIN/CATH</td>\n",
              "      <td>0</td>\n",
              "      <td>1</td>\n",
              "      <td>NaT</td>\n",
              "      <td>NaN</td>\n",
              "    </tr>\n",
              "  </tbody>\n",
              "</table>\n",
              "</div>"
            ],
            "text/plain": [
              "     ROW_ID  SUBJECT_ID  ...  ADMITTIME_succeeding ADMISSION_TYPE_succeeding\n",
              "303     304         234  ...   2106-04-04 10:30:00                 EMERGENCY\n",
              "304     305         234  ...                   NaT                       NaN\n",
              "\n",
              "[2 rows x 21 columns]"
            ]
          },
          "metadata": {},
          "execution_count": 26
        }
      ],
      "source": [
        "admissions.loc[admissions.SUBJECT_ID == 234]"
      ]
    },
    {
      "cell_type": "code",
      "execution_count": null,
      "metadata": {
        "id": "dBeTDVs8wRsO",
        "colab": {
          "base_uri": "https://localhost:8080/"
        },
        "outputId": "cf147703-813e-4e4a-c0e5-f8283dfb822d"
      },
      "outputs": [
        {
          "output_type": "execute_result",
          "data": {
            "text/plain": [
              "ROW_ID                                int64\n",
              "SUBJECT_ID                            int64\n",
              "HADM_ID                               int64\n",
              "ADMITTIME                    datetime64[ns]\n",
              "DISCHTIME                    datetime64[ns]\n",
              "DEATHTIME                            object\n",
              "ADMISSION_TYPE                       object\n",
              "ADMISSION_LOCATION                   object\n",
              "DISCHARGE_LOCATION                   object\n",
              "INSURANCE                            object\n",
              "LANGUAGE                             object\n",
              "RELIGION                             object\n",
              "MARITAL_STATUS                       object\n",
              "ETHNICITY                            object\n",
              "EDREGTIME                            object\n",
              "EDOUTTIME                            object\n",
              "DIAGNOSIS                            object\n",
              "HOSPITAL_EXPIRE_FLAG                  int64\n",
              "HAS_CHARTEVENTS_DATA                  int64\n",
              "ADMITTIME_succeeding         datetime64[ns]\n",
              "ADMISSION_TYPE_succeeding            object\n",
              "dtype: object"
            ]
          },
          "metadata": {},
          "execution_count": 27
        }
      ],
      "source": [
        "admissions.dtypes"
      ]
    },
    {
      "cell_type": "code",
      "execution_count": null,
      "metadata": {
        "id": "EGVsrQmtGaYP",
        "colab": {
          "base_uri": "https://localhost:8080/"
        },
        "outputId": "a603fa38-889c-4357-f099-f74831042348"
      },
      "outputs": [
        {
          "output_type": "execute_result",
          "data": {
            "text/plain": [
              "(58976, 21)"
            ]
          },
          "metadata": {},
          "execution_count": 28
        }
      ],
      "source": [
        "admissions.shape"
      ]
    },
    {
      "cell_type": "code",
      "execution_count": null,
      "metadata": {
        "id": "y18cNK7wH36P"
      },
      "outputs": [],
      "source": [
        ""
      ]
    },
    {
      "cell_type": "code",
      "execution_count": null,
      "metadata": {
        "id": "2jkufAQUIESC",
        "colab": {
          "base_uri": "https://localhost:8080/"
        },
        "outputId": "8186d7ea-8b9b-4eef-cb3d-21a6da1412ec"
      },
      "outputs": [
        {
          "output_type": "execute_result",
          "data": {
            "text/plain": [
              "ROW_ID                           0\n",
              "SUBJECT_ID                       0\n",
              "HADM_ID                          0\n",
              "ADMITTIME                        0\n",
              "DISCHTIME                        0\n",
              "DEATHTIME                    53122\n",
              "ADMISSION_TYPE                   0\n",
              "ADMISSION_LOCATION               0\n",
              "DISCHARGE_LOCATION               0\n",
              "INSURANCE                        0\n",
              "LANGUAGE                     25332\n",
              "RELIGION                       458\n",
              "MARITAL_STATUS               10128\n",
              "ETHNICITY                        0\n",
              "EDREGTIME                    28099\n",
              "EDOUTTIME                    28099\n",
              "DIAGNOSIS                       25\n",
              "HOSPITAL_EXPIRE_FLAG             0\n",
              "HAS_CHARTEVENTS_DATA             0\n",
              "ADMITTIME_succeeding         46520\n",
              "ADMISSION_TYPE_succeeding    46520\n",
              "dtype: int64"
            ]
          },
          "metadata": {},
          "execution_count": 29
        }
      ],
      "source": [
        "admissions.isnull().sum()"
      ]
    },
    {
      "cell_type": "code",
      "execution_count": null,
      "metadata": {
        "id": "XubAXfYpeAkV"
      },
      "outputs": [],
      "source": [
        ""
      ]
    },
    {
      "cell_type": "code",
      "execution_count": null,
      "metadata": {
        "id": "wZvvuCYQg9d8"
      },
      "outputs": [],
      "source": [
        "admissions['As_D_time'] = (admissions.ADMITTIME_succeeding - admissions.DISCHTIME).dt.total_seconds()/(24*60*60)\n"
      ]
    },
    {
      "cell_type": "code",
      "execution_count": null,
      "metadata": {
        "id": "fhhbD5PZXCML"
      },
      "outputs": [],
      "source": [
        ""
      ]
    },
    {
      "cell_type": "code",
      "execution_count": null,
      "metadata": {
        "id": "v0V-5iugmsVx",
        "colab": {
          "base_uri": "https://localhost:8080/",
          "height": 400
        },
        "outputId": "2e7608d1-e7f6-4184-b432-343b4a5f1ab6"
      },
      "outputs": [
        {
          "output_type": "execute_result",
          "data": {
            "text/html": [
              "<div>\n",
              "<style scoped>\n",
              "    .dataframe tbody tr th:only-of-type {\n",
              "        vertical-align: middle;\n",
              "    }\n",
              "\n",
              "    .dataframe tbody tr th {\n",
              "        vertical-align: top;\n",
              "    }\n",
              "\n",
              "    .dataframe thead th {\n",
              "        text-align: right;\n",
              "    }\n",
              "</style>\n",
              "<table border=\"1\" class=\"dataframe\">\n",
              "  <thead>\n",
              "    <tr style=\"text-align: right;\">\n",
              "      <th></th>\n",
              "      <th>ROW_ID</th>\n",
              "      <th>SUBJECT_ID</th>\n",
              "      <th>HADM_ID</th>\n",
              "      <th>ADMITTIME</th>\n",
              "      <th>DISCHTIME</th>\n",
              "      <th>DEATHTIME</th>\n",
              "      <th>ADMISSION_TYPE</th>\n",
              "      <th>ADMISSION_LOCATION</th>\n",
              "      <th>DISCHARGE_LOCATION</th>\n",
              "      <th>INSURANCE</th>\n",
              "      <th>LANGUAGE</th>\n",
              "      <th>RELIGION</th>\n",
              "      <th>MARITAL_STATUS</th>\n",
              "      <th>ETHNICITY</th>\n",
              "      <th>EDREGTIME</th>\n",
              "      <th>EDOUTTIME</th>\n",
              "      <th>DIAGNOSIS</th>\n",
              "      <th>HOSPITAL_EXPIRE_FLAG</th>\n",
              "      <th>HAS_CHARTEVENTS_DATA</th>\n",
              "      <th>ADMITTIME_succeeding</th>\n",
              "      <th>ADMISSION_TYPE_succeeding</th>\n",
              "      <th>As_D_time</th>\n",
              "    </tr>\n",
              "  </thead>\n",
              "  <tbody>\n",
              "    <tr>\n",
              "      <th>0</th>\n",
              "      <td>1</td>\n",
              "      <td>2</td>\n",
              "      <td>163353</td>\n",
              "      <td>2138-07-17 19:04:00</td>\n",
              "      <td>2138-07-21 15:48:00</td>\n",
              "      <td>NaN</td>\n",
              "      <td>NEWBORN</td>\n",
              "      <td>PHYS REFERRAL/NORMAL DELI</td>\n",
              "      <td>HOME</td>\n",
              "      <td>Private</td>\n",
              "      <td>NaN</td>\n",
              "      <td>NOT SPECIFIED</td>\n",
              "      <td>NaN</td>\n",
              "      <td>ASIAN</td>\n",
              "      <td>NaN</td>\n",
              "      <td>NaN</td>\n",
              "      <td>NEWBORN</td>\n",
              "      <td>0</td>\n",
              "      <td>1</td>\n",
              "      <td>NaT</td>\n",
              "      <td>NaN</td>\n",
              "      <td>NaN</td>\n",
              "    </tr>\n",
              "    <tr>\n",
              "      <th>1</th>\n",
              "      <td>2</td>\n",
              "      <td>3</td>\n",
              "      <td>145834</td>\n",
              "      <td>2101-10-20 19:08:00</td>\n",
              "      <td>2101-10-31 13:58:00</td>\n",
              "      <td>NaN</td>\n",
              "      <td>EMERGENCY</td>\n",
              "      <td>EMERGENCY ROOM ADMIT</td>\n",
              "      <td>SNF</td>\n",
              "      <td>Medicare</td>\n",
              "      <td>NaN</td>\n",
              "      <td>CATHOLIC</td>\n",
              "      <td>MARRIED</td>\n",
              "      <td>WHITE</td>\n",
              "      <td>2101-10-20 17:09:00</td>\n",
              "      <td>2101-10-20 19:24:00</td>\n",
              "      <td>HYPOTENSION</td>\n",
              "      <td>0</td>\n",
              "      <td>1</td>\n",
              "      <td>NaT</td>\n",
              "      <td>NaN</td>\n",
              "      <td>NaN</td>\n",
              "    </tr>\n",
              "    <tr>\n",
              "      <th>2</th>\n",
              "      <td>3</td>\n",
              "      <td>4</td>\n",
              "      <td>185777</td>\n",
              "      <td>2191-03-16 00:28:00</td>\n",
              "      <td>2191-03-23 18:41:00</td>\n",
              "      <td>NaN</td>\n",
              "      <td>EMERGENCY</td>\n",
              "      <td>EMERGENCY ROOM ADMIT</td>\n",
              "      <td>HOME WITH HOME IV PROVIDR</td>\n",
              "      <td>Private</td>\n",
              "      <td>NaN</td>\n",
              "      <td>PROTESTANT QUAKER</td>\n",
              "      <td>SINGLE</td>\n",
              "      <td>WHITE</td>\n",
              "      <td>2191-03-15 13:10:00</td>\n",
              "      <td>2191-03-16 01:10:00</td>\n",
              "      <td>FEVER,DEHYDRATION,FAILURE TO THRIVE</td>\n",
              "      <td>0</td>\n",
              "      <td>1</td>\n",
              "      <td>NaT</td>\n",
              "      <td>NaN</td>\n",
              "      <td>NaN</td>\n",
              "    </tr>\n",
              "    <tr>\n",
              "      <th>3</th>\n",
              "      <td>4</td>\n",
              "      <td>5</td>\n",
              "      <td>178980</td>\n",
              "      <td>2103-02-02 04:31:00</td>\n",
              "      <td>2103-02-04 12:15:00</td>\n",
              "      <td>NaN</td>\n",
              "      <td>NEWBORN</td>\n",
              "      <td>PHYS REFERRAL/NORMAL DELI</td>\n",
              "      <td>HOME</td>\n",
              "      <td>Private</td>\n",
              "      <td>NaN</td>\n",
              "      <td>BUDDHIST</td>\n",
              "      <td>NaN</td>\n",
              "      <td>ASIAN</td>\n",
              "      <td>NaN</td>\n",
              "      <td>NaN</td>\n",
              "      <td>NEWBORN</td>\n",
              "      <td>0</td>\n",
              "      <td>1</td>\n",
              "      <td>NaT</td>\n",
              "      <td>NaN</td>\n",
              "      <td>NaN</td>\n",
              "    </tr>\n",
              "    <tr>\n",
              "      <th>4</th>\n",
              "      <td>5</td>\n",
              "      <td>6</td>\n",
              "      <td>107064</td>\n",
              "      <td>2175-05-30 07:15:00</td>\n",
              "      <td>2175-06-15 16:00:00</td>\n",
              "      <td>NaN</td>\n",
              "      <td>ELECTIVE</td>\n",
              "      <td>PHYS REFERRAL/NORMAL DELI</td>\n",
              "      <td>HOME HEALTH CARE</td>\n",
              "      <td>Medicare</td>\n",
              "      <td>ENGL</td>\n",
              "      <td>NOT SPECIFIED</td>\n",
              "      <td>MARRIED</td>\n",
              "      <td>WHITE</td>\n",
              "      <td>NaN</td>\n",
              "      <td>NaN</td>\n",
              "      <td>CHRONIC RENAL FAILURE/SDA</td>\n",
              "      <td>0</td>\n",
              "      <td>1</td>\n",
              "      <td>NaT</td>\n",
              "      <td>NaN</td>\n",
              "      <td>NaN</td>\n",
              "    </tr>\n",
              "  </tbody>\n",
              "</table>\n",
              "</div>"
            ],
            "text/plain": [
              "   ROW_ID  SUBJECT_ID  ...  ADMISSION_TYPE_succeeding As_D_time\n",
              "0       1           2  ...                        NaN       NaN\n",
              "1       2           3  ...                        NaN       NaN\n",
              "2       3           4  ...                        NaN       NaN\n",
              "3       4           5  ...                        NaN       NaN\n",
              "4       5           6  ...                        NaN       NaN\n",
              "\n",
              "[5 rows x 22 columns]"
            ]
          },
          "metadata": {},
          "execution_count": 31
        }
      ],
      "source": [
        "admissions.head(5)"
      ]
    },
    {
      "cell_type": "markdown",
      "metadata": {
        "id": "JO6F8wtZywlS"
      },
      "source": [
        "#Textual Data"
      ]
    },
    {
      "cell_type": "code",
      "execution_count": null,
      "metadata": {
        "id": "0c-aRmjeyzvT",
        "colab": {
          "base_uri": "https://localhost:8080/",
          "height": 293
        },
        "outputId": "a3ed1779-7c2c-4e57-faf9-333423507620"
      },
      "outputs": [
        {
          "output_type": "execute_result",
          "data": {
            "text/html": [
              "<div>\n",
              "<style scoped>\n",
              "    .dataframe tbody tr th:only-of-type {\n",
              "        vertical-align: middle;\n",
              "    }\n",
              "\n",
              "    .dataframe tbody tr th {\n",
              "        vertical-align: top;\n",
              "    }\n",
              "\n",
              "    .dataframe thead th {\n",
              "        text-align: right;\n",
              "    }\n",
              "</style>\n",
              "<table border=\"1\" class=\"dataframe\">\n",
              "  <thead>\n",
              "    <tr style=\"text-align: right;\">\n",
              "      <th></th>\n",
              "      <th>ROW_ID</th>\n",
              "      <th>SUBJECT_ID</th>\n",
              "      <th>HADM_ID</th>\n",
              "      <th>CHARTDATE</th>\n",
              "      <th>CHARTTIME</th>\n",
              "      <th>STORETIME</th>\n",
              "      <th>CATEGORY</th>\n",
              "      <th>DESCRIPTION</th>\n",
              "      <th>CGID</th>\n",
              "      <th>ISERROR</th>\n",
              "      <th>TEXT</th>\n",
              "    </tr>\n",
              "  </thead>\n",
              "  <tbody>\n",
              "    <tr>\n",
              "      <th>0</th>\n",
              "      <td>174</td>\n",
              "      <td>22532</td>\n",
              "      <td>167853.0</td>\n",
              "      <td>2151-08-04</td>\n",
              "      <td>NaN</td>\n",
              "      <td>NaN</td>\n",
              "      <td>Discharge summary</td>\n",
              "      <td>Report</td>\n",
              "      <td>NaN</td>\n",
              "      <td>NaN</td>\n",
              "      <td>Admission Date:  [**2151-7-16**]       Dischar...</td>\n",
              "    </tr>\n",
              "    <tr>\n",
              "      <th>1</th>\n",
              "      <td>175</td>\n",
              "      <td>13702</td>\n",
              "      <td>107527.0</td>\n",
              "      <td>2118-06-14</td>\n",
              "      <td>NaN</td>\n",
              "      <td>NaN</td>\n",
              "      <td>Discharge summary</td>\n",
              "      <td>Report</td>\n",
              "      <td>NaN</td>\n",
              "      <td>NaN</td>\n",
              "      <td>Admission Date:  [**2118-6-2**]       Discharg...</td>\n",
              "    </tr>\n",
              "    <tr>\n",
              "      <th>2</th>\n",
              "      <td>176</td>\n",
              "      <td>13702</td>\n",
              "      <td>167118.0</td>\n",
              "      <td>2119-05-25</td>\n",
              "      <td>NaN</td>\n",
              "      <td>NaN</td>\n",
              "      <td>Discharge summary</td>\n",
              "      <td>Report</td>\n",
              "      <td>NaN</td>\n",
              "      <td>NaN</td>\n",
              "      <td>Admission Date:  [**2119-5-4**]              D...</td>\n",
              "    </tr>\n",
              "    <tr>\n",
              "      <th>3</th>\n",
              "      <td>177</td>\n",
              "      <td>13702</td>\n",
              "      <td>196489.0</td>\n",
              "      <td>2124-08-18</td>\n",
              "      <td>NaN</td>\n",
              "      <td>NaN</td>\n",
              "      <td>Discharge summary</td>\n",
              "      <td>Report</td>\n",
              "      <td>NaN</td>\n",
              "      <td>NaN</td>\n",
              "      <td>Admission Date:  [**2124-7-21**]              ...</td>\n",
              "    </tr>\n",
              "    <tr>\n",
              "      <th>4</th>\n",
              "      <td>178</td>\n",
              "      <td>26880</td>\n",
              "      <td>135453.0</td>\n",
              "      <td>2162-03-25</td>\n",
              "      <td>NaN</td>\n",
              "      <td>NaN</td>\n",
              "      <td>Discharge summary</td>\n",
              "      <td>Report</td>\n",
              "      <td>NaN</td>\n",
              "      <td>NaN</td>\n",
              "      <td>Admission Date:  [**2162-3-3**]              D...</td>\n",
              "    </tr>\n",
              "  </tbody>\n",
              "</table>\n",
              "</div>"
            ],
            "text/plain": [
              "   ROW_ID  ...                                               TEXT\n",
              "0     174  ...  Admission Date:  [**2151-7-16**]       Dischar...\n",
              "1     175  ...  Admission Date:  [**2118-6-2**]       Discharg...\n",
              "2     176  ...  Admission Date:  [**2119-5-4**]              D...\n",
              "3     177  ...  Admission Date:  [**2124-7-21**]              ...\n",
              "4     178  ...  Admission Date:  [**2162-3-3**]              D...\n",
              "\n",
              "[5 rows x 11 columns]"
            ]
          },
          "metadata": {},
          "execution_count": 32
        }
      ],
      "source": [
        "notes.head(5)"
      ]
    },
    {
      "cell_type": "code",
      "execution_count": null,
      "metadata": {
        "id": "mGSCX51my-qa",
        "colab": {
          "base_uri": "https://localhost:8080/"
        },
        "outputId": "1ba6aa28-3c3b-43b9-aaa9-f4f5a60c2948"
      },
      "outputs": [
        {
          "output_type": "execute_result",
          "data": {
            "text/plain": [
              "(2083180, 11)"
            ]
          },
          "metadata": {},
          "execution_count": 33
        }
      ],
      "source": [
        "notes.shape"
      ]
    },
    {
      "cell_type": "code",
      "execution_count": null,
      "metadata": {
        "id": "ZdG_9LD5_mV0",
        "colab": {
          "base_uri": "https://localhost:8080/"
        },
        "outputId": "0c6601c0-d090-42a8-bcc9-36ee827dc580"
      },
      "outputs": [
        {
          "output_type": "execute_result",
          "data": {
            "text/plain": [
              "CATEGORY\n",
              "Case Management         967\n",
              "Consult                  98\n",
              "Discharge summary     59652\n",
              "ECG                  209051\n",
              "Echo                  45794\n",
              "General                8301\n",
              "Nursing              223556\n",
              "Nursing/other        822497\n",
              "Nutrition              9418\n",
              "Pharmacy                103\n",
              "Physician            141624\n",
              "Radiology            522279\n",
              "Rehab Services         5431\n",
              "Respiratory           31739\n",
              "Social Work            2670\n",
              "dtype: int64"
            ]
          },
          "metadata": {},
          "execution_count": 34
        }
      ],
      "source": [
        "notes.groupby(['CATEGORY']).size()"
      ]
    },
    {
      "cell_type": "code",
      "execution_count": null,
      "metadata": {
        "id": "r0qHqyGNzcTY"
      },
      "outputs": [],
      "source": [
        "disch_summary = notes.loc[notes.CATEGORY == 'Discharge summary']"
      ]
    },
    {
      "cell_type": "code",
      "execution_count": null,
      "metadata": {
        "id": "Kqq1Fj7tBsiy",
        "colab": {
          "base_uri": "https://localhost:8080/",
          "height": 597
        },
        "outputId": "a2a7ef8c-c429-4a86-8670-b6af26facfa4"
      },
      "outputs": [
        {
          "output_type": "execute_result",
          "data": {
            "text/html": [
              "<div>\n",
              "<style scoped>\n",
              "    .dataframe tbody tr th:only-of-type {\n",
              "        vertical-align: middle;\n",
              "    }\n",
              "\n",
              "    .dataframe tbody tr th {\n",
              "        vertical-align: top;\n",
              "    }\n",
              "\n",
              "    .dataframe thead th {\n",
              "        text-align: right;\n",
              "    }\n",
              "</style>\n",
              "<table border=\"1\" class=\"dataframe\">\n",
              "  <thead>\n",
              "    <tr style=\"text-align: right;\">\n",
              "      <th></th>\n",
              "      <th>ROW_ID</th>\n",
              "      <th>SUBJECT_ID</th>\n",
              "      <th>HADM_ID</th>\n",
              "      <th>CHARTDATE</th>\n",
              "      <th>CHARTTIME</th>\n",
              "      <th>STORETIME</th>\n",
              "      <th>CATEGORY</th>\n",
              "      <th>DESCRIPTION</th>\n",
              "      <th>CGID</th>\n",
              "      <th>ISERROR</th>\n",
              "      <th>TEXT</th>\n",
              "    </tr>\n",
              "  </thead>\n",
              "  <tbody>\n",
              "    <tr>\n",
              "      <th>0</th>\n",
              "      <td>174</td>\n",
              "      <td>22532</td>\n",
              "      <td>167853.0</td>\n",
              "      <td>2151-08-04</td>\n",
              "      <td>NaN</td>\n",
              "      <td>NaN</td>\n",
              "      <td>Discharge summary</td>\n",
              "      <td>Report</td>\n",
              "      <td>NaN</td>\n",
              "      <td>NaN</td>\n",
              "      <td>Admission Date:  [**2151-7-16**]       Dischar...</td>\n",
              "    </tr>\n",
              "    <tr>\n",
              "      <th>1</th>\n",
              "      <td>175</td>\n",
              "      <td>13702</td>\n",
              "      <td>107527.0</td>\n",
              "      <td>2118-06-14</td>\n",
              "      <td>NaN</td>\n",
              "      <td>NaN</td>\n",
              "      <td>Discharge summary</td>\n",
              "      <td>Report</td>\n",
              "      <td>NaN</td>\n",
              "      <td>NaN</td>\n",
              "      <td>Admission Date:  [**2118-6-2**]       Discharg...</td>\n",
              "    </tr>\n",
              "    <tr>\n",
              "      <th>2</th>\n",
              "      <td>176</td>\n",
              "      <td>13702</td>\n",
              "      <td>167118.0</td>\n",
              "      <td>2119-05-25</td>\n",
              "      <td>NaN</td>\n",
              "      <td>NaN</td>\n",
              "      <td>Discharge summary</td>\n",
              "      <td>Report</td>\n",
              "      <td>NaN</td>\n",
              "      <td>NaN</td>\n",
              "      <td>Admission Date:  [**2119-5-4**]              D...</td>\n",
              "    </tr>\n",
              "    <tr>\n",
              "      <th>3</th>\n",
              "      <td>177</td>\n",
              "      <td>13702</td>\n",
              "      <td>196489.0</td>\n",
              "      <td>2124-08-18</td>\n",
              "      <td>NaN</td>\n",
              "      <td>NaN</td>\n",
              "      <td>Discharge summary</td>\n",
              "      <td>Report</td>\n",
              "      <td>NaN</td>\n",
              "      <td>NaN</td>\n",
              "      <td>Admission Date:  [**2124-7-21**]              ...</td>\n",
              "    </tr>\n",
              "    <tr>\n",
              "      <th>4</th>\n",
              "      <td>178</td>\n",
              "      <td>26880</td>\n",
              "      <td>135453.0</td>\n",
              "      <td>2162-03-25</td>\n",
              "      <td>NaN</td>\n",
              "      <td>NaN</td>\n",
              "      <td>Discharge summary</td>\n",
              "      <td>Report</td>\n",
              "      <td>NaN</td>\n",
              "      <td>NaN</td>\n",
              "      <td>Admission Date:  [**2162-3-3**]              D...</td>\n",
              "    </tr>\n",
              "    <tr>\n",
              "      <th>...</th>\n",
              "      <td>...</td>\n",
              "      <td>...</td>\n",
              "      <td>...</td>\n",
              "      <td>...</td>\n",
              "      <td>...</td>\n",
              "      <td>...</td>\n",
              "      <td>...</td>\n",
              "      <td>...</td>\n",
              "      <td>...</td>\n",
              "      <td>...</td>\n",
              "      <td>...</td>\n",
              "    </tr>\n",
              "    <tr>\n",
              "      <th>60411</th>\n",
              "      <td>59608</td>\n",
              "      <td>93924</td>\n",
              "      <td>135672.0</td>\n",
              "      <td>2104-06-14</td>\n",
              "      <td>NaN</td>\n",
              "      <td>NaN</td>\n",
              "      <td>Discharge summary</td>\n",
              "      <td>Addendum</td>\n",
              "      <td>NaN</td>\n",
              "      <td>NaN</td>\n",
              "      <td>Name:  [**Known lastname 18321**],[**Known fir...</td>\n",
              "    </tr>\n",
              "    <tr>\n",
              "      <th>60412</th>\n",
              "      <td>59609</td>\n",
              "      <td>17782</td>\n",
              "      <td>155710.0</td>\n",
              "      <td>2112-03-31</td>\n",
              "      <td>NaN</td>\n",
              "      <td>NaN</td>\n",
              "      <td>Discharge summary</td>\n",
              "      <td>Addendum</td>\n",
              "      <td>NaN</td>\n",
              "      <td>NaN</td>\n",
              "      <td>Name:  [**Known lastname 2706**], [**Known fir...</td>\n",
              "    </tr>\n",
              "    <tr>\n",
              "      <th>60413</th>\n",
              "      <td>59621</td>\n",
              "      <td>96333</td>\n",
              "      <td>183951.0</td>\n",
              "      <td>2197-06-18</td>\n",
              "      <td>NaN</td>\n",
              "      <td>NaN</td>\n",
              "      <td>Discharge summary</td>\n",
              "      <td>Addendum</td>\n",
              "      <td>NaN</td>\n",
              "      <td>NaN</td>\n",
              "      <td>Name:  [**Known lastname 18357**]-[**Known las...</td>\n",
              "    </tr>\n",
              "    <tr>\n",
              "      <th>60414</th>\n",
              "      <td>59622</td>\n",
              "      <td>66717</td>\n",
              "      <td>169165.0</td>\n",
              "      <td>2129-08-14</td>\n",
              "      <td>NaN</td>\n",
              "      <td>NaN</td>\n",
              "      <td>Discharge summary</td>\n",
              "      <td>Addendum</td>\n",
              "      <td>NaN</td>\n",
              "      <td>NaN</td>\n",
              "      <td>Name:  [**Known lastname **],[**Known firstnam...</td>\n",
              "    </tr>\n",
              "    <tr>\n",
              "      <th>60415</th>\n",
              "      <td>59623</td>\n",
              "      <td>73790</td>\n",
              "      <td>157100.0</td>\n",
              "      <td>2113-07-18</td>\n",
              "      <td>NaN</td>\n",
              "      <td>NaN</td>\n",
              "      <td>Discharge summary</td>\n",
              "      <td>Addendum</td>\n",
              "      <td>NaN</td>\n",
              "      <td>NaN</td>\n",
              "      <td>Name:  [**Known lastname 12459**],[**Known fir...</td>\n",
              "    </tr>\n",
              "  </tbody>\n",
              "</table>\n",
              "<p>59652 rows × 11 columns</p>\n",
              "</div>"
            ],
            "text/plain": [
              "       ROW_ID  ...                                               TEXT\n",
              "0         174  ...  Admission Date:  [**2151-7-16**]       Dischar...\n",
              "1         175  ...  Admission Date:  [**2118-6-2**]       Discharg...\n",
              "2         176  ...  Admission Date:  [**2119-5-4**]              D...\n",
              "3         177  ...  Admission Date:  [**2124-7-21**]              ...\n",
              "4         178  ...  Admission Date:  [**2162-3-3**]              D...\n",
              "...       ...  ...                                                ...\n",
              "60411   59608  ...  Name:  [**Known lastname 18321**],[**Known fir...\n",
              "60412   59609  ...  Name:  [**Known lastname 2706**], [**Known fir...\n",
              "60413   59621  ...  Name:  [**Known lastname 18357**]-[**Known las...\n",
              "60414   59622  ...  Name:  [**Known lastname **],[**Known firstnam...\n",
              "60415   59623  ...  Name:  [**Known lastname 12459**],[**Known fir...\n",
              "\n",
              "[59652 rows x 11 columns]"
            ]
          },
          "metadata": {},
          "execution_count": 36
        }
      ],
      "source": [
        "disch_summary"
      ]
    },
    {
      "cell_type": "code",
      "execution_count": null,
      "metadata": {
        "id": "c-rujVK3B7vQ",
        "colab": {
          "base_uri": "https://localhost:8080/",
          "height": 140
        },
        "outputId": "f3bb4d8c-87f9-40b2-b138-890bc0d2a19b"
      },
      "outputs": [
        {
          "output_type": "execute_result",
          "data": {
            "application/vnd.google.colaboratory.intrinsic+json": {
              "type": "string"
            },
            "text/plain": [
              "'Admission Date:  [**2151-7-16**]       Discharge Date:  [**2151-8-4**]\\n\\n\\nService:\\nADDENDUM:\\n\\nRADIOLOGIC STUDIES:  Radiologic studies also included a chest\\nCT, which confirmed cavitary lesions in the left lung apex\\nconsistent with infectious process/tuberculosis.  This also\\nmoderate-sized left pleural effusion.\\n\\nHEAD CT:  Head CT showed no intracranial hemorrhage or mass\\neffect, but old infarction consistent with past medical\\nhistory.\\n\\nABDOMINAL CT:  Abdominal CT showed lesions of\\nT10 and sacrum most likely secondary to osteoporosis. These can\\nbe followed by repeat imaging as an outpatient.\\n\\n\\n\\n                            [**First Name8 (NamePattern2) **] [**First Name4 (NamePattern1) 1775**] [**Last Name (NamePattern1) **], M.D.  [**MD Number(1) 1776**]\\n\\nDictated By:[**Hospital 1807**]\\nMEDQUIST36\\n\\nD:  [**2151-8-5**]  12:11\\nT:  [**2151-8-5**]  12:21\\nJOB#:  [**Job Number 1808**]\\n'"
            ]
          },
          "metadata": {},
          "execution_count": 37
        }
      ],
      "source": [
        "notes.TEXT[0]"
      ]
    },
    {
      "cell_type": "code",
      "execution_count": null,
      "metadata": {
        "id": "PwrUJR83CUlG"
      },
      "outputs": [],
      "source": [
        ""
      ]
    },
    {
      "cell_type": "code",
      "execution_count": null,
      "metadata": {
        "id": "jTfgvnm1Kgn7"
      },
      "outputs": [],
      "source": [
        ""
      ]
    },
    {
      "cell_type": "code",
      "execution_count": null,
      "metadata": {
        "id": "xS9WWtZPKo2M"
      },
      "outputs": [],
      "source": [
        "last_disch_summary = (disch_summary.groupby(['SUBJECT_ID','HADM_ID']).nth(-1)).reset_index()"
      ]
    },
    {
      "cell_type": "code",
      "execution_count": null,
      "metadata": {
        "id": "f7CoyM4ENXW6",
        "colab": {
          "base_uri": "https://localhost:8080/"
        },
        "outputId": "a0e32968-0443-47a6-da81-8d5915d9bcd9"
      },
      "outputs": [
        {
          "output_type": "execute_result",
          "data": {
            "text/plain": [
              "(52726, 11)"
            ]
          },
          "metadata": {},
          "execution_count": 39
        }
      ],
      "source": [
        "last_disch_summary.shape"
      ]
    },
    {
      "cell_type": "code",
      "execution_count": null,
      "metadata": {
        "id": "zltdveSKOCfD"
      },
      "outputs": [],
      "source": [
        ""
      ]
    },
    {
      "cell_type": "code",
      "execution_count": null,
      "metadata": {
        "id": "6ki3bySMAwFV"
      },
      "outputs": [],
      "source": [
        ""
      ]
    },
    {
      "cell_type": "code",
      "execution_count": null,
      "metadata": {
        "id": "e-iZHQFoN2Wm"
      },
      "outputs": [],
      "source": [
        "merged = pd.merge(admissions[['SUBJECT_ID','HADM_ID','ADMISSION_TYPE','ADMITTIME','DISCHTIME','DEATHTIME','ADMITTIME_succeeding','ADMISSION_TYPE_succeeding','As_D_time']],last_disch_summary[['SUBJECT_ID','HADM_ID','TEXT']], on = ['SUBJECT_ID','HADM_ID'], how = 'left')"
      ]
    },
    {
      "cell_type": "code",
      "execution_count": null,
      "metadata": {
        "id": "2sskAo5ypMBx"
      },
      "outputs": [],
      "source": [
        "adm = pd.merge(admissions[['SUBJECT_ID','HADM_ID','ADMISSION_TYPE','ADMITTIME','DISCHTIME','DIAGNOSIS','DEATHTIME','ADMITTIME_succeeding','ADMISSION_TYPE_succeeding','As_D_time']],last_disch_summary[['SUBJECT_ID','HADM_ID','TEXT']], on = ['SUBJECT_ID','HADM_ID'], how = 'left')\n"
      ]
    },
    {
      "cell_type": "code",
      "execution_count": null,
      "metadata": {
        "id": "Ww_Yb4dfQ9hO",
        "colab": {
          "base_uri": "https://localhost:8080/",
          "height": 834
        },
        "outputId": "c3e3fa54-01f4-4885-ba5d-5c26f2227ff1"
      },
      "outputs": [
        {
          "output_type": "execute_result",
          "data": {
            "text/html": [
              "<div>\n",
              "<style scoped>\n",
              "    .dataframe tbody tr th:only-of-type {\n",
              "        vertical-align: middle;\n",
              "    }\n",
              "\n",
              "    .dataframe tbody tr th {\n",
              "        vertical-align: top;\n",
              "    }\n",
              "\n",
              "    .dataframe thead th {\n",
              "        text-align: right;\n",
              "    }\n",
              "</style>\n",
              "<table border=\"1\" class=\"dataframe\">\n",
              "  <thead>\n",
              "    <tr style=\"text-align: right;\">\n",
              "      <th></th>\n",
              "      <th>SUBJECT_ID</th>\n",
              "      <th>HADM_ID</th>\n",
              "      <th>ADMISSION_TYPE</th>\n",
              "      <th>ADMITTIME</th>\n",
              "      <th>DISCHTIME</th>\n",
              "      <th>DEATHTIME</th>\n",
              "      <th>ADMITTIME_succeeding</th>\n",
              "      <th>ADMISSION_TYPE_succeeding</th>\n",
              "      <th>As_D_time</th>\n",
              "      <th>TEXT</th>\n",
              "    </tr>\n",
              "  </thead>\n",
              "  <tbody>\n",
              "    <tr>\n",
              "      <th>25453</th>\n",
              "      <td>20857</td>\n",
              "      <td>164605</td>\n",
              "      <td>NEWBORN</td>\n",
              "      <td>2129-03-31 09:25:00</td>\n",
              "      <td>2129-04-04 12:31:00</td>\n",
              "      <td>NaN</td>\n",
              "      <td>NaT</td>\n",
              "      <td>NaN</td>\n",
              "      <td>NaN</td>\n",
              "      <td>NaN</td>\n",
              "    </tr>\n",
              "    <tr>\n",
              "      <th>3487</th>\n",
              "      <td>2898</td>\n",
              "      <td>156225</td>\n",
              "      <td>NEWBORN</td>\n",
              "      <td>2127-01-06 07:00:00</td>\n",
              "      <td>2127-01-08 13:16:00</td>\n",
              "      <td>NaN</td>\n",
              "      <td>NaT</td>\n",
              "      <td>NaN</td>\n",
              "      <td>NaN</td>\n",
              "      <td>NaN</td>\n",
              "    </tr>\n",
              "    <tr>\n",
              "      <th>49454</th>\n",
              "      <td>69941</td>\n",
              "      <td>185156</td>\n",
              "      <td>EMERGENCY</td>\n",
              "      <td>2161-10-17 21:09:00</td>\n",
              "      <td>2161-10-26 03:15:00</td>\n",
              "      <td>2161-10-26 03:15:00</td>\n",
              "      <td>NaT</td>\n",
              "      <td>NaN</td>\n",
              "      <td>NaN</td>\n",
              "      <td>Admission Date:  [**2161-10-17**]             ...</td>\n",
              "    </tr>\n",
              "    <tr>\n",
              "      <th>55311</th>\n",
              "      <td>88610</td>\n",
              "      <td>159231</td>\n",
              "      <td>ELECTIVE</td>\n",
              "      <td>2123-08-23 07:15:00</td>\n",
              "      <td>2123-08-28 13:35:00</td>\n",
              "      <td>NaN</td>\n",
              "      <td>NaT</td>\n",
              "      <td>NaN</td>\n",
              "      <td>NaN</td>\n",
              "      <td>Admission Date:  [**2123-8-23**]              ...</td>\n",
              "    </tr>\n",
              "    <tr>\n",
              "      <th>41996</th>\n",
              "      <td>46994</td>\n",
              "      <td>166696</td>\n",
              "      <td>EMERGENCY</td>\n",
              "      <td>2104-02-28 13:48:00</td>\n",
              "      <td>2104-03-10 12:44:00</td>\n",
              "      <td>NaN</td>\n",
              "      <td>NaT</td>\n",
              "      <td>NaN</td>\n",
              "      <td>NaN</td>\n",
              "      <td>Admission Date:  [**2104-2-28**]              ...</td>\n",
              "    </tr>\n",
              "    <tr>\n",
              "      <th>21835</th>\n",
              "      <td>17867</td>\n",
              "      <td>129870</td>\n",
              "      <td>NEWBORN</td>\n",
              "      <td>2190-02-15 23:27:00</td>\n",
              "      <td>2190-02-20 15:50:00</td>\n",
              "      <td>NaN</td>\n",
              "      <td>NaT</td>\n",
              "      <td>NaN</td>\n",
              "      <td>NaN</td>\n",
              "      <td>NaN</td>\n",
              "    </tr>\n",
              "    <tr>\n",
              "      <th>27204</th>\n",
              "      <td>22289</td>\n",
              "      <td>162416</td>\n",
              "      <td>EMERGENCY</td>\n",
              "      <td>2110-06-04 18:56:00</td>\n",
              "      <td>2110-06-28 14:29:00</td>\n",
              "      <td>NaN</td>\n",
              "      <td>NaT</td>\n",
              "      <td>NaN</td>\n",
              "      <td>NaN</td>\n",
              "      <td>Admission Date:  [**2110-6-4**]              D...</td>\n",
              "    </tr>\n",
              "    <tr>\n",
              "      <th>56292</th>\n",
              "      <td>91613</td>\n",
              "      <td>184996</td>\n",
              "      <td>EMERGENCY</td>\n",
              "      <td>2127-04-17 22:15:00</td>\n",
              "      <td>2127-04-24 15:15:00</td>\n",
              "      <td>NaN</td>\n",
              "      <td>NaT</td>\n",
              "      <td>NaN</td>\n",
              "      <td>NaN</td>\n",
              "      <td>Admission Date:  [**2127-4-17**]              ...</td>\n",
              "    </tr>\n",
              "    <tr>\n",
              "      <th>2363</th>\n",
              "      <td>1962</td>\n",
              "      <td>148663</td>\n",
              "      <td>NEWBORN</td>\n",
              "      <td>2196-09-24 07:50:00</td>\n",
              "      <td>2196-09-26 12:06:00</td>\n",
              "      <td>NaN</td>\n",
              "      <td>NaT</td>\n",
              "      <td>NaN</td>\n",
              "      <td>NaN</td>\n",
              "      <td>NaN</td>\n",
              "    </tr>\n",
              "    <tr>\n",
              "      <th>3029</th>\n",
              "      <td>2500</td>\n",
              "      <td>195167</td>\n",
              "      <td>NEWBORN</td>\n",
              "      <td>2191-11-24 16:05:00</td>\n",
              "      <td>2191-11-26 12:35:00</td>\n",
              "      <td>NaN</td>\n",
              "      <td>NaT</td>\n",
              "      <td>NaN</td>\n",
              "      <td>NaN</td>\n",
              "      <td>NaN</td>\n",
              "    </tr>\n",
              "  </tbody>\n",
              "</table>\n",
              "</div>"
            ],
            "text/plain": [
              "       SUBJECT_ID  ...                                               TEXT\n",
              "25453       20857  ...                                                NaN\n",
              "3487         2898  ...                                                NaN\n",
              "49454       69941  ...  Admission Date:  [**2161-10-17**]             ...\n",
              "55311       88610  ...  Admission Date:  [**2123-8-23**]              ...\n",
              "41996       46994  ...  Admission Date:  [**2104-2-28**]              ...\n",
              "21835       17867  ...                                                NaN\n",
              "27204       22289  ...  Admission Date:  [**2110-6-4**]              D...\n",
              "56292       91613  ...  Admission Date:  [**2127-4-17**]              ...\n",
              "2363         1962  ...                                                NaN\n",
              "3029         2500  ...                                                NaN\n",
              "\n",
              "[10 rows x 10 columns]"
            ]
          },
          "metadata": {},
          "execution_count": 42
        }
      ],
      "source": [
        "merged.sample(10)"
      ]
    },
    {
      "cell_type": "code",
      "execution_count": null,
      "metadata": {
        "id": "KTJR92VhS2zZ",
        "colab": {
          "base_uri": "https://localhost:8080/"
        },
        "outputId": "e54e7e2a-6d38-4f01-f457-05e9fa473199"
      },
      "outputs": [
        {
          "output_type": "execute_result",
          "data": {
            "text/plain": [
              "ADMISSION_TYPE\n",
              "ELECTIVE     0.048663\n",
              "EMERGENCY    0.037983\n",
              "NEWBORN      0.536691\n",
              "URGENT       0.042665\n",
              "dtype: float64"
            ]
          },
          "metadata": {},
          "execution_count": 43
        }
      ],
      "source": [
        "merged.groupby('ADMISSION_TYPE').apply(lambda g: g.TEXT.isnull().sum())/merged.groupby('ADMISSION_TYPE').size()"
      ]
    },
    {
      "cell_type": "code",
      "execution_count": null,
      "metadata": {
        "id": "d3DF9yRCNCE9",
        "colab": {
          "base_uri": "https://localhost:8080/"
        },
        "outputId": "9daed641-0559-4fde-96c5-0dd2af431fcd"
      },
      "outputs": [
        {
          "output_type": "execute_result",
          "data": {
            "text/plain": [
              "ADMISSION_TYPE\n",
              "ELECTIVE     0.048663\n",
              "EMERGENCY    0.037983\n",
              "NEWBORN      0.536691\n",
              "URGENT       0.042665\n",
              "dtype: float64"
            ]
          },
          "metadata": {},
          "execution_count": 44
        }
      ],
      "source": [
        "adm.groupby('ADMISSION_TYPE').apply(lambda g: g.TEXT.isnull().sum())/adm.groupby('ADMISSION_TYPE').size()"
      ]
    },
    {
      "cell_type": "code",
      "execution_count": null,
      "metadata": {
        "id": "NIm1WXP3SMPr",
        "colab": {
          "base_uri": "https://localhost:8080/"
        },
        "outputId": "4f40ddb2-5ba0-492f-f386-7c46dbfdf6d5"
      },
      "outputs": [
        {
          "output_type": "execute_result",
          "data": {
            "text/plain": [
              "(58976, 10)"
            ]
          },
          "metadata": {},
          "execution_count": 45
        }
      ],
      "source": [
        "merged.shape"
      ]
    },
    {
      "cell_type": "code",
      "execution_count": null,
      "metadata": {
        "id": "vmsoBCMARV4G"
      },
      "outputs": [],
      "source": [
        ""
      ]
    },
    {
      "cell_type": "code",
      "execution_count": null,
      "metadata": {
        "id": "Nmgpj034L5gq",
        "colab": {
          "base_uri": "https://localhost:8080/",
          "height": 998
        },
        "outputId": "1f82a0cd-2d36-43a6-97c2-08f65f8501e1"
      },
      "outputs": [
        {
          "output_type": "execute_result",
          "data": {
            "text/html": [
              "<div>\n",
              "<style scoped>\n",
              "    .dataframe tbody tr th:only-of-type {\n",
              "        vertical-align: middle;\n",
              "    }\n",
              "\n",
              "    .dataframe tbody tr th {\n",
              "        vertical-align: top;\n",
              "    }\n",
              "\n",
              "    .dataframe thead th {\n",
              "        text-align: right;\n",
              "    }\n",
              "</style>\n",
              "<table border=\"1\" class=\"dataframe\">\n",
              "  <thead>\n",
              "    <tr style=\"text-align: right;\">\n",
              "      <th></th>\n",
              "      <th>SUBJECT_ID</th>\n",
              "      <th>HADM_ID</th>\n",
              "      <th>ADMISSION_TYPE</th>\n",
              "      <th>ADMITTIME</th>\n",
              "      <th>DISCHTIME</th>\n",
              "      <th>DIAGNOSIS</th>\n",
              "      <th>DEATHTIME</th>\n",
              "      <th>ADMITTIME_succeeding</th>\n",
              "      <th>ADMISSION_TYPE_succeeding</th>\n",
              "      <th>As_D_time</th>\n",
              "      <th>TEXT</th>\n",
              "    </tr>\n",
              "  </thead>\n",
              "  <tbody>\n",
              "    <tr>\n",
              "      <th>18</th>\n",
              "      <td>21</td>\n",
              "      <td>109451</td>\n",
              "      <td>EMERGENCY</td>\n",
              "      <td>2134-09-11 12:17:00</td>\n",
              "      <td>2134-09-24 16:15:00</td>\n",
              "      <td>CONGESTIVE HEART FAILURE</td>\n",
              "      <td>NaN</td>\n",
              "      <td>2135-01-30 20:50:00</td>\n",
              "      <td>EMERGENCY</td>\n",
              "      <td>128.190972</td>\n",
              "      <td>Admission Date:  [**2134-9-11**]              ...</td>\n",
              "    </tr>\n",
              "    <tr>\n",
              "      <th>38</th>\n",
              "      <td>37</td>\n",
              "      <td>188670</td>\n",
              "      <td>EMERGENCY</td>\n",
              "      <td>2183-08-21 16:48:00</td>\n",
              "      <td>2183-08-26 18:54:00</td>\n",
              "      <td>CONGESTIVE HEART FAILURE</td>\n",
              "      <td>NaN</td>\n",
              "      <td>NaT</td>\n",
              "      <td>NaN</td>\n",
              "      <td>NaN</td>\n",
              "      <td>Admission Date:  [**2183-8-21**]     Discharge...</td>\n",
              "    </tr>\n",
              "    <tr>\n",
              "      <th>42</th>\n",
              "      <td>42</td>\n",
              "      <td>119203</td>\n",
              "      <td>EMERGENCY</td>\n",
              "      <td>2116-04-26 18:58:00</td>\n",
              "      <td>2116-04-30 18:16:00</td>\n",
              "      <td>CONGESTIVE HEART FAILURE</td>\n",
              "      <td>NaN</td>\n",
              "      <td>NaT</td>\n",
              "      <td>NaN</td>\n",
              "      <td>NaN</td>\n",
              "      <td>Admission Date: [**2116-4-29**]        Dischar...</td>\n",
              "    </tr>\n",
              "    <tr>\n",
              "      <th>217</th>\n",
              "      <td>164</td>\n",
              "      <td>182743</td>\n",
              "      <td>EMERGENCY</td>\n",
              "      <td>2116-12-28 15:32:00</td>\n",
              "      <td>2117-01-16 03:20:00</td>\n",
              "      <td>CONGESTIVE HEART FAILURE</td>\n",
              "      <td>2117-01-16 03:20:00</td>\n",
              "      <td>NaT</td>\n",
              "      <td>NaN</td>\n",
              "      <td>NaN</td>\n",
              "      <td>Admission Date:  [**2116-12-28**]             ...</td>\n",
              "    </tr>\n",
              "    <tr>\n",
              "      <th>388</th>\n",
              "      <td>305</td>\n",
              "      <td>122211</td>\n",
              "      <td>EMERGENCY</td>\n",
              "      <td>2127-06-19 23:49:00</td>\n",
              "      <td>2127-07-16 13:58:00</td>\n",
              "      <td>CONGESTIVE HEART FAILURE</td>\n",
              "      <td>NaN</td>\n",
              "      <td>2129-08-20 18:03:00</td>\n",
              "      <td>EMERGENCY</td>\n",
              "      <td>766.170139</td>\n",
              "      <td>Admission Date:  [**2127-6-19**]              ...</td>\n",
              "    </tr>\n",
              "    <tr>\n",
              "      <th>...</th>\n",
              "      <td>...</td>\n",
              "      <td>...</td>\n",
              "      <td>...</td>\n",
              "      <td>...</td>\n",
              "      <td>...</td>\n",
              "      <td>...</td>\n",
              "      <td>...</td>\n",
              "      <td>...</td>\n",
              "      <td>...</td>\n",
              "      <td>...</td>\n",
              "      <td>...</td>\n",
              "    </tr>\n",
              "    <tr>\n",
              "      <th>58770</th>\n",
              "      <td>99361</td>\n",
              "      <td>151032</td>\n",
              "      <td>EMERGENCY</td>\n",
              "      <td>2146-10-23 00:13:00</td>\n",
              "      <td>2146-11-02 14:50:00</td>\n",
              "      <td>CONGESTIVE HEART FAILURE</td>\n",
              "      <td>NaN</td>\n",
              "      <td>2147-05-28 08:21:00</td>\n",
              "      <td>EMERGENCY</td>\n",
              "      <td>206.729861</td>\n",
              "      <td>Admission Date:  [**2146-10-23**]             ...</td>\n",
              "    </tr>\n",
              "    <tr>\n",
              "      <th>58790</th>\n",
              "      <td>99411</td>\n",
              "      <td>108851</td>\n",
              "      <td>EMERGENCY</td>\n",
              "      <td>2134-03-29 20:54:00</td>\n",
              "      <td>2134-04-12 19:47:00</td>\n",
              "      <td>CONGESTIVE HEART FAILURE</td>\n",
              "      <td>NaN</td>\n",
              "      <td>NaT</td>\n",
              "      <td>NaN</td>\n",
              "      <td>NaN</td>\n",
              "      <td>Admission Date:  [**2134-3-29**]              ...</td>\n",
              "    </tr>\n",
              "    <tr>\n",
              "      <th>58872</th>\n",
              "      <td>99650</td>\n",
              "      <td>199859</td>\n",
              "      <td>EMERGENCY</td>\n",
              "      <td>2156-12-25 06:52:00</td>\n",
              "      <td>2157-02-02 15:29:00</td>\n",
              "      <td>CONGESTIVE HEART FAILURE</td>\n",
              "      <td>NaN</td>\n",
              "      <td>NaT</td>\n",
              "      <td>NaN</td>\n",
              "      <td>NaN</td>\n",
              "      <td>Admission Date:  [**2156-12-25**]             ...</td>\n",
              "    </tr>\n",
              "    <tr>\n",
              "      <th>58875</th>\n",
              "      <td>99660</td>\n",
              "      <td>168541</td>\n",
              "      <td>EMERGENCY</td>\n",
              "      <td>2142-04-25 12:04:00</td>\n",
              "      <td>2142-04-29 18:00:00</td>\n",
              "      <td>CONGESTIVE HEART FAILURE</td>\n",
              "      <td>NaN</td>\n",
              "      <td>2144-05-17 18:51:00</td>\n",
              "      <td>EMERGENCY</td>\n",
              "      <td>749.035417</td>\n",
              "      <td>Admission Date:  [**2142-4-25**]              ...</td>\n",
              "    </tr>\n",
              "    <tr>\n",
              "      <th>58941</th>\n",
              "      <td>99893</td>\n",
              "      <td>128349</td>\n",
              "      <td>EMERGENCY</td>\n",
              "      <td>2193-03-31 21:08:00</td>\n",
              "      <td>2193-04-07 13:27:00</td>\n",
              "      <td>CONGESTIVE HEART FAILURE</td>\n",
              "      <td>NaN</td>\n",
              "      <td>NaT</td>\n",
              "      <td>NaN</td>\n",
              "      <td>NaN</td>\n",
              "      <td>Admission Date:  [**2193-3-31**]              ...</td>\n",
              "    </tr>\n",
              "  </tbody>\n",
              "</table>\n",
              "<p>928 rows × 11 columns</p>\n",
              "</div>"
            ],
            "text/plain": [
              "       SUBJECT_ID  ...                                               TEXT\n",
              "18             21  ...  Admission Date:  [**2134-9-11**]              ...\n",
              "38             37  ...  Admission Date:  [**2183-8-21**]     Discharge...\n",
              "42             42  ...  Admission Date: [**2116-4-29**]        Dischar...\n",
              "217           164  ...  Admission Date:  [**2116-12-28**]             ...\n",
              "388           305  ...  Admission Date:  [**2127-6-19**]              ...\n",
              "...           ...  ...                                                ...\n",
              "58770       99361  ...  Admission Date:  [**2146-10-23**]             ...\n",
              "58790       99411  ...  Admission Date:  [**2134-3-29**]              ...\n",
              "58872       99650  ...  Admission Date:  [**2156-12-25**]             ...\n",
              "58875       99660  ...  Admission Date:  [**2142-4-25**]              ...\n",
              "58941       99893  ...  Admission Date:  [**2193-3-31**]              ...\n",
              "\n",
              "[928 rows x 11 columns]"
            ]
          },
          "metadata": {},
          "execution_count": 46
        }
      ],
      "source": [
        "adm =adm.loc[adm.DIAGNOSIS == 'CONGESTIVE HEART FAILURE']\n",
        "adm"
      ]
    },
    {
      "cell_type": "code",
      "execution_count": null,
      "metadata": {
        "id": "w-hh9g3nMPgn"
      },
      "outputs": [],
      "source": [
        ""
      ]
    },
    {
      "cell_type": "code",
      "execution_count": null,
      "metadata": {
        "id": "yAYdNzrhSgdr",
        "colab": {
          "base_uri": "https://localhost:8080/"
        },
        "outputId": "51c7368c-5cf4-484b-81db-f50eba3ea0c4"
      },
      "outputs": [
        {
          "output_type": "execute_result",
          "data": {
            "text/plain": [
              "0.6923611111111112"
            ]
          },
          "metadata": {},
          "execution_count": 47
        }
      ],
      "source": [
        "adm.As_D_time.min()"
      ]
    },
    {
      "cell_type": "code",
      "execution_count": null,
      "metadata": {
        "id": "MAqVOttcV7S_",
        "colab": {
          "base_uri": "https://localhost:8080/",
          "height": 296
        },
        "outputId": "ead5083a-37c8-4bc4-8686-ab8960271198"
      },
      "outputs": [
        {
          "output_type": "execute_result",
          "data": {
            "text/plain": [
              "[Text(0.5, 0, 'Days Between Readmission')]"
            ]
          },
          "metadata": {},
          "execution_count": 48
        },
        {
          "output_type": "display_data",
          "data": {
            "image/png": "[encoded data removed]",
            "text/plain": [
              "<Figure size 432x288 with 1 Axes>"
            ]
          },
          "metadata": {
            "needs_background": "light"
          }
        }
      ],
      "source": [
        "import seaborn as sns\n",
        "import matplotlib.pyplot as plt\n",
        "\n",
        "ax=sns.histplot(data=merged, x='As_D_time', kde = True)\n",
        "ax.set(xlabel='Days Between Readmission')\n"
      ]
    },
    {
      "cell_type": "code",
      "execution_count": null,
      "metadata": {
        "id": "rHdTlzccULl9"
      },
      "outputs": [],
      "source": [
        ""
      ]
    },
    {
      "cell_type": "code",
      "execution_count": null,
      "metadata": {
        "id": "OIgSsOXgqnPV"
      },
      "outputs": [],
      "source": [
        "#Regularization\n",
        "# for x in (x1,x2,x3...xn)\n",
        "#new_x = x-mean/(xmax-xmin)"
      ]
    },
    {
      "cell_type": "code",
      "execution_count": null,
      "metadata": {
        "id": "3fVsZaa9v3VB"
      },
      "outputs": [],
      "source": [
        ""
      ]
    },
    {
      "cell_type": "code",
      "execution_count": null,
      "metadata": {
        "id": "89Koo6uDv9FK"
      },
      "outputs": [],
      "source": [
        ""
      ]
    },
    {
      "cell_type": "code",
      "execution_count": null,
      "metadata": {
        "id": "V0OFnmWDwMjJ",
        "colab": {
          "base_uri": "https://localhost:8080/",
          "height": 883
        },
        "outputId": "c07a72ac-0cdf-4bb2-9c56-eb4e45040f93"
      },
      "outputs": [
        {
          "output_type": "execute_result",
          "data": {
            "text/html": [
              "<div>\n",
              "<style scoped>\n",
              "    .dataframe tbody tr th:only-of-type {\n",
              "        vertical-align: middle;\n",
              "    }\n",
              "\n",
              "    .dataframe tbody tr th {\n",
              "        vertical-align: top;\n",
              "    }\n",
              "\n",
              "    .dataframe thead th {\n",
              "        text-align: right;\n",
              "    }\n",
              "</style>\n",
              "<table border=\"1\" class=\"dataframe\">\n",
              "  <thead>\n",
              "    <tr style=\"text-align: right;\">\n",
              "      <th></th>\n",
              "      <th>SUBJECT_ID</th>\n",
              "      <th>HADM_ID</th>\n",
              "      <th>ADMISSION_TYPE</th>\n",
              "      <th>ADMITTIME</th>\n",
              "      <th>DISCHTIME</th>\n",
              "      <th>DEATHTIME</th>\n",
              "      <th>ADMITTIME_succeeding</th>\n",
              "      <th>ADMISSION_TYPE_succeeding</th>\n",
              "      <th>As_D_time</th>\n",
              "      <th>TEXT</th>\n",
              "    </tr>\n",
              "  </thead>\n",
              "  <tbody>\n",
              "    <tr>\n",
              "      <th>0</th>\n",
              "      <td>2</td>\n",
              "      <td>163353</td>\n",
              "      <td>NEWBORN</td>\n",
              "      <td>2138-07-17 19:04:00</td>\n",
              "      <td>2138-07-21 15:48:00</td>\n",
              "      <td>NaN</td>\n",
              "      <td>NaT</td>\n",
              "      <td>NaN</td>\n",
              "      <td>NaN</td>\n",
              "      <td>NaN</td>\n",
              "    </tr>\n",
              "    <tr>\n",
              "      <th>1</th>\n",
              "      <td>3</td>\n",
              "      <td>145834</td>\n",
              "      <td>EMERGENCY</td>\n",
              "      <td>2101-10-20 19:08:00</td>\n",
              "      <td>2101-10-31 13:58:00</td>\n",
              "      <td>NaN</td>\n",
              "      <td>NaT</td>\n",
              "      <td>NaN</td>\n",
              "      <td>NaN</td>\n",
              "      <td>Admission Date:  [**2101-10-20**]     Discharg...</td>\n",
              "    </tr>\n",
              "    <tr>\n",
              "      <th>2</th>\n",
              "      <td>4</td>\n",
              "      <td>185777</td>\n",
              "      <td>EMERGENCY</td>\n",
              "      <td>2191-03-16 00:28:00</td>\n",
              "      <td>2191-03-23 18:41:00</td>\n",
              "      <td>NaN</td>\n",
              "      <td>NaT</td>\n",
              "      <td>NaN</td>\n",
              "      <td>NaN</td>\n",
              "      <td>Admission Date:  [**2191-3-16**]     Discharge...</td>\n",
              "    </tr>\n",
              "    <tr>\n",
              "      <th>3</th>\n",
              "      <td>5</td>\n",
              "      <td>178980</td>\n",
              "      <td>NEWBORN</td>\n",
              "      <td>2103-02-02 04:31:00</td>\n",
              "      <td>2103-02-04 12:15:00</td>\n",
              "      <td>NaN</td>\n",
              "      <td>NaT</td>\n",
              "      <td>NaN</td>\n",
              "      <td>NaN</td>\n",
              "      <td>NaN</td>\n",
              "    </tr>\n",
              "    <tr>\n",
              "      <th>4</th>\n",
              "      <td>6</td>\n",
              "      <td>107064</td>\n",
              "      <td>ELECTIVE</td>\n",
              "      <td>2175-05-30 07:15:00</td>\n",
              "      <td>2175-06-15 16:00:00</td>\n",
              "      <td>NaN</td>\n",
              "      <td>NaT</td>\n",
              "      <td>NaN</td>\n",
              "      <td>NaN</td>\n",
              "      <td>Admission Date: [**2175-5-30**]        Dischar...</td>\n",
              "    </tr>\n",
              "    <tr>\n",
              "      <th>5</th>\n",
              "      <td>7</td>\n",
              "      <td>118037</td>\n",
              "      <td>NEWBORN</td>\n",
              "      <td>2121-05-23 15:05:00</td>\n",
              "      <td>2121-05-27 11:57:00</td>\n",
              "      <td>NaN</td>\n",
              "      <td>NaT</td>\n",
              "      <td>NaN</td>\n",
              "      <td>NaN</td>\n",
              "      <td>NaN</td>\n",
              "    </tr>\n",
              "    <tr>\n",
              "      <th>6</th>\n",
              "      <td>8</td>\n",
              "      <td>159514</td>\n",
              "      <td>NEWBORN</td>\n",
              "      <td>2117-11-20 10:22:00</td>\n",
              "      <td>2117-11-24 14:20:00</td>\n",
              "      <td>NaN</td>\n",
              "      <td>NaT</td>\n",
              "      <td>NaN</td>\n",
              "      <td>NaN</td>\n",
              "      <td>NaN</td>\n",
              "    </tr>\n",
              "    <tr>\n",
              "      <th>7</th>\n",
              "      <td>9</td>\n",
              "      <td>150750</td>\n",
              "      <td>EMERGENCY</td>\n",
              "      <td>2149-11-09 13:06:00</td>\n",
              "      <td>2149-11-14 10:15:00</td>\n",
              "      <td>2149-11-14 10:15:00</td>\n",
              "      <td>NaT</td>\n",
              "      <td>NaN</td>\n",
              "      <td>NaN</td>\n",
              "      <td>Name:  [**Known lastname 10050**], [**Known fi...</td>\n",
              "    </tr>\n",
              "    <tr>\n",
              "      <th>8</th>\n",
              "      <td>10</td>\n",
              "      <td>184167</td>\n",
              "      <td>NEWBORN</td>\n",
              "      <td>2103-06-28 11:36:00</td>\n",
              "      <td>2103-07-06 12:10:00</td>\n",
              "      <td>NaN</td>\n",
              "      <td>NaT</td>\n",
              "      <td>NaN</td>\n",
              "      <td>NaN</td>\n",
              "      <td>Admission Date:  [**2103-6-28**]       Dischar...</td>\n",
              "    </tr>\n",
              "    <tr>\n",
              "      <th>9</th>\n",
              "      <td>11</td>\n",
              "      <td>194540</td>\n",
              "      <td>EMERGENCY</td>\n",
              "      <td>2178-04-16 06:18:00</td>\n",
              "      <td>2178-05-11 19:00:00</td>\n",
              "      <td>NaN</td>\n",
              "      <td>NaT</td>\n",
              "      <td>NaN</td>\n",
              "      <td>NaN</td>\n",
              "      <td>Admission Date:  [**2178-4-16**]              ...</td>\n",
              "    </tr>\n",
              "  </tbody>\n",
              "</table>\n",
              "</div>"
            ],
            "text/plain": [
              "   SUBJECT_ID  ...                                               TEXT\n",
              "0           2  ...                                                NaN\n",
              "1           3  ...  Admission Date:  [**2101-10-20**]     Discharg...\n",
              "2           4  ...  Admission Date:  [**2191-3-16**]     Discharge...\n",
              "3           5  ...                                                NaN\n",
              "4           6  ...  Admission Date: [**2175-5-30**]        Dischar...\n",
              "5           7  ...                                                NaN\n",
              "6           8  ...                                                NaN\n",
              "7           9  ...  Name:  [**Known lastname 10050**], [**Known fi...\n",
              "8          10  ...  Admission Date:  [**2103-6-28**]       Dischar...\n",
              "9          11  ...  Admission Date:  [**2178-4-16**]              ...\n",
              "\n",
              "[10 rows x 10 columns]"
            ]
          },
          "metadata": {},
          "execution_count": 50
        }
      ],
      "source": [
        "merged.head(10)\n"
      ]
    },
    {
      "cell_type": "code",
      "execution_count": null,
      "metadata": {
        "id": "49C_-hIFViYu",
        "colab": {
          "base_uri": "https://localhost:8080/",
          "height": 1000
        },
        "outputId": "21ad0a95-c8dd-4878-eace-cd457b493b89"
      },
      "outputs": [
        {
          "output_type": "execute_result",
          "data": {
            "text/html": [
              "<div>\n",
              "<style scoped>\n",
              "    .dataframe tbody tr th:only-of-type {\n",
              "        vertical-align: middle;\n",
              "    }\n",
              "\n",
              "    .dataframe tbody tr th {\n",
              "        vertical-align: top;\n",
              "    }\n",
              "\n",
              "    .dataframe thead th {\n",
              "        text-align: right;\n",
              "    }\n",
              "</style>\n",
              "<table border=\"1\" class=\"dataframe\">\n",
              "  <thead>\n",
              "    <tr style=\"text-align: right;\">\n",
              "      <th></th>\n",
              "      <th>SUBJECT_ID</th>\n",
              "      <th>HADM_ID</th>\n",
              "      <th>ADMISSION_TYPE</th>\n",
              "      <th>ADMITTIME</th>\n",
              "      <th>DISCHTIME</th>\n",
              "      <th>DEATHTIME</th>\n",
              "      <th>ADMITTIME_succeeding</th>\n",
              "      <th>ADMISSION_TYPE_succeeding</th>\n",
              "      <th>As_D_time</th>\n",
              "      <th>TEXT</th>\n",
              "      <th>OUTPUT_LABEL</th>\n",
              "    </tr>\n",
              "  </thead>\n",
              "  <tbody>\n",
              "    <tr>\n",
              "      <th>0</th>\n",
              "      <td>2</td>\n",
              "      <td>163353</td>\n",
              "      <td>NEWBORN</td>\n",
              "      <td>2138-07-17 19:04:00</td>\n",
              "      <td>2138-07-21 15:48:00</td>\n",
              "      <td>NaN</td>\n",
              "      <td>NaT</td>\n",
              "      <td>NaN</td>\n",
              "      <td>NaN</td>\n",
              "      <td>NaN</td>\n",
              "      <td>0</td>\n",
              "    </tr>\n",
              "    <tr>\n",
              "      <th>1</th>\n",
              "      <td>3</td>\n",
              "      <td>145834</td>\n",
              "      <td>EMERGENCY</td>\n",
              "      <td>2101-10-20 19:08:00</td>\n",
              "      <td>2101-10-31 13:58:00</td>\n",
              "      <td>NaN</td>\n",
              "      <td>NaT</td>\n",
              "      <td>NaN</td>\n",
              "      <td>NaN</td>\n",
              "      <td>Admission Date:  [**2101-10-20**]     Discharg...</td>\n",
              "      <td>0</td>\n",
              "    </tr>\n",
              "    <tr>\n",
              "      <th>2</th>\n",
              "      <td>4</td>\n",
              "      <td>185777</td>\n",
              "      <td>EMERGENCY</td>\n",
              "      <td>2191-03-16 00:28:00</td>\n",
              "      <td>2191-03-23 18:41:00</td>\n",
              "      <td>NaN</td>\n",
              "      <td>NaT</td>\n",
              "      <td>NaN</td>\n",
              "      <td>NaN</td>\n",
              "      <td>Admission Date:  [**2191-3-16**]     Discharge...</td>\n",
              "      <td>0</td>\n",
              "    </tr>\n",
              "    <tr>\n",
              "      <th>3</th>\n",
              "      <td>5</td>\n",
              "      <td>178980</td>\n",
              "      <td>NEWBORN</td>\n",
              "      <td>2103-02-02 04:31:00</td>\n",
              "      <td>2103-02-04 12:15:00</td>\n",
              "      <td>NaN</td>\n",
              "      <td>NaT</td>\n",
              "      <td>NaN</td>\n",
              "      <td>NaN</td>\n",
              "      <td>NaN</td>\n",
              "      <td>0</td>\n",
              "    </tr>\n",
              "    <tr>\n",
              "      <th>4</th>\n",
              "      <td>6</td>\n",
              "      <td>107064</td>\n",
              "      <td>ELECTIVE</td>\n",
              "      <td>2175-05-30 07:15:00</td>\n",
              "      <td>2175-06-15 16:00:00</td>\n",
              "      <td>NaN</td>\n",
              "      <td>NaT</td>\n",
              "      <td>NaN</td>\n",
              "      <td>NaN</td>\n",
              "      <td>Admission Date: [**2175-5-30**]        Dischar...</td>\n",
              "      <td>0</td>\n",
              "    </tr>\n",
              "    <tr>\n",
              "      <th>5</th>\n",
              "      <td>7</td>\n",
              "      <td>118037</td>\n",
              "      <td>NEWBORN</td>\n",
              "      <td>2121-05-23 15:05:00</td>\n",
              "      <td>2121-05-27 11:57:00</td>\n",
              "      <td>NaN</td>\n",
              "      <td>NaT</td>\n",
              "      <td>NaN</td>\n",
              "      <td>NaN</td>\n",
              "      <td>NaN</td>\n",
              "      <td>0</td>\n",
              "    </tr>\n",
              "    <tr>\n",
              "      <th>6</th>\n",
              "      <td>8</td>\n",
              "      <td>159514</td>\n",
              "      <td>NEWBORN</td>\n",
              "      <td>2117-11-20 10:22:00</td>\n",
              "      <td>2117-11-24 14:20:00</td>\n",
              "      <td>NaN</td>\n",
              "      <td>NaT</td>\n",
              "      <td>NaN</td>\n",
              "      <td>NaN</td>\n",
              "      <td>NaN</td>\n",
              "      <td>0</td>\n",
              "    </tr>\n",
              "    <tr>\n",
              "      <th>7</th>\n",
              "      <td>9</td>\n",
              "      <td>150750</td>\n",
              "      <td>EMERGENCY</td>\n",
              "      <td>2149-11-09 13:06:00</td>\n",
              "      <td>2149-11-14 10:15:00</td>\n",
              "      <td>2149-11-14 10:15:00</td>\n",
              "      <td>NaT</td>\n",
              "      <td>NaN</td>\n",
              "      <td>NaN</td>\n",
              "      <td>Name:  [**Known lastname 10050**], [**Known fi...</td>\n",
              "      <td>0</td>\n",
              "    </tr>\n",
              "    <tr>\n",
              "      <th>8</th>\n",
              "      <td>10</td>\n",
              "      <td>184167</td>\n",
              "      <td>NEWBORN</td>\n",
              "      <td>2103-06-28 11:36:00</td>\n",
              "      <td>2103-07-06 12:10:00</td>\n",
              "      <td>NaN</td>\n",
              "      <td>NaT</td>\n",
              "      <td>NaN</td>\n",
              "      <td>NaN</td>\n",
              "      <td>Admission Date:  [**2103-6-28**]       Dischar...</td>\n",
              "      <td>0</td>\n",
              "    </tr>\n",
              "    <tr>\n",
              "      <th>9</th>\n",
              "      <td>11</td>\n",
              "      <td>194540</td>\n",
              "      <td>EMERGENCY</td>\n",
              "      <td>2178-04-16 06:18:00</td>\n",
              "      <td>2178-05-11 19:00:00</td>\n",
              "      <td>NaN</td>\n",
              "      <td>NaT</td>\n",
              "      <td>NaN</td>\n",
              "      <td>NaN</td>\n",
              "      <td>Admission Date:  [**2178-4-16**]              ...</td>\n",
              "      <td>0</td>\n",
              "    </tr>\n",
              "    <tr>\n",
              "      <th>10</th>\n",
              "      <td>12</td>\n",
              "      <td>112213</td>\n",
              "      <td>ELECTIVE</td>\n",
              "      <td>2104-08-07 10:15:00</td>\n",
              "      <td>2104-08-20 02:57:00</td>\n",
              "      <td>2104-08-20 02:57:00</td>\n",
              "      <td>NaT</td>\n",
              "      <td>NaN</td>\n",
              "      <td>NaN</td>\n",
              "      <td>Admission Date:  [**2104-8-7**]     Discharge ...</td>\n",
              "      <td>0</td>\n",
              "    </tr>\n",
              "    <tr>\n",
              "      <th>11</th>\n",
              "      <td>13</td>\n",
              "      <td>143045</td>\n",
              "      <td>EMERGENCY</td>\n",
              "      <td>2167-01-08 18:43:00</td>\n",
              "      <td>2167-01-15 15:15:00</td>\n",
              "      <td>NaN</td>\n",
              "      <td>NaT</td>\n",
              "      <td>NaN</td>\n",
              "      <td>NaN</td>\n",
              "      <td>Name:  [**Known lastname 9900**], [**Known fir...</td>\n",
              "      <td>0</td>\n",
              "    </tr>\n",
              "    <tr>\n",
              "      <th>12</th>\n",
              "      <td>16</td>\n",
              "      <td>103251</td>\n",
              "      <td>NEWBORN</td>\n",
              "      <td>2178-02-03 06:35:00</td>\n",
              "      <td>2178-02-05 10:51:00</td>\n",
              "      <td>NaN</td>\n",
              "      <td>NaT</td>\n",
              "      <td>NaN</td>\n",
              "      <td>NaN</td>\n",
              "      <td>NaN</td>\n",
              "      <td>0</td>\n",
              "    </tr>\n",
              "    <tr>\n",
              "      <th>13</th>\n",
              "      <td>17</td>\n",
              "      <td>194023</td>\n",
              "      <td>ELECTIVE</td>\n",
              "      <td>2134-12-27 07:15:00</td>\n",
              "      <td>2134-12-31 16:05:00</td>\n",
              "      <td>NaN</td>\n",
              "      <td>2135-05-09 14:11:00</td>\n",
              "      <td>EMERGENCY</td>\n",
              "      <td>128.920833</td>\n",
              "      <td>Admission Date:  [**2134-12-27**]             ...</td>\n",
              "      <td>0</td>\n",
              "    </tr>\n",
              "    <tr>\n",
              "      <th>14</th>\n",
              "      <td>17</td>\n",
              "      <td>161087</td>\n",
              "      <td>EMERGENCY</td>\n",
              "      <td>2135-05-09 14:11:00</td>\n",
              "      <td>2135-05-13 14:40:00</td>\n",
              "      <td>NaN</td>\n",
              "      <td>NaT</td>\n",
              "      <td>NaN</td>\n",
              "      <td>NaN</td>\n",
              "      <td>Admission Date:  [**2135-5-9**]              D...</td>\n",
              "      <td>0</td>\n",
              "    </tr>\n",
              "    <tr>\n",
              "      <th>15</th>\n",
              "      <td>18</td>\n",
              "      <td>188822</td>\n",
              "      <td>EMERGENCY</td>\n",
              "      <td>2167-10-02 11:18:00</td>\n",
              "      <td>2167-10-04 16:15:00</td>\n",
              "      <td>NaN</td>\n",
              "      <td>NaT</td>\n",
              "      <td>NaN</td>\n",
              "      <td>NaN</td>\n",
              "      <td>Name:  [**Known lastname 4919**] JR,[**Known f...</td>\n",
              "      <td>0</td>\n",
              "    </tr>\n",
              "    <tr>\n",
              "      <th>16</th>\n",
              "      <td>19</td>\n",
              "      <td>109235</td>\n",
              "      <td>EMERGENCY</td>\n",
              "      <td>2108-08-05 16:25:00</td>\n",
              "      <td>2108-08-11 11:29:00</td>\n",
              "      <td>NaN</td>\n",
              "      <td>NaT</td>\n",
              "      <td>NaN</td>\n",
              "      <td>NaN</td>\n",
              "      <td>Admission Date:  [**2108-8-5**]              D...</td>\n",
              "      <td>0</td>\n",
              "    </tr>\n",
              "    <tr>\n",
              "      <th>17</th>\n",
              "      <td>20</td>\n",
              "      <td>157681</td>\n",
              "      <td>ELECTIVE</td>\n",
              "      <td>2183-04-28 09:45:00</td>\n",
              "      <td>2183-05-03 14:45:00</td>\n",
              "      <td>NaN</td>\n",
              "      <td>NaT</td>\n",
              "      <td>NaN</td>\n",
              "      <td>NaN</td>\n",
              "      <td>Admission Date:  [**2183-4-28**]       Dischar...</td>\n",
              "      <td>0</td>\n",
              "    </tr>\n",
              "    <tr>\n",
              "      <th>18</th>\n",
              "      <td>21</td>\n",
              "      <td>109451</td>\n",
              "      <td>EMERGENCY</td>\n",
              "      <td>2134-09-11 12:17:00</td>\n",
              "      <td>2134-09-24 16:15:00</td>\n",
              "      <td>NaN</td>\n",
              "      <td>2135-01-30 20:50:00</td>\n",
              "      <td>EMERGENCY</td>\n",
              "      <td>128.190972</td>\n",
              "      <td>Admission Date:  [**2134-9-11**]              ...</td>\n",
              "      <td>0</td>\n",
              "    </tr>\n",
              "    <tr>\n",
              "      <th>19</th>\n",
              "      <td>21</td>\n",
              "      <td>111970</td>\n",
              "      <td>EMERGENCY</td>\n",
              "      <td>2135-01-30 20:50:00</td>\n",
              "      <td>2135-02-08 02:08:00</td>\n",
              "      <td>2135-02-08 02:08:00</td>\n",
              "      <td>NaT</td>\n",
              "      <td>NaN</td>\n",
              "      <td>NaN</td>\n",
              "      <td>Admission Date:  [**2135-1-30**]              ...</td>\n",
              "      <td>0</td>\n",
              "    </tr>\n",
              "    <tr>\n",
              "      <th>20</th>\n",
              "      <td>22</td>\n",
              "      <td>165315</td>\n",
              "      <td>EMERGENCY</td>\n",
              "      <td>2196-04-09 12:26:00</td>\n",
              "      <td>2196-04-10 15:54:00</td>\n",
              "      <td>NaN</td>\n",
              "      <td>NaT</td>\n",
              "      <td>NaN</td>\n",
              "      <td>NaN</td>\n",
              "      <td>Admission Date:  [**2196-4-9**]       Discharg...</td>\n",
              "      <td>0</td>\n",
              "    </tr>\n",
              "    <tr>\n",
              "      <th>21</th>\n",
              "      <td>23</td>\n",
              "      <td>152223</td>\n",
              "      <td>ELECTIVE</td>\n",
              "      <td>2153-09-03 07:15:00</td>\n",
              "      <td>2153-09-08 19:10:00</td>\n",
              "      <td>NaN</td>\n",
              "      <td>2157-10-18 19:34:00</td>\n",
              "      <td>EMERGENCY</td>\n",
              "      <td>1501.016667</td>\n",
              "      <td>Admission Date:  [**2153-9-3**]              D...</td>\n",
              "      <td>0</td>\n",
              "    </tr>\n",
              "    <tr>\n",
              "      <th>22</th>\n",
              "      <td>23</td>\n",
              "      <td>124321</td>\n",
              "      <td>EMERGENCY</td>\n",
              "      <td>2157-10-18 19:34:00</td>\n",
              "      <td>2157-10-25 14:00:00</td>\n",
              "      <td>NaN</td>\n",
              "      <td>NaT</td>\n",
              "      <td>NaN</td>\n",
              "      <td>NaN</td>\n",
              "      <td>Admission Date:  [**2157-10-18**]             ...</td>\n",
              "      <td>0</td>\n",
              "    </tr>\n",
              "    <tr>\n",
              "      <th>23</th>\n",
              "      <td>24</td>\n",
              "      <td>161859</td>\n",
              "      <td>EMERGENCY</td>\n",
              "      <td>2139-06-06 16:14:00</td>\n",
              "      <td>2139-06-09 12:48:00</td>\n",
              "      <td>NaN</td>\n",
              "      <td>NaT</td>\n",
              "      <td>NaN</td>\n",
              "      <td>NaN</td>\n",
              "      <td>Admission Date:  [**2139-6-6**]              D...</td>\n",
              "      <td>0</td>\n",
              "    </tr>\n",
              "    <tr>\n",
              "      <th>24</th>\n",
              "      <td>25</td>\n",
              "      <td>129635</td>\n",
              "      <td>EMERGENCY</td>\n",
              "      <td>2160-11-02 02:06:00</td>\n",
              "      <td>2160-11-05 14:55:00</td>\n",
              "      <td>NaN</td>\n",
              "      <td>NaT</td>\n",
              "      <td>NaN</td>\n",
              "      <td>NaN</td>\n",
              "      <td>Admission Date:  [**2160-11-2**]              ...</td>\n",
              "      <td>0</td>\n",
              "    </tr>\n",
              "    <tr>\n",
              "      <th>25</th>\n",
              "      <td>26</td>\n",
              "      <td>197661</td>\n",
              "      <td>EMERGENCY</td>\n",
              "      <td>2126-05-06 15:16:00</td>\n",
              "      <td>2126-05-13 15:00:00</td>\n",
              "      <td>NaN</td>\n",
              "      <td>NaT</td>\n",
              "      <td>NaN</td>\n",
              "      <td>NaN</td>\n",
              "      <td>Admission Date:  [**2126-5-6**]     Discharge ...</td>\n",
              "      <td>0</td>\n",
              "    </tr>\n",
              "    <tr>\n",
              "      <th>26</th>\n",
              "      <td>27</td>\n",
              "      <td>134931</td>\n",
              "      <td>NEWBORN</td>\n",
              "      <td>2191-11-30 22:16:00</td>\n",
              "      <td>2191-12-03 14:45:00</td>\n",
              "      <td>NaN</td>\n",
              "      <td>NaT</td>\n",
              "      <td>NaN</td>\n",
              "      <td>NaN</td>\n",
              "      <td>NaN</td>\n",
              "      <td>0</td>\n",
              "    </tr>\n",
              "    <tr>\n",
              "      <th>27</th>\n",
              "      <td>28</td>\n",
              "      <td>162569</td>\n",
              "      <td>ELECTIVE</td>\n",
              "      <td>2177-09-01 07:15:00</td>\n",
              "      <td>2177-09-06 16:00:00</td>\n",
              "      <td>NaN</td>\n",
              "      <td>NaT</td>\n",
              "      <td>NaN</td>\n",
              "      <td>NaN</td>\n",
              "      <td>Admission Date: [**2177-9-1**]        Discharg...</td>\n",
              "      <td>0</td>\n",
              "    </tr>\n",
              "    <tr>\n",
              "      <th>28</th>\n",
              "      <td>30</td>\n",
              "      <td>104557</td>\n",
              "      <td>URGENT</td>\n",
              "      <td>2172-10-14 14:17:00</td>\n",
              "      <td>2172-10-19 14:37:00</td>\n",
              "      <td>NaN</td>\n",
              "      <td>NaT</td>\n",
              "      <td>NaN</td>\n",
              "      <td>NaN</td>\n",
              "      <td>Admission Date:  [**2172-10-14**]       Discha...</td>\n",
              "      <td>0</td>\n",
              "    </tr>\n",
              "    <tr>\n",
              "      <th>29</th>\n",
              "      <td>31</td>\n",
              "      <td>128652</td>\n",
              "      <td>EMERGENCY</td>\n",
              "      <td>2108-08-22 23:27:00</td>\n",
              "      <td>2108-08-30 15:00:00</td>\n",
              "      <td>2108-08-30 15:00:00</td>\n",
              "      <td>NaT</td>\n",
              "      <td>NaN</td>\n",
              "      <td>NaN</td>\n",
              "      <td>Admission Date:  [**2108-8-22**]     Discharge...</td>\n",
              "      <td>0</td>\n",
              "    </tr>\n",
              "  </tbody>\n",
              "</table>\n",
              "</div>"
            ],
            "text/plain": [
              "    SUBJECT_ID  ...  OUTPUT_LABEL\n",
              "0            2  ...             0\n",
              "1            3  ...             0\n",
              "2            4  ...             0\n",
              "3            5  ...             0\n",
              "4            6  ...             0\n",
              "5            7  ...             0\n",
              "6            8  ...             0\n",
              "7            9  ...             0\n",
              "8           10  ...             0\n",
              "9           11  ...             0\n",
              "10          12  ...             0\n",
              "11          13  ...             0\n",
              "12          16  ...             0\n",
              "13          17  ...             0\n",
              "14          17  ...             0\n",
              "15          18  ...             0\n",
              "16          19  ...             0\n",
              "17          20  ...             0\n",
              "18          21  ...             0\n",
              "19          21  ...             0\n",
              "20          22  ...             0\n",
              "21          23  ...             0\n",
              "22          23  ...             0\n",
              "23          24  ...             0\n",
              "24          25  ...             0\n",
              "25          26  ...             0\n",
              "26          27  ...             0\n",
              "27          28  ...             0\n",
              "28          30  ...             0\n",
              "29          31  ...             0\n",
              "\n",
              "[30 rows x 11 columns]"
            ]
          },
          "metadata": {},
          "execution_count": 51
        }
      ],
      "source": [
        "merged['OUTPUT_LABEL'] = (merged.As_D_time< 30).astype('int')\n",
        "merged.head(30)"
      ]
    },
    {
      "cell_type": "code",
      "execution_count": null,
      "metadata": {
        "id": "aKWLySwaRxso"
      },
      "outputs": [],
      "source": [
        "merged.dropna(subset = [\"As_D_time\"], inplace=True)"
      ]
    },
    {
      "cell_type": "code",
      "execution_count": null,
      "metadata": {
        "id": "6kLlpr9CTz9J",
        "colab": {
          "base_uri": "https://localhost:8080/",
          "height": 486
        },
        "outputId": "f56774b1-8cae-45d7-c804-d964f77c01bc"
      },
      "outputs": [
        {
          "output_type": "execute_result",
          "data": {
            "text/html": [
              "<div>\n",
              "<style scoped>\n",
              "    .dataframe tbody tr th:only-of-type {\n",
              "        vertical-align: middle;\n",
              "    }\n",
              "\n",
              "    .dataframe tbody tr th {\n",
              "        vertical-align: top;\n",
              "    }\n",
              "\n",
              "    .dataframe thead th {\n",
              "        text-align: right;\n",
              "    }\n",
              "</style>\n",
              "<table border=\"1\" class=\"dataframe\">\n",
              "  <thead>\n",
              "    <tr style=\"text-align: right;\">\n",
              "      <th></th>\n",
              "      <th>SUBJECT_ID</th>\n",
              "      <th>HADM_ID</th>\n",
              "      <th>ADMISSION_TYPE</th>\n",
              "      <th>ADMITTIME</th>\n",
              "      <th>DISCHTIME</th>\n",
              "      <th>DEATHTIME</th>\n",
              "      <th>ADMITTIME_succeeding</th>\n",
              "      <th>ADMISSION_TYPE_succeeding</th>\n",
              "      <th>As_D_time</th>\n",
              "      <th>TEXT</th>\n",
              "      <th>OUTPUT_LABEL</th>\n",
              "    </tr>\n",
              "  </thead>\n",
              "  <tbody>\n",
              "    <tr>\n",
              "      <th>13</th>\n",
              "      <td>17</td>\n",
              "      <td>194023</td>\n",
              "      <td>ELECTIVE</td>\n",
              "      <td>2134-12-27 07:15:00</td>\n",
              "      <td>2134-12-31 16:05:00</td>\n",
              "      <td>NaN</td>\n",
              "      <td>2135-05-09 14:11:00</td>\n",
              "      <td>EMERGENCY</td>\n",
              "      <td>128.920833</td>\n",
              "      <td>Admission Date:  [**2134-12-27**]             ...</td>\n",
              "      <td>0</td>\n",
              "    </tr>\n",
              "    <tr>\n",
              "      <th>18</th>\n",
              "      <td>21</td>\n",
              "      <td>109451</td>\n",
              "      <td>EMERGENCY</td>\n",
              "      <td>2134-09-11 12:17:00</td>\n",
              "      <td>2134-09-24 16:15:00</td>\n",
              "      <td>NaN</td>\n",
              "      <td>2135-01-30 20:50:00</td>\n",
              "      <td>EMERGENCY</td>\n",
              "      <td>128.190972</td>\n",
              "      <td>Admission Date:  [**2134-9-11**]              ...</td>\n",
              "      <td>0</td>\n",
              "    </tr>\n",
              "    <tr>\n",
              "      <th>21</th>\n",
              "      <td>23</td>\n",
              "      <td>152223</td>\n",
              "      <td>ELECTIVE</td>\n",
              "      <td>2153-09-03 07:15:00</td>\n",
              "      <td>2153-09-08 19:10:00</td>\n",
              "      <td>NaN</td>\n",
              "      <td>2157-10-18 19:34:00</td>\n",
              "      <td>EMERGENCY</td>\n",
              "      <td>1501.016667</td>\n",
              "      <td>Admission Date:  [**2153-9-3**]              D...</td>\n",
              "      <td>0</td>\n",
              "    </tr>\n",
              "    <tr>\n",
              "      <th>32</th>\n",
              "      <td>34</td>\n",
              "      <td>115799</td>\n",
              "      <td>EMERGENCY</td>\n",
              "      <td>2186-07-18 16:46:00</td>\n",
              "      <td>2186-07-20 16:00:00</td>\n",
              "      <td>NaN</td>\n",
              "      <td>2191-02-23 05:23:00</td>\n",
              "      <td>EMERGENCY</td>\n",
              "      <td>1678.557639</td>\n",
              "      <td>NaN</td>\n",
              "      <td>0</td>\n",
              "    </tr>\n",
              "    <tr>\n",
              "      <th>35</th>\n",
              "      <td>36</td>\n",
              "      <td>182104</td>\n",
              "      <td>EMERGENCY</td>\n",
              "      <td>2131-04-30 07:15:00</td>\n",
              "      <td>2131-05-08 14:00:00</td>\n",
              "      <td>NaN</td>\n",
              "      <td>2131-05-12 19:49:00</td>\n",
              "      <td>EMERGENCY</td>\n",
              "      <td>4.242361</td>\n",
              "      <td>Admission Date:  [**2131-4-30**]              ...</td>\n",
              "      <td>1</td>\n",
              "    </tr>\n",
              "  </tbody>\n",
              "</table>\n",
              "</div>"
            ],
            "text/plain": [
              "    SUBJECT_ID  ...  OUTPUT_LABEL\n",
              "13          17  ...             0\n",
              "18          21  ...             0\n",
              "21          23  ...             0\n",
              "32          34  ...             0\n",
              "35          36  ...             1\n",
              "\n",
              "[5 rows x 11 columns]"
            ]
          },
          "metadata": {},
          "execution_count": 53
        }
      ],
      "source": [
        "merged.head()\n"
      ]
    },
    {
      "cell_type": "code",
      "execution_count": null,
      "metadata": {
        "id": "oLMaEDWOT5wc",
        "colab": {
          "base_uri": "https://localhost:8080/"
        },
        "outputId": "473a302f-c68c-4796-dde0-443cc5309e08"
      },
      "outputs": [
        {
          "output_type": "execute_result",
          "data": {
            "text/plain": [
              "(12456, 11)"
            ]
          },
          "metadata": {},
          "execution_count": 54
        }
      ],
      "source": [
        "merged.shape"
      ]
    },
    {
      "cell_type": "code",
      "execution_count": null,
      "metadata": {
        "id": "8UoRgvM4Y3YL",
        "colab": {
          "base_uri": "https://localhost:8080/",
          "height": 1000
        },
        "outputId": "6ddf6f80-4f2e-4b9d-84ac-a32017a230f3"
      },
      "outputs": [
        {
          "output_type": "execute_result",
          "data": {
            "text/html": [
              "<div>\n",
              "<style scoped>\n",
              "    .dataframe tbody tr th:only-of-type {\n",
              "        vertical-align: middle;\n",
              "    }\n",
              "\n",
              "    .dataframe tbody tr th {\n",
              "        vertical-align: top;\n",
              "    }\n",
              "\n",
              "    .dataframe thead th {\n",
              "        text-align: right;\n",
              "    }\n",
              "</style>\n",
              "<table border=\"1\" class=\"dataframe\">\n",
              "  <thead>\n",
              "    <tr style=\"text-align: right;\">\n",
              "      <th></th>\n",
              "      <th>SUBJECT_ID</th>\n",
              "      <th>HADM_ID</th>\n",
              "      <th>ADMISSION_TYPE</th>\n",
              "      <th>ADMITTIME</th>\n",
              "      <th>DISCHTIME</th>\n",
              "      <th>ADMITTIME_succeeding</th>\n",
              "      <th>ADMISSION_TYPE_succeeding</th>\n",
              "      <th>As_D_time</th>\n",
              "      <th>TEXT</th>\n",
              "      <th>OUTPUT_LABEL</th>\n",
              "    </tr>\n",
              "  </thead>\n",
              "  <tbody>\n",
              "    <tr>\n",
              "      <th>13</th>\n",
              "      <td>17</td>\n",
              "      <td>194023</td>\n",
              "      <td>ELECTIVE</td>\n",
              "      <td>2134-12-27 07:15:00</td>\n",
              "      <td>2134-12-31 16:05:00</td>\n",
              "      <td>2135-05-09 14:11:00</td>\n",
              "      <td>EMERGENCY</td>\n",
              "      <td>128.920833</td>\n",
              "      <td>Admission Date:  [**2134-12-27**]             ...</td>\n",
              "      <td>0</td>\n",
              "    </tr>\n",
              "    <tr>\n",
              "      <th>18</th>\n",
              "      <td>21</td>\n",
              "      <td>109451</td>\n",
              "      <td>EMERGENCY</td>\n",
              "      <td>2134-09-11 12:17:00</td>\n",
              "      <td>2134-09-24 16:15:00</td>\n",
              "      <td>2135-01-30 20:50:00</td>\n",
              "      <td>EMERGENCY</td>\n",
              "      <td>128.190972</td>\n",
              "      <td>Admission Date:  [**2134-9-11**]              ...</td>\n",
              "      <td>0</td>\n",
              "    </tr>\n",
              "    <tr>\n",
              "      <th>21</th>\n",
              "      <td>23</td>\n",
              "      <td>152223</td>\n",
              "      <td>ELECTIVE</td>\n",
              "      <td>2153-09-03 07:15:00</td>\n",
              "      <td>2153-09-08 19:10:00</td>\n",
              "      <td>2157-10-18 19:34:00</td>\n",
              "      <td>EMERGENCY</td>\n",
              "      <td>1501.016667</td>\n",
              "      <td>Admission Date:  [**2153-9-3**]              D...</td>\n",
              "      <td>0</td>\n",
              "    </tr>\n",
              "    <tr>\n",
              "      <th>35</th>\n",
              "      <td>36</td>\n",
              "      <td>182104</td>\n",
              "      <td>EMERGENCY</td>\n",
              "      <td>2131-04-30 07:15:00</td>\n",
              "      <td>2131-05-08 14:00:00</td>\n",
              "      <td>2131-05-12 19:49:00</td>\n",
              "      <td>EMERGENCY</td>\n",
              "      <td>4.242361</td>\n",
              "      <td>Admission Date:  [**2131-4-30**]              ...</td>\n",
              "      <td>1</td>\n",
              "    </tr>\n",
              "    <tr>\n",
              "      <th>36</th>\n",
              "      <td>36</td>\n",
              "      <td>122659</td>\n",
              "      <td>EMERGENCY</td>\n",
              "      <td>2131-05-12 19:49:00</td>\n",
              "      <td>2131-05-25 13:30:00</td>\n",
              "      <td>2134-05-10 11:30:00</td>\n",
              "      <td>ELECTIVE</td>\n",
              "      <td>1080.916667</td>\n",
              "      <td>Admission Date:  [**2131-5-12**]              ...</td>\n",
              "      <td>0</td>\n",
              "    </tr>\n",
              "    <tr>\n",
              "      <th>59</th>\n",
              "      <td>61</td>\n",
              "      <td>176332</td>\n",
              "      <td>ELECTIVE</td>\n",
              "      <td>2118-06-17 14:40:00</td>\n",
              "      <td>2118-07-20 12:30:00</td>\n",
              "      <td>2119-01-04 18:12:00</td>\n",
              "      <td>EMERGENCY</td>\n",
              "      <td>168.237500</td>\n",
              "      <td>Admission Date:  [**2118-6-17**]              ...</td>\n",
              "      <td>0</td>\n",
              "    </tr>\n",
              "    <tr>\n",
              "      <th>66</th>\n",
              "      <td>67</td>\n",
              "      <td>186474</td>\n",
              "      <td>URGENT</td>\n",
              "      <td>2155-02-25 12:45:00</td>\n",
              "      <td>2155-03-06 15:00:00</td>\n",
              "      <td>2157-12-02 00:45:00</td>\n",
              "      <td>EMERGENCY</td>\n",
              "      <td>1001.406250</td>\n",
              "      <td>Admission Date:  [**2155-2-25**]       Dischar...</td>\n",
              "      <td>0</td>\n",
              "    </tr>\n",
              "    <tr>\n",
              "      <th>68</th>\n",
              "      <td>68</td>\n",
              "      <td>170467</td>\n",
              "      <td>EMERGENCY</td>\n",
              "      <td>2173-12-15 16:16:00</td>\n",
              "      <td>2174-01-03 18:30:00</td>\n",
              "      <td>2174-01-04 22:21:00</td>\n",
              "      <td>EMERGENCY</td>\n",
              "      <td>1.160417</td>\n",
              "      <td>Admission Date:  [**2173-12-15**]             ...</td>\n",
              "      <td>1</td>\n",
              "    </tr>\n",
              "    <tr>\n",
              "      <th>84</th>\n",
              "      <td>84</td>\n",
              "      <td>120969</td>\n",
              "      <td>ELECTIVE</td>\n",
              "      <td>2196-02-02 07:15:00</td>\n",
              "      <td>2196-02-04 17:48:00</td>\n",
              "      <td>2196-04-14 04:02:00</td>\n",
              "      <td>EMERGENCY</td>\n",
              "      <td>69.426389</td>\n",
              "      <td>Admission Date:  [**2196-2-2**]     Discharge ...</td>\n",
              "      <td>0</td>\n",
              "    </tr>\n",
              "    <tr>\n",
              "      <th>86</th>\n",
              "      <td>85</td>\n",
              "      <td>116630</td>\n",
              "      <td>EMERGENCY</td>\n",
              "      <td>2162-03-02 14:04:00</td>\n",
              "      <td>2162-03-10 13:15:00</td>\n",
              "      <td>2167-07-25 18:49:00</td>\n",
              "      <td>EMERGENCY</td>\n",
              "      <td>1963.231944</td>\n",
              "      <td>Admission Date:  [**2162-3-2**]              D...</td>\n",
              "      <td>0</td>\n",
              "    </tr>\n",
              "    <tr>\n",
              "      <th>95</th>\n",
              "      <td>94</td>\n",
              "      <td>183686</td>\n",
              "      <td>EMERGENCY</td>\n",
              "      <td>2176-02-25 16:49:00</td>\n",
              "      <td>2176-02-29 17:45:00</td>\n",
              "      <td>2176-09-02 14:22:00</td>\n",
              "      <td>EMERGENCY</td>\n",
              "      <td>185.859028</td>\n",
              "      <td>Admission Date:  [**2176-2-25**]              ...</td>\n",
              "      <td>0</td>\n",
              "    </tr>\n",
              "    <tr>\n",
              "      <th>105</th>\n",
              "      <td>103</td>\n",
              "      <td>130744</td>\n",
              "      <td>EMERGENCY</td>\n",
              "      <td>2144-08-12 17:37:00</td>\n",
              "      <td>2144-08-20 11:15:00</td>\n",
              "      <td>2144-08-30 23:09:00</td>\n",
              "      <td>EMERGENCY</td>\n",
              "      <td>10.495833</td>\n",
              "      <td>Admission Date:  [**2144-8-12**]       Dischar...</td>\n",
              "      <td>1</td>\n",
              "    </tr>\n",
              "    <tr>\n",
              "      <th>108</th>\n",
              "      <td>105</td>\n",
              "      <td>161160</td>\n",
              "      <td>EMERGENCY</td>\n",
              "      <td>2189-01-28 16:57:00</td>\n",
              "      <td>2189-02-02 16:40:00</td>\n",
              "      <td>2189-02-21 01:45:00</td>\n",
              "      <td>EMERGENCY</td>\n",
              "      <td>18.378472</td>\n",
              "      <td>Admission Date:  [**2189-1-28**]              ...</td>\n",
              "      <td>1</td>\n",
              "    </tr>\n",
              "    <tr>\n",
              "      <th>112</th>\n",
              "      <td>107</td>\n",
              "      <td>182383</td>\n",
              "      <td>EMERGENCY</td>\n",
              "      <td>2121-11-30 19:24:00</td>\n",
              "      <td>2121-12-05 14:18:00</td>\n",
              "      <td>2122-05-14 19:37:00</td>\n",
              "      <td>EMERGENCY</td>\n",
              "      <td>160.221528</td>\n",
              "      <td>Admission Date:  [**2121-11-30**]             ...</td>\n",
              "      <td>0</td>\n",
              "    </tr>\n",
              "    <tr>\n",
              "      <th>115</th>\n",
              "      <td>109</td>\n",
              "      <td>183350</td>\n",
              "      <td>EMERGENCY</td>\n",
              "      <td>2137-11-04 19:36:00</td>\n",
              "      <td>2137-11-21 18:13:00</td>\n",
              "      <td>2138-04-16 17:44:00</td>\n",
              "      <td>EMERGENCY</td>\n",
              "      <td>145.979861</td>\n",
              "      <td>Admission Date:  [**2137-11-4**]              ...</td>\n",
              "      <td>0</td>\n",
              "    </tr>\n",
              "    <tr>\n",
              "      <th>116</th>\n",
              "      <td>109</td>\n",
              "      <td>128755</td>\n",
              "      <td>EMERGENCY</td>\n",
              "      <td>2138-04-16 17:44:00</td>\n",
              "      <td>2138-04-19 16:00:00</td>\n",
              "      <td>2140-01-19 13:25:00</td>\n",
              "      <td>EMERGENCY</td>\n",
              "      <td>639.892361</td>\n",
              "      <td>Admission Date:  [**2138-4-16**]              ...</td>\n",
              "      <td>0</td>\n",
              "    </tr>\n",
              "    <tr>\n",
              "      <th>117</th>\n",
              "      <td>109</td>\n",
              "      <td>164029</td>\n",
              "      <td>EMERGENCY</td>\n",
              "      <td>2140-01-19 13:25:00</td>\n",
              "      <td>2140-01-21 13:25:00</td>\n",
              "      <td>2140-02-02 02:13:00</td>\n",
              "      <td>EMERGENCY</td>\n",
              "      <td>11.533333</td>\n",
              "      <td>Admission Date:  [**2140-1-19**]              ...</td>\n",
              "      <td>1</td>\n",
              "    </tr>\n",
              "    <tr>\n",
              "      <th>118</th>\n",
              "      <td>109</td>\n",
              "      <td>108375</td>\n",
              "      <td>EMERGENCY</td>\n",
              "      <td>2140-02-02 02:13:00</td>\n",
              "      <td>2140-02-02 16:25:00</td>\n",
              "      <td>2140-04-07 19:51:00</td>\n",
              "      <td>EMERGENCY</td>\n",
              "      <td>65.143056</td>\n",
              "      <td>Admission Date:  [**2140-2-2**]              D...</td>\n",
              "      <td>0</td>\n",
              "    </tr>\n",
              "    <tr>\n",
              "      <th>119</th>\n",
              "      <td>109</td>\n",
              "      <td>193281</td>\n",
              "      <td>EMERGENCY</td>\n",
              "      <td>2140-04-07 19:51:00</td>\n",
              "      <td>2140-05-02 16:30:00</td>\n",
              "      <td>2140-05-17 14:27:00</td>\n",
              "      <td>EMERGENCY</td>\n",
              "      <td>14.914583</td>\n",
              "      <td>Admission Date:  [**2140-4-7**]              D...</td>\n",
              "      <td>1</td>\n",
              "    </tr>\n",
              "    <tr>\n",
              "      <th>120</th>\n",
              "      <td>109</td>\n",
              "      <td>175347</td>\n",
              "      <td>EMERGENCY</td>\n",
              "      <td>2140-05-17 14:27:00</td>\n",
              "      <td>2140-05-20 19:50:00</td>\n",
              "      <td>2140-08-25 14:39:00</td>\n",
              "      <td>EMERGENCY</td>\n",
              "      <td>96.784028</td>\n",
              "      <td>Admission Date:  [**2140-5-17**]              ...</td>\n",
              "      <td>0</td>\n",
              "    </tr>\n",
              "    <tr>\n",
              "      <th>121</th>\n",
              "      <td>109</td>\n",
              "      <td>110668</td>\n",
              "      <td>EMERGENCY</td>\n",
              "      <td>2140-08-25 14:39:00</td>\n",
              "      <td>2140-09-02 18:30:00</td>\n",
              "      <td>2141-03-27 21:08:00</td>\n",
              "      <td>EMERGENCY</td>\n",
              "      <td>206.109722</td>\n",
              "      <td>Admission Date:  [**2140-8-25**]              ...</td>\n",
              "      <td>0</td>\n",
              "    </tr>\n",
              "    <tr>\n",
              "      <th>122</th>\n",
              "      <td>109</td>\n",
              "      <td>166018</td>\n",
              "      <td>EMERGENCY</td>\n",
              "      <td>2141-03-27 21:08:00</td>\n",
              "      <td>2141-03-28 17:45:00</td>\n",
              "      <td>2141-05-24 14:47:00</td>\n",
              "      <td>EMERGENCY</td>\n",
              "      <td>56.876389</td>\n",
              "      <td>Admission Date:  [**2141-3-27**]              ...</td>\n",
              "      <td>0</td>\n",
              "    </tr>\n",
              "    <tr>\n",
              "      <th>123</th>\n",
              "      <td>109</td>\n",
              "      <td>170149</td>\n",
              "      <td>EMERGENCY</td>\n",
              "      <td>2141-05-24 14:47:00</td>\n",
              "      <td>2141-06-06 19:55:00</td>\n",
              "      <td>2141-06-11 10:17:00</td>\n",
              "      <td>EMERGENCY</td>\n",
              "      <td>4.598611</td>\n",
              "      <td>Admission Date:  [**2141-5-24**]              ...</td>\n",
              "      <td>1</td>\n",
              "    </tr>\n",
              "    <tr>\n",
              "      <th>124</th>\n",
              "      <td>109</td>\n",
              "      <td>147469</td>\n",
              "      <td>EMERGENCY</td>\n",
              "      <td>2141-06-11 10:17:00</td>\n",
              "      <td>2141-06-17 16:29:00</td>\n",
              "      <td>2141-09-05 20:04:00</td>\n",
              "      <td>EMERGENCY</td>\n",
              "      <td>80.149306</td>\n",
              "      <td>Admission Date:  [**2141-6-11**]              ...</td>\n",
              "      <td>0</td>\n",
              "    </tr>\n",
              "    <tr>\n",
              "      <th>125</th>\n",
              "      <td>109</td>\n",
              "      <td>131345</td>\n",
              "      <td>EMERGENCY</td>\n",
              "      <td>2141-09-05 20:04:00</td>\n",
              "      <td>2141-09-08 18:30:00</td>\n",
              "      <td>2141-09-11 10:12:00</td>\n",
              "      <td>EMERGENCY</td>\n",
              "      <td>2.654167</td>\n",
              "      <td>Admission Date:  [**2141-9-5**]              D...</td>\n",
              "      <td>1</td>\n",
              "    </tr>\n",
              "    <tr>\n",
              "      <th>126</th>\n",
              "      <td>109</td>\n",
              "      <td>139061</td>\n",
              "      <td>EMERGENCY</td>\n",
              "      <td>2141-09-11 10:12:00</td>\n",
              "      <td>2141-09-14 20:00:00</td>\n",
              "      <td>2141-09-18 10:32:00</td>\n",
              "      <td>EMERGENCY</td>\n",
              "      <td>3.605556</td>\n",
              "      <td>Admission Date:  [**2141-9-11**]              ...</td>\n",
              "      <td>1</td>\n",
              "    </tr>\n",
              "    <tr>\n",
              "      <th>127</th>\n",
              "      <td>109</td>\n",
              "      <td>172335</td>\n",
              "      <td>EMERGENCY</td>\n",
              "      <td>2141-09-18 10:32:00</td>\n",
              "      <td>2141-09-24 13:53:00</td>\n",
              "      <td>2141-10-13 23:10:00</td>\n",
              "      <td>EMERGENCY</td>\n",
              "      <td>19.386806</td>\n",
              "      <td>Admission Date:  [**2141-9-18**]              ...</td>\n",
              "      <td>1</td>\n",
              "    </tr>\n",
              "    <tr>\n",
              "      <th>128</th>\n",
              "      <td>109</td>\n",
              "      <td>126055</td>\n",
              "      <td>EMERGENCY</td>\n",
              "      <td>2141-10-13 23:10:00</td>\n",
              "      <td>2141-11-03 18:45:00</td>\n",
              "      <td>2141-11-18 14:00:00</td>\n",
              "      <td>EMERGENCY</td>\n",
              "      <td>14.802083</td>\n",
              "      <td>Admission Date:  [**2141-10-13**]             ...</td>\n",
              "      <td>1</td>\n",
              "    </tr>\n",
              "    <tr>\n",
              "      <th>129</th>\n",
              "      <td>109</td>\n",
              "      <td>125288</td>\n",
              "      <td>EMERGENCY</td>\n",
              "      <td>2141-11-18 14:00:00</td>\n",
              "      <td>2141-11-23 16:42:00</td>\n",
              "      <td>2141-11-24 16:11:00</td>\n",
              "      <td>EMERGENCY</td>\n",
              "      <td>0.978472</td>\n",
              "      <td>Admission Date:  [**2141-11-18**]             ...</td>\n",
              "      <td>1</td>\n",
              "    </tr>\n",
              "    <tr>\n",
              "      <th>130</th>\n",
              "      <td>109</td>\n",
              "      <td>161950</td>\n",
              "      <td>EMERGENCY</td>\n",
              "      <td>2141-11-24 16:11:00</td>\n",
              "      <td>2141-12-01 19:00:00</td>\n",
              "      <td>2141-12-08 01:40:00</td>\n",
              "      <td>EMERGENCY</td>\n",
              "      <td>6.277778</td>\n",
              "      <td>Admission Date:  [**2141-11-24**]             ...</td>\n",
              "      <td>1</td>\n",
              "    </tr>\n",
              "    <tr>\n",
              "      <th>131</th>\n",
              "      <td>109</td>\n",
              "      <td>173633</td>\n",
              "      <td>EMERGENCY</td>\n",
              "      <td>2141-12-08 01:40:00</td>\n",
              "      <td>2141-12-14 17:16:00</td>\n",
              "      <td>2141-12-18 03:50:00</td>\n",
              "      <td>EMERGENCY</td>\n",
              "      <td>3.440278</td>\n",
              "      <td>Admission Date:  [**2141-12-8**]              ...</td>\n",
              "      <td>1</td>\n",
              "    </tr>\n",
              "    <tr>\n",
              "      <th>132</th>\n",
              "      <td>109</td>\n",
              "      <td>140167</td>\n",
              "      <td>EMERGENCY</td>\n",
              "      <td>2141-12-18 03:50:00</td>\n",
              "      <td>2141-12-23 19:51:00</td>\n",
              "      <td>2142-01-08 06:36:00</td>\n",
              "      <td>EMERGENCY</td>\n",
              "      <td>15.447917</td>\n",
              "      <td>Admission Date:  [**2141-12-18**]             ...</td>\n",
              "      <td>1</td>\n",
              "    </tr>\n",
              "    <tr>\n",
              "      <th>133</th>\n",
              "      <td>109</td>\n",
              "      <td>135923</td>\n",
              "      <td>EMERGENCY</td>\n",
              "      <td>2142-01-08 06:36:00</td>\n",
              "      <td>2142-01-13 21:00:00</td>\n",
              "      <td>2142-01-14 17:34:00</td>\n",
              "      <td>EMERGENCY</td>\n",
              "      <td>0.856944</td>\n",
              "      <td>Admission Date:  [**2142-1-8**]              D...</td>\n",
              "      <td>1</td>\n",
              "    </tr>\n",
              "    <tr>\n",
              "      <th>134</th>\n",
              "      <td>109</td>\n",
              "      <td>124657</td>\n",
              "      <td>EMERGENCY</td>\n",
              "      <td>2142-01-14 17:34:00</td>\n",
              "      <td>2142-01-20 13:30:00</td>\n",
              "      <td>2142-01-21 11:23:00</td>\n",
              "      <td>EMERGENCY</td>\n",
              "      <td>0.911806</td>\n",
              "      <td>Admission Date:  [**2142-1-14**]              ...</td>\n",
              "      <td>1</td>\n",
              "    </tr>\n",
              "    <tr>\n",
              "      <th>135</th>\n",
              "      <td>109</td>\n",
              "      <td>176760</td>\n",
              "      <td>EMERGENCY</td>\n",
              "      <td>2142-01-21 11:23:00</td>\n",
              "      <td>2142-01-23 16:40:00</td>\n",
              "      <td>2142-02-14 10:42:00</td>\n",
              "      <td>EMERGENCY</td>\n",
              "      <td>21.751389</td>\n",
              "      <td>Admission Date:  [**2142-1-21**]              ...</td>\n",
              "      <td>1</td>\n",
              "    </tr>\n",
              "    <tr>\n",
              "      <th>136</th>\n",
              "      <td>109</td>\n",
              "      <td>113189</td>\n",
              "      <td>EMERGENCY</td>\n",
              "      <td>2142-02-14 10:42:00</td>\n",
              "      <td>2142-02-17 18:15:00</td>\n",
              "      <td>2142-02-25 15:49:00</td>\n",
              "      <td>EMERGENCY</td>\n",
              "      <td>7.898611</td>\n",
              "      <td>Admission Date:  [**2142-2-14**]              ...</td>\n",
              "      <td>1</td>\n",
              "    </tr>\n",
              "    <tr>\n",
              "      <th>137</th>\n",
              "      <td>109</td>\n",
              "      <td>158995</td>\n",
              "      <td>EMERGENCY</td>\n",
              "      <td>2142-02-25 15:49:00</td>\n",
              "      <td>2142-02-26 16:11:00</td>\n",
              "      <td>2142-03-21 09:25:00</td>\n",
              "      <td>EMERGENCY</td>\n",
              "      <td>22.718056</td>\n",
              "      <td>Admission Date:  [**2142-2-25**]              ...</td>\n",
              "      <td>1</td>\n",
              "    </tr>\n",
              "    <tr>\n",
              "      <th>138</th>\n",
              "      <td>109</td>\n",
              "      <td>158943</td>\n",
              "      <td>EMERGENCY</td>\n",
              "      <td>2142-03-21 09:25:00</td>\n",
              "      <td>2142-03-23 18:11:00</td>\n",
              "      <td>2142-03-24 16:34:00</td>\n",
              "      <td>EMERGENCY</td>\n",
              "      <td>0.932639</td>\n",
              "      <td>Admission Date:  [**2142-3-21**]              ...</td>\n",
              "      <td>1</td>\n",
              "    </tr>\n",
              "    <tr>\n",
              "      <th>139</th>\n",
              "      <td>109</td>\n",
              "      <td>124398</td>\n",
              "      <td>EMERGENCY</td>\n",
              "      <td>2142-03-24 16:34:00</td>\n",
              "      <td>2142-03-31 15:15:00</td>\n",
              "      <td>2142-04-20 13:39:00</td>\n",
              "      <td>EMERGENCY</td>\n",
              "      <td>19.933333</td>\n",
              "      <td>Admission Date:  [**2142-3-24**]              ...</td>\n",
              "      <td>1</td>\n",
              "    </tr>\n",
              "    <tr>\n",
              "      <th>140</th>\n",
              "      <td>109</td>\n",
              "      <td>137510</td>\n",
              "      <td>EMERGENCY</td>\n",
              "      <td>2142-04-20 13:39:00</td>\n",
              "      <td>2142-04-22 15:30:00</td>\n",
              "      <td>2142-05-15 10:45:00</td>\n",
              "      <td>EMERGENCY</td>\n",
              "      <td>22.802083</td>\n",
              "      <td>Admission Date:  [**2142-4-20**]              ...</td>\n",
              "      <td>1</td>\n",
              "    </tr>\n",
              "    <tr>\n",
              "      <th>141</th>\n",
              "      <td>109</td>\n",
              "      <td>151240</td>\n",
              "      <td>EMERGENCY</td>\n",
              "      <td>2142-05-15 10:45:00</td>\n",
              "      <td>2142-05-18 15:58:00</td>\n",
              "      <td>2142-05-20 12:59:00</td>\n",
              "      <td>EMERGENCY</td>\n",
              "      <td>1.875694</td>\n",
              "      <td>Admission Date:  [**2142-5-15**]              ...</td>\n",
              "      <td>1</td>\n",
              "    </tr>\n",
              "    <tr>\n",
              "      <th>142</th>\n",
              "      <td>109</td>\n",
              "      <td>102024</td>\n",
              "      <td>EMERGENCY</td>\n",
              "      <td>2142-05-20 12:59:00</td>\n",
              "      <td>2142-06-05 16:18:00</td>\n",
              "      <td>2142-06-18 03:11:00</td>\n",
              "      <td>EMERGENCY</td>\n",
              "      <td>12.453472</td>\n",
              "      <td>Admission Date:  [**2142-5-20**]              ...</td>\n",
              "      <td>1</td>\n",
              "    </tr>\n",
              "    <tr>\n",
              "      <th>143</th>\n",
              "      <td>109</td>\n",
              "      <td>136572</td>\n",
              "      <td>EMERGENCY</td>\n",
              "      <td>2142-06-18 03:11:00</td>\n",
              "      <td>2142-06-20 16:34:00</td>\n",
              "      <td>2142-07-03 14:48:00</td>\n",
              "      <td>EMERGENCY</td>\n",
              "      <td>12.926389</td>\n",
              "      <td>Admission Date:  [**2142-6-18**]              ...</td>\n",
              "      <td>1</td>\n",
              "    </tr>\n",
              "    <tr>\n",
              "      <th>144</th>\n",
              "      <td>109</td>\n",
              "      <td>174489</td>\n",
              "      <td>EMERGENCY</td>\n",
              "      <td>2142-07-03 14:48:00</td>\n",
              "      <td>2142-07-04 17:23:00</td>\n",
              "      <td>2142-07-07 10:01:00</td>\n",
              "      <td>EMERGENCY</td>\n",
              "      <td>2.693056</td>\n",
              "      <td>Admission Date:  [**2142-7-3**]              D...</td>\n",
              "      <td>1</td>\n",
              "    </tr>\n",
              "    <tr>\n",
              "      <th>145</th>\n",
              "      <td>109</td>\n",
              "      <td>131376</td>\n",
              "      <td>EMERGENCY</td>\n",
              "      <td>2142-07-07 10:01:00</td>\n",
              "      <td>2142-07-08 18:05:00</td>\n",
              "      <td>2142-07-12 15:27:00</td>\n",
              "      <td>EMERGENCY</td>\n",
              "      <td>3.890278</td>\n",
              "      <td>Admission Date:  [**2142-7-7**]              D...</td>\n",
              "      <td>1</td>\n",
              "    </tr>\n",
              "    <tr>\n",
              "      <th>146</th>\n",
              "      <td>109</td>\n",
              "      <td>196721</td>\n",
              "      <td>EMERGENCY</td>\n",
              "      <td>2142-07-12 15:27:00</td>\n",
              "      <td>2142-07-23 18:41:00</td>\n",
              "      <td>2142-08-13 04:03:00</td>\n",
              "      <td>EMERGENCY</td>\n",
              "      <td>20.390278</td>\n",
              "      <td>Admission Date:  [**2142-7-12**]              ...</td>\n",
              "      <td>1</td>\n",
              "    </tr>\n",
              "    <tr>\n",
              "      <th>147</th>\n",
              "      <td>109</td>\n",
              "      <td>155726</td>\n",
              "      <td>EMERGENCY</td>\n",
              "      <td>2142-08-13 04:03:00</td>\n",
              "      <td>2142-08-16 18:17:00</td>\n",
              "      <td>2142-08-28 19:48:00</td>\n",
              "      <td>EMERGENCY</td>\n",
              "      <td>12.063194</td>\n",
              "      <td>Admission Date:  [**2142-8-13**]              ...</td>\n",
              "      <td>1</td>\n",
              "    </tr>\n",
              "    <tr>\n",
              "      <th>150</th>\n",
              "      <td>111</td>\n",
              "      <td>192123</td>\n",
              "      <td>EMERGENCY</td>\n",
              "      <td>2142-04-24 06:55:00</td>\n",
              "      <td>2142-05-05 11:45:00</td>\n",
              "      <td>2144-07-01 04:12:00</td>\n",
              "      <td>EMERGENCY</td>\n",
              "      <td>787.685417</td>\n",
              "      <td>Admission Date:  [**2142-4-24**]              ...</td>\n",
              "      <td>0</td>\n",
              "    </tr>\n",
              "    <tr>\n",
              "      <th>152</th>\n",
              "      <td>112</td>\n",
              "      <td>174105</td>\n",
              "      <td>EMERGENCY</td>\n",
              "      <td>2194-06-13 18:39:00</td>\n",
              "      <td>2194-06-18 16:50:00</td>\n",
              "      <td>2196-09-27 18:21:00</td>\n",
              "      <td>EMERGENCY</td>\n",
              "      <td>832.063194</td>\n",
              "      <td>Admission Date: [**2194-6-13**]        Dischar...</td>\n",
              "      <td>0</td>\n",
              "    </tr>\n",
              "    <tr>\n",
              "      <th>158</th>\n",
              "      <td>117</td>\n",
              "      <td>140784</td>\n",
              "      <td>EMERGENCY</td>\n",
              "      <td>2133-04-07 16:29:00</td>\n",
              "      <td>2133-04-12 16:39:00</td>\n",
              "      <td>2133-11-13 21:34:00</td>\n",
              "      <td>EMERGENCY</td>\n",
              "      <td>215.204861</td>\n",
              "      <td>Admission Date:  [**2133-4-7**]     Discharge ...</td>\n",
              "      <td>0</td>\n",
              "    </tr>\n",
              "  </tbody>\n",
              "</table>\n",
              "</div>"
            ],
            "text/plain": [
              "     SUBJECT_ID  ...  OUTPUT_LABEL\n",
              "13           17  ...             0\n",
              "18           21  ...             0\n",
              "21           23  ...             0\n",
              "35           36  ...             1\n",
              "36           36  ...             0\n",
              "59           61  ...             0\n",
              "66           67  ...             0\n",
              "68           68  ...             1\n",
              "84           84  ...             0\n",
              "86           85  ...             0\n",
              "95           94  ...             0\n",
              "105         103  ...             1\n",
              "108         105  ...             1\n",
              "112         107  ...             0\n",
              "115         109  ...             0\n",
              "116         109  ...             0\n",
              "117         109  ...             1\n",
              "118         109  ...             0\n",
              "119         109  ...             1\n",
              "120         109  ...             0\n",
              "121         109  ...             0\n",
              "122         109  ...             0\n",
              "123         109  ...             1\n",
              "124         109  ...             0\n",
              "125         109  ...             1\n",
              "126         109  ...             1\n",
              "127         109  ...             1\n",
              "128         109  ...             1\n",
              "129         109  ...             1\n",
              "130         109  ...             1\n",
              "131         109  ...             1\n",
              "132         109  ...             1\n",
              "133         109  ...             1\n",
              "134         109  ...             1\n",
              "135         109  ...             1\n",
              "136         109  ...             1\n",
              "137         109  ...             1\n",
              "138         109  ...             1\n",
              "139         109  ...             1\n",
              "140         109  ...             1\n",
              "141         109  ...             1\n",
              "142         109  ...             1\n",
              "143         109  ...             1\n",
              "144         109  ...             1\n",
              "145         109  ...             1\n",
              "146         109  ...             1\n",
              "147         109  ...             1\n",
              "150         111  ...             0\n",
              "152         112  ...             0\n",
              "158         117  ...             0\n",
              "\n",
              "[50 rows x 10 columns]"
            ]
          },
          "metadata": {},
          "execution_count": 55
        }
      ],
      "source": [
        "merged = merged.drop(\"DEATHTIME\",1)\n",
        "merged=merged[merged['TEXT'].notna()]\n",
        "merged.head(50)"
      ]
    },
    {
      "cell_type": "code",
      "execution_count": null,
      "metadata": {
        "id": "YqbAkBHOUAQl"
      },
      "outputs": [],
      "source": [
        "merged=merged[merged['TEXT'].notna()]"
      ]
    },
    {
      "cell_type": "code",
      "execution_count": null,
      "metadata": {
        "id": "DVusIBWvUBsP",
        "colab": {
          "base_uri": "https://localhost:8080/"
        },
        "outputId": "6e4e964a-31cb-4988-decc-6e3315b16c3b"
      },
      "outputs": [
        {
          "output_type": "execute_result",
          "data": {
            "text/plain": [
              "(11915, 10)"
            ]
          },
          "metadata": {},
          "execution_count": 57
        }
      ],
      "source": [
        "merged.shape"
      ]
    },
    {
      "cell_type": "code",
      "execution_count": null,
      "metadata": {
        "id": "_JTt9OMsUBg9"
      },
      "outputs": [],
      "source": [
        ""
      ]
    },
    {
      "cell_type": "code",
      "execution_count": null,
      "metadata": {
        "id": "vODFdVgOZuXk",
        "colab": {
          "base_uri": "https://localhost:8080/",
          "height": 317
        },
        "outputId": "0ef4cc95-a725-4b86-bfb6-e8757a22f884"
      },
      "outputs": [
        {
          "output_type": "stream",
          "name": "stdout",
          "text": [
            "0    8740\n",
            "1    3175\n",
            "Name: OUTPUT_LABEL, dtype: int64\n"
          ]
        },
        {
          "output_type": "display_data",
          "data": {
            "image/png": "[encoded data removed]",
            "text/plain": [
              "<Figure size 432x288 with 1 Axes>"
            ]
          },
          "metadata": {
            "needs_background": "light"
          }
        }
      ],
      "source": [
        "import seaborn as sn\n",
        "def classFreqPlot(X):\n",
        "  classFreq = X[\"OUTPUT_LABEL\"].value_counts()\n",
        "  print(classFreq)\n",
        "  classFreq.plot.barh()\n",
        "classFreqPlot(merged)"
      ]
    },
    {
      "cell_type": "code",
      "execution_count": null,
      "metadata": {
        "id": "hVQwTYa1e4L0"
      },
      "outputs": [],
      "source": [
        "def preprocess_text(df):\n",
        "    # This function preprocesses the text by filling not a number and replacing new lines ('\\n') and carriage returns ('\\r')\n",
        "    df.TEXT = df.TEXT.fillna(' ')\n",
        "    df.TEXT = df.TEXT.str.replace('\\n',' ')\n",
        "    df.TEXT = df.TEXT.str.replace('\\r',' ')\n",
        "    return df\n",
        "# preprocess the text to deal with known issues\n",
        "df = preprocess_text(merged)\n"
      ]
    },
    {
      "cell_type": "code",
      "execution_count": null,
      "metadata": {
        "id": "g08xdSgRfyrc",
        "colab": {
          "base_uri": "https://localhost:8080/",
          "height": 140
        },
        "outputId": "f1d93afd-bf33-41a1-c2dd-9435ac14adfa"
      },
      "outputs": [
        {
          "output_type": "execute_result",
          "data": {
            "application/vnd.google.colaboratory.intrinsic+json": {
              "type": "string"
            },
            "text/plain": [
              "\"Admission Date:  [**2134-12-27**]              Discharge Date:   [**2134-12-31**]  Date of Birth:  [**2087-7-14**]             Sex:   F  Service: CARDIOTHORACIC  Allergies: Bactrim / Ampicillin / Remeron  Attending:[**First Name3 (LF) 1283**] Chief Complaint: History of stroke  Major Surgical or Invasive Procedure: [**2134-12-27**] Minimally invasive closure of patent foramen ovale   History of Present Illness: Mrs. [**Known lastname 11679**] is a 47 year old female who suffered a cerebellar stroke in [**2134-3-9**]. Workup at that time revealed a patent foramen ovale. She is currently followed by Dr. [**Last Name (STitle) 1693**](neurologist) from the [**Hospital1 18**]. Full hypercoagulability workup was unremarkable. Since [**Month (only) 956**], she has had no other neurological events. In preperation for surgical intervention, she underwent cardiac catheterization in [**Month (only) **] which showed normal coronary arteries and normal left ventricular function.  Past Medical History: Patent foramen ovale; History of Stroke/TIA; Depression; Anxiety; Borderline Hyperlipidemia; Herniation of Cervical Discs; Patella-Femoral Syndrome; s/p Bunionectomies  Social History: Denies tobacco. Admits to occasional ETOH. She is an employee of the [**Hospital1 18**] in the Neuro-Pysch Department. She is married with two children. She denies IVDA and recreational drugs.  Family History: Father underwent CABG at age 72. Cousin died of an MI at age 46.  Physical Exam: Vitals: BP 114/68, HR 90, RR 14 General: well developed female in no acute distress HEENT: oropharynx benign, Neck: supple, no JVD, no carotid bruits Heart: regular rate, normal s1s2, no murmur or rub Lungs: clear bilaterally Abdomen: soft, nontender, normoactive bowel sounds Ext: warm, no edema, no varicosities Pulses: 2+ distally Neuro: nonfocal   Pertinent Results: [**2134-12-31**] 06:15AM BLOOD WBC-6.6# RBC-2.98* Hgb-9.1* Hct-26.1* MCV-88 MCH-30.6 MCHC-35.0 RDW-13.1 Plt Ct-192 [**2134-12-27**] 06:19PM BLOOD WBC-10.5 RBC-3.42*# Hgb-10.5*# Hct-30.0* MCV-88 MCH-30.8 MCHC-35.2* RDW-12.6 Plt Ct-138* [**2134-12-31**] 06:15AM BLOOD Glucose-121* UreaN-12 Creat-0.7 Na-140 K-5.1 Cl-106 HCO3-28 AnGap-11 [**2134-12-27**] 07:21PM BLOOD UreaN-11 Creat-0.8 Cl-112* HCO3-23 [**2134-12-31**] 06:15AM BLOOD Calcium-8.1* Phos-3.2 Mg-2.0  Brief Hospital Course: Mrs. [**Known lastname 11679**] was admitted and underwent surgical closure of her patent foramen ovale. The operation was performed minimally invasive and there were no complications. Following the procedure, she was brought to the CSRU. She initially remained hypotensive, requiring volume and Neosynephrine. Within 24 hours, she awoke neurologically intact and was extubated without difficulty. By postoperative day two, she successfully weaned from inotropic support. She maintained stable hemodynamics and transferred to the floor. On telemetry, she remained mostly in a normal sinus rhythm with brief periods of accelerated junctional rhythm. She otherwise continued to make clinical improvements and was cleared for discharge on postoperative day four. She remained just on Aspirin therapy. Aggrenox was not resumed as her PFO was surgically repaired. At discharge, her systolic blood pressures were in the 100's with heart rate of 80-90. Her room air saturations were 93% and she was ambulating without difficulty. She had good pain control with Dilaudid and all wounds were clean, dry and intact.  Medications on Admission: Bupropion 150 [**Hospital1 **], Aggrenox qd, Centrum, Calcium, Erythromycin eye gtts  Discharge Medications: 1. Bupropion 150 mg Tablet Sustained Release Sig: One (1) Tablet Sustained Release PO BID (2 times a day). Disp:*60 Tablet Sustained Release(s)* Refills:*2* 2. Docusate Sodium 100 mg Capsule Sig: One (1) Capsule PO BID (2 times a day). Disp:*60 Capsule(s)* Refills:*2* 3. Aspirin 81 mg Tablet, Delayed Release (E.C.) Sig: One (1) Tablet, Delayed Release (E.C.) PO DAILY (Daily). Disp:*30 Tablet, Delayed Release (E.C.)(s)* Refills:*2* 4. Hydromorphone 2 mg Tablet Sig: 1-2 Tablets PO every 6-8 hours as needed. Disp:*50 Tablet(s)* Refills:*0*   Discharge Disposition: Home With Service  Facility: [**Hospital 119**] Homecare  Discharge Diagnosis: Patent foramen ovale - s/p surgical closure; History of Stroke/TIA; Depression; Anxiety; Borderline Hyperlipidemia; Herniation of Cervical Discs; Patella-Femoral Syndrome; s/p Bunionectomies   Discharge Condition: Good   Discharge Instructions: Patient may shower, no baths. No creams, lotions or ointments to incisions. No driving for at least one month. No lifting more than 10 lbs for at least 10 weeks from the date of surgery. Monitor wounds for signs of infection. Please call with any concerns or questions.   Followup Instructions: Cardiac surgeon, Dr. [**Last Name (STitle) 1290**] in [**5-11**] weeks - call for appt, [**Telephone/Fax (1) 170**]. Local PCP, [**Last Name (NamePattern4) **]. [**Last Name (STitle) **] in [**3-11**] weeks - call for appt. Local cardiologist, Dr. [**Last Name (STitle) 11255**] in [**3-11**] weeks - call for appt    Completed by:[**2134-12-31**]\""
            ]
          },
          "metadata": {},
          "execution_count": 60
        }
      ],
      "source": [
        "arr=np.asarray(df)\n",
        "arr[0][8]\n"
      ]
    },
    {
      "cell_type": "code",
      "execution_count": null,
      "metadata": {
        "id": "lC5zg2IlAZtw",
        "colab": {
          "base_uri": "https://localhost:8080/",
          "height": 1000
        },
        "outputId": "a8c29f9a-b189-43e2-da3d-dd79a1df93ac"
      },
      "outputs": [
        {
          "output_type": "execute_result",
          "data": {
            "text/html": [
              "<div>\n",
              "<style scoped>\n",
              "    .dataframe tbody tr th:only-of-type {\n",
              "        vertical-align: middle;\n",
              "    }\n",
              "\n",
              "    .dataframe tbody tr th {\n",
              "        vertical-align: top;\n",
              "    }\n",
              "\n",
              "    .dataframe thead th {\n",
              "        text-align: right;\n",
              "    }\n",
              "</style>\n",
              "<table border=\"1\" class=\"dataframe\">\n",
              "  <thead>\n",
              "    <tr style=\"text-align: right;\">\n",
              "      <th></th>\n",
              "      <th>SUBJECT_ID</th>\n",
              "      <th>HADM_ID</th>\n",
              "      <th>ADMISSION_TYPE</th>\n",
              "      <th>ADMITTIME</th>\n",
              "      <th>DISCHTIME</th>\n",
              "      <th>ADMITTIME_succeeding</th>\n",
              "      <th>ADMISSION_TYPE_succeeding</th>\n",
              "      <th>As_D_time</th>\n",
              "      <th>TEXT</th>\n",
              "      <th>OUTPUT_LABEL</th>\n",
              "    </tr>\n",
              "  </thead>\n",
              "  <tbody>\n",
              "    <tr>\n",
              "      <th>13</th>\n",
              "      <td>17</td>\n",
              "      <td>194023</td>\n",
              "      <td>ELECTIVE</td>\n",
              "      <td>2134-12-27 07:15:00</td>\n",
              "      <td>2134-12-31 16:05:00</td>\n",
              "      <td>2135-05-09 14:11:00</td>\n",
              "      <td>EMERGENCY</td>\n",
              "      <td>128.920833</td>\n",
              "      <td>Admission Date:  [**2134-12-27**]             ...</td>\n",
              "      <td>0</td>\n",
              "    </tr>\n",
              "    <tr>\n",
              "      <th>18</th>\n",
              "      <td>21</td>\n",
              "      <td>109451</td>\n",
              "      <td>EMERGENCY</td>\n",
              "      <td>2134-09-11 12:17:00</td>\n",
              "      <td>2134-09-24 16:15:00</td>\n",
              "      <td>2135-01-30 20:50:00</td>\n",
              "      <td>EMERGENCY</td>\n",
              "      <td>128.190972</td>\n",
              "      <td>Admission Date:  [**2134-9-11**]              ...</td>\n",
              "      <td>0</td>\n",
              "    </tr>\n",
              "    <tr>\n",
              "      <th>21</th>\n",
              "      <td>23</td>\n",
              "      <td>152223</td>\n",
              "      <td>ELECTIVE</td>\n",
              "      <td>2153-09-03 07:15:00</td>\n",
              "      <td>2153-09-08 19:10:00</td>\n",
              "      <td>2157-10-18 19:34:00</td>\n",
              "      <td>EMERGENCY</td>\n",
              "      <td>1501.016667</td>\n",
              "      <td>Admission Date:  [**2153-9-3**]              D...</td>\n",
              "      <td>0</td>\n",
              "    </tr>\n",
              "    <tr>\n",
              "      <th>35</th>\n",
              "      <td>36</td>\n",
              "      <td>182104</td>\n",
              "      <td>EMERGENCY</td>\n",
              "      <td>2131-04-30 07:15:00</td>\n",
              "      <td>2131-05-08 14:00:00</td>\n",
              "      <td>2131-05-12 19:49:00</td>\n",
              "      <td>EMERGENCY</td>\n",
              "      <td>4.242361</td>\n",
              "      <td>Admission Date:  [**2131-4-30**]              ...</td>\n",
              "      <td>1</td>\n",
              "    </tr>\n",
              "    <tr>\n",
              "      <th>36</th>\n",
              "      <td>36</td>\n",
              "      <td>122659</td>\n",
              "      <td>EMERGENCY</td>\n",
              "      <td>2131-05-12 19:49:00</td>\n",
              "      <td>2131-05-25 13:30:00</td>\n",
              "      <td>2134-05-10 11:30:00</td>\n",
              "      <td>ELECTIVE</td>\n",
              "      <td>1080.916667</td>\n",
              "      <td>Admission Date:  [**2131-5-12**]              ...</td>\n",
              "      <td>0</td>\n",
              "    </tr>\n",
              "    <tr>\n",
              "      <th>...</th>\n",
              "      <td>...</td>\n",
              "      <td>...</td>\n",
              "      <td>...</td>\n",
              "      <td>...</td>\n",
              "      <td>...</td>\n",
              "      <td>...</td>\n",
              "      <td>...</td>\n",
              "      <td>...</td>\n",
              "      <td>...</td>\n",
              "      <td>...</td>\n",
              "    </tr>\n",
              "    <tr>\n",
              "      <th>58939</th>\n",
              "      <td>99883</td>\n",
              "      <td>150755</td>\n",
              "      <td>EMERGENCY</td>\n",
              "      <td>2131-12-24 17:41:00</td>\n",
              "      <td>2131-12-27 17:45:00</td>\n",
              "      <td>2132-09-15 00:36:00</td>\n",
              "      <td>ELECTIVE</td>\n",
              "      <td>262.285417</td>\n",
              "      <td>Admission Date:  [**2131-12-24**]             ...</td>\n",
              "      <td>0</td>\n",
              "    </tr>\n",
              "    <tr>\n",
              "      <th>58943</th>\n",
              "      <td>99897</td>\n",
              "      <td>162913</td>\n",
              "      <td>EMERGENCY</td>\n",
              "      <td>2181-08-06 02:22:00</td>\n",
              "      <td>2181-08-07 16:30:00</td>\n",
              "      <td>2182-07-03 19:50:00</td>\n",
              "      <td>EMERGENCY</td>\n",
              "      <td>330.138889</td>\n",
              "      <td>Admission Date:  [**2181-8-6**]              D...</td>\n",
              "      <td>0</td>\n",
              "    </tr>\n",
              "    <tr>\n",
              "      <th>58951</th>\n",
              "      <td>99923</td>\n",
              "      <td>164914</td>\n",
              "      <td>EMERGENCY</td>\n",
              "      <td>2201-02-23 20:42:00</td>\n",
              "      <td>2201-03-03 16:00:00</td>\n",
              "      <td>2201-05-15 13:12:00</td>\n",
              "      <td>EMERGENCY</td>\n",
              "      <td>72.883333</td>\n",
              "      <td>Admission Date:  [**2201-2-23**]              ...</td>\n",
              "      <td>0</td>\n",
              "    </tr>\n",
              "    <tr>\n",
              "      <th>58967</th>\n",
              "      <td>99982</td>\n",
              "      <td>151454</td>\n",
              "      <td>EMERGENCY</td>\n",
              "      <td>2156-11-28 11:56:00</td>\n",
              "      <td>2156-12-08 13:45:00</td>\n",
              "      <td>2157-01-05 17:27:00</td>\n",
              "      <td>EMERGENCY</td>\n",
              "      <td>28.154167</td>\n",
              "      <td>Admission Date:  [**2156-11-28**]             ...</td>\n",
              "      <td>1</td>\n",
              "    </tr>\n",
              "    <tr>\n",
              "      <th>58968</th>\n",
              "      <td>99982</td>\n",
              "      <td>112748</td>\n",
              "      <td>EMERGENCY</td>\n",
              "      <td>2157-01-05 17:27:00</td>\n",
              "      <td>2157-01-12 13:00:00</td>\n",
              "      <td>2157-02-16 17:31:00</td>\n",
              "      <td>EMERGENCY</td>\n",
              "      <td>35.188194</td>\n",
              "      <td>Admission Date:  [**2157-1-5**]              D...</td>\n",
              "      <td>0</td>\n",
              "    </tr>\n",
              "  </tbody>\n",
              "</table>\n",
              "<p>11915 rows × 10 columns</p>\n",
              "</div>"
            ],
            "text/plain": [
              "       SUBJECT_ID  ...  OUTPUT_LABEL\n",
              "13             17  ...             0\n",
              "18             21  ...             0\n",
              "21             23  ...             0\n",
              "35             36  ...             1\n",
              "36             36  ...             0\n",
              "...           ...  ...           ...\n",
              "58939       99883  ...             0\n",
              "58943       99897  ...             0\n",
              "58951       99923  ...             0\n",
              "58967       99982  ...             1\n",
              "58968       99982  ...             0\n",
              "\n",
              "[11915 rows x 10 columns]"
            ]
          },
          "metadata": {},
          "execution_count": 61
        }
      ],
      "source": [
        "df"
      ]
    },
    {
      "cell_type": "code",
      "execution_count": null,
      "metadata": {
        "id": "mhHYYV7OhdzT",
        "colab": {
          "base_uri": "https://localhost:8080/"
        },
        "outputId": "40ac30d5-423a-4fde-9def-82a0059737d0"
      },
      "outputs": [
        {
          "output_type": "stream",
          "name": "stdout",
          "text": [
            "[nltk_data] Downloading package punkt to /root/nltk_data...\n",
            "[nltk_data]   Unzipping tokenizers/punkt.zip.\n"
          ]
        },
        {
          "output_type": "execute_result",
          "data": {
            "text/plain": [
              "True"
            ]
          },
          "metadata": {},
          "execution_count": 62
        }
      ],
      "source": [
        "import nltk\n",
        "nltk.download('punkt')"
      ]
    },
    {
      "cell_type": "code",
      "execution_count": null,
      "metadata": {
        "id": "a8yp2ut5tACA"
      },
      "outputs": [],
      "source": [
        "my_stop_words = ['the','and','to','of','was','with','a','on','in','for','name','is','patient','s','he','at','as','or','one','she','his','her','am','were','you','pt','pm','by','be','had','your','this','date', 'from','there','an','that','p','are','have','has','h','but','o','namepattern','which','every','also']\n"
      ]
    },
    {
      "cell_type": "code",
      "execution_count": null,
      "metadata": {
        "id": "_qBs1Aker14W"
      },
      "outputs": [],
      "source": [
        "def remove_stopwords(text):\n",
        "  l=[]\n",
        "  for i in text.split():\n",
        "    if i not in my_stop_words:\n",
        "      l.append(i)\n",
        "  return \" \".join(l)"
      ]
    },
    {
      "cell_type": "code",
      "execution_count": null,
      "metadata": {
        "id": "1rzXn3BD-9At"
      },
      "outputs": [],
      "source": [
        ""
      ]
    },
    {
      "cell_type": "code",
      "execution_count": null,
      "metadata": {
        "id": "SE5GFUur-85c"
      },
      "outputs": [],
      "source": [
        "import re"
      ]
    },
    {
      "cell_type": "code",
      "execution_count": null,
      "metadata": {
        "id": "SguAUeSVfGbp"
      },
      "outputs": [],
      "source": [
        "import string\n",
        "from nltk import word_tokenize\n",
        "\n",
        "def tokenizer_better(text):\n",
        "    # tokenize the text by replacing punctuation and numbers with spaces and lowercase all words\n",
        "    punc_list = string.punctuation+'0123456789'\n",
        "    t = str.maketrans(dict.fromkeys(punc_list, \" \"))\n",
        "    text = text.lower().translate(t)\n",
        "    text= re.sub('[^a-zA-Z0-9 \\n\\.]','', text)\n",
        "    text=remove_stopwords(text)\n",
        "    return text\n"
      ]
    },
    {
      "cell_type": "code",
      "execution_count": null,
      "metadata": {
        "id": "62g1aTImid-Y"
      },
      "outputs": [],
      "source": [
        "X=df.TEXT.values"
      ]
    },
    {
      "cell_type": "code",
      "execution_count": null,
      "metadata": {
        "id": "gTgN6v0mHtZm"
      },
      "outputs": [],
      "source": [
        "X=df.TEXT.values\n",
        "for i in range(len(X)):\n",
        "  X[i]=tokenizer_better(X[i])"
      ]
    },
    {
      "cell_type": "code",
      "execution_count": null,
      "metadata": {
        "id": "BdVv-kohHNoc"
      },
      "outputs": [],
      "source": [
        "y=df.OUTPUT_LABEL.values\n"
      ]
    },
    {
      "cell_type": "code",
      "execution_count": null,
      "metadata": {
        "id": "AXERD88LHTcQ",
        "colab": {
          "base_uri": "https://localhost:8080/"
        },
        "outputId": "e92a2693-6bd4-447c-dfa8-0c695654dfea"
      },
      "outputs": [
        {
          "output_type": "execute_result",
          "data": {
            "text/plain": [
              "array([0, 0, 0, ..., 0, 1, 0])"
            ]
          },
          "metadata": {},
          "execution_count": 70
        }
      ],
      "source": [
        "y"
      ]
    },
    {
      "cell_type": "code",
      "execution_count": null,
      "metadata": {
        "id": "ckVNoHueFj6_",
        "colab": {
          "base_uri": "https://localhost:8080/"
        },
        "outputId": "8c15ec64-1ea3-4fed-d8e5-fb84b86d9f62"
      },
      "outputs": [
        {
          "output_type": "execute_result",
          "data": {
            "text/plain": [
              "array(['admission discharge birth sex f service cardiothoracic allergies bactrim ampicillin remeron attending first lf chief complaint history stroke major surgical invasive procedure minimally invasive closure patent foramen ovale history present illness mrs known lastname year old female who suffered cerebellar stroke workup time revealed patent foramen ovale currently followed dr last stitle neurologist hospital full hypercoagulability workup unremarkable since month only no other neurological events preperation surgical intervention underwent cardiac catheterization month only showed normal coronary arteries normal left ventricular function past medical history patent foramen ovale history stroke tia depression anxiety borderline hyperlipidemia herniation cervical discs patella femoral syndrome bunionectomies social history denies tobacco admits occasional etoh employee hospital neuro pysch department married two children denies ivda recreational drugs family history father underwent cabg age cousin died mi age physical exam vitals bp hr rr general well developed female no acute distress heent oropharynx benign neck supple no jvd no carotid bruits heart regular rate normal no murmur rub lungs clear bilaterally abdomen soft nontender normoactive bowel sounds ext warm no edema no varicosities pulses distally neuro nonfocal pertinent results blood wbc rbc hgb hct mcv mch mchc rdw plt ct blood wbc rbc hgb hct mcv mch mchc rdw plt ct blood glucose urean creat na k cl hco angap blood urean creat cl hco blood calcium phos mg brief hospital course mrs known lastname admitted underwent surgical closure patent foramen ovale operation performed minimally invasive no complications following procedure brought csru initially remained hypotensive requiring volume neosynephrine within hours awoke neurologically intact extubated without difficulty postoperative day two successfully weaned inotropic support maintained stable hemodynamics transferred floor telemetry remained mostly normal sinus rhythm brief periods accelerated junctional rhythm otherwise continued make clinical improvements cleared discharge postoperative day four remained just aspirin therapy aggrenox not resumed pfo surgically repaired discharge systolic blood pressures heart rate room air saturations ambulating without difficulty good pain control dilaudid all wounds clean dry intact medications admission bupropion hospital aggrenox qd centrum calcium erythromycin eye gtts discharge medications bupropion mg tablet sustained release sig tablet sustained release po bid times day disp tablet sustained release refills docusate sodium mg capsule sig capsule po bid times day disp capsule refills aspirin mg tablet delayed release e c sig tablet delayed release e c po daily daily disp tablet delayed release e c refills hydromorphone mg tablet sig tablets po hours needed disp tablet refills discharge disposition home service facility hospital homecare discharge diagnosis patent foramen ovale surgical closure history stroke tia depression anxiety borderline hyperlipidemia herniation cervical discs patella femoral syndrome bunionectomies discharge condition good discharge instructions may shower no baths no creams lotions ointments incisions no driving least month no lifting more than lbs least weeks surgery monitor wounds signs infection please call any concerns questions followup instructions cardiac surgeon dr last stitle weeks call appt telephone fax local pcp last last stitle weeks call appt local cardiologist dr last stitle weeks call appt completed',\n",
              "       'admission discharge service medicine allergies recorded having no known allergies drugs attending first lf chief complaint chest pain dyspnea major surgical invasive procedure cardiac catheterization placement three stents iabp swan catheter placement history present illness history present illness yo m chronic kidney disease av graft placement stroke hypertension diabetes peripheral vascular disease presents chest pain shortness breath reports chest pain began approximately week ago during week it gotten worse it substernal radiating left shoulder especially inspiration it associated shortness breath came hospital today because pain much worse addition noted today black stools been taking iron reports lightheadedness denies nausea vomiting diaphoresis arm paresthesias noticed cough recently not been able produce sputum though feels congested seen geriatric urgent care clinic dyspnea noted worsening supine position cxr time evaluate possible chf showed no evidence congestive heart failure pneumonia elevation right hemidiaphragm ed given mg iv lasix x uop cc received nitropaste lopressor iv last lf first lf morphine started nitro gtt heparin started well unit prbcs transfused given dose protonix levofloxacin bps hr renal gi cardiology consults called continued report pain eventually decreased titration nitro gtt arrival ccu still reported pain nitro mcg min heparin units hr past medical history past medical history esrd secondary hypertensive nephrosclerosis right upper extremity av graft preparation dialysis graft placement complicated cellulitis treated keflex dm glyburide glipizide home htn clonidine lisinopril nifedipine pvd aortic bypass cva residual weakness left side r cea secondary hyperparathyroidism chronic anemia procrit injections prostate ca lupron gout social history social history lives senior facility location un help cleaning other chores denies alcohol tobacco family history coronary artery disease physical exam physical examination vs t hr bp rr sao l nc heent ncat perrl eomi dry mucous membranes op clear neck jvp elevated approx cm above sternal notch cv rrr nl no murmurs rubs gallops pulm diffusely decreased bs r bibasilar crackles abd soft nontender nondistended bs ext warm dry pitting edema bilateral pulses neuro alert oriented cn iii xii intact moves all extremities strength not tested pertinent results ekg nsr bpm axis nl quadrant qrs borderline q waves v v st depressions i ii avl v ste v biphasic tw v cxr interval development perihilar patchy opacities consistent left ventricular heart failure cxr read pending cath comments right heart catheterization revealed elevated right left sided pressures pcwp mmhg left heart catheterization revealed no evidence systolic hypertension calculated cardiac output index selective coronary angiography right dominant system revealed three vessel coronary artery disease left main coronary artery mid vessel stenosis left anterior descending artery diffuse proximal disease serial stenosis left anterior descending mild diffuse disease mid distal segments large first diagonal proximal lesion left circumflex coronary artery mild diffuse disease proximal mid distal segments subtotal occlusion om right coronary artery dominant vessel total occlusion right coronary artery proximal segment distal rca filled via collaterals lca septal branches no left ventriculography undertaken given elevated cr successful predilation using x sprinter balloon stenting using minivision x stent proximal om lesion reduction successful predilaton using x maverick balloon stenting using x driver stent proximal lad lesion reduction successful predilation using x sprinter balloon stenting using x minivision stent proximal d lesion reduction final angiogram showed timi iii flow vessels intervened no residual stenoses any stents thre no distal embolisation dissection noted any vessel successful insertion iabp via right femoral artery see ptca comments above procdures through request renal consultants french dialysis central venous catheter placed using seldinger technique left common femoral vein final diagnosis three vessel coronary artery disease elevated right left sided pressures preserved cardiac output cardiac index successful stenting om lad d successful insertion iabp via right femoral artery successful implantation central venous dialysis catheter left femoral vein urine culture final female first un albicans presumptive identification organisms ml identification being performed cult c requested dr last stitle brief hospital course rhythm episodes monomorphic vt accompanied fall bp loc terminated x via precordial thumb electrolytes repeleted bolused amiodarone x started amio gtt amiodarone then changed po dosing schedule mg hospital week followed mg daily week then mg per day monomorphic vt thought likely due fixed area scarring previous mi placement icd discussed however given poor prognosis non sudden cardiac death reasons given increased infectious risk it decided treat arrhythmia medically note qt interval prolonged likely secondary amiodarone remained sinus rhythm amiodarone cad nstemi cath showed vessel disease subsequently underwent successful stenting om d lad iabp placement iabp discontinued after able maintain own pressure echo completed showed apical akinesis severely depressed systolic function initially started heparin bridged coumadin however another episode guaiac positive stool given history melena coffee ground emesis risk gi bleed thought high anticoagulation discontinued continued aspirin statin beta blocker started ace all will continue outpatient swan sheath discontinued without complications pump chf ef echo initially placed imdur hydral afterload reduction ace initially avoided attempt salvage kidneys however eventually started low dose lisinopril titrated up if necessary underwent hemodialysis mon wed fri schedule renal chronic renal disease secondary hypertensive nephrosclerosis status post graft placement mature v graft quentin catheter initially used then discontinued once graft accessible graft noted difficult access per renal underwent av fistulogram successful angioplasty performed id completed seven day course levofloxacin suspected pneumonia white blood count noted persistently elevated pan cultured urine culture positive yeast foley catheter discontinued repeat culture sent positive female first un started week course fluconazole blood cultures pending time discharge no growth heme anemia likely anemia chronic disease chronic renal disease episode melena coffee ground emesis guaiac positive stool hematocrit followed transfused necessary keep hematocrit above will need gi workup outpatient oral iron supplementation discontinued receiving fe addition epo procrit hemodialysis dm started glargine persistent hyperglycemia covered regular insulin sliding scale accu check monitor psych continued home dose zoloft mg once daily tolerated low na cardiac healthy diet placed ppi gi prophylaxis discharged rehab facility plan follow up cardiology pcp within next month medications admission nifedipine xl mg daily calcitriol mcg dialy lisinopril mg once daily aspirin mg once daily lasix mg once daily glyburide once daily recently changed glipizide clonidine mg hospital zoloft mg daily simvastatin mg daily tums tablet tid procrit injections units q week lupron injections heme hospital clinic niferex mg daily supplemental iron discharge medications atorvastatin mg tablet sig tablet po hs bedtime aspirin mg tablet sig tablet po daily daily sertraline mg tablet sig tablet po daily daily senna mg tablet sig tablets po bid times day needed white petrolatum mineral oil cream sig appl topical hospital times day needed clopidogrel mg tablet sig tablet po daily daily days docusate sodium mg capsule sig capsule po bid times day pantoprazole mg tablet delayed release e c sig tablet delayed release e c po q hours metoprolol tartrate mg tablet sig tablet po tid times day amiodarone mg tablet sig two tablet po bid times day please continue take twice day next two days please begin taking mg once day continue week then please take mg once day polyvinyl alcohol drops sig drops ophthalmic prn needed fluconazole mg tablet sig tablet po q hours days lisinopril mg tablet sig tablet po daily daily discharge disposition extended care facility hospital aged acute rehab discharge diagnosis acute coronary syndrome congestive heart failure chronic renal disease urinary tract infection discharge condition good hemodynamically stable afebrile heart rate rhythm been well controlled discharge instructions we started new medication help control heart rhythm new medication help control blood pressure addition we started medication help treat urinary tract infection please take these all medications instructed please maintain all follow up appointments please return hospital if develop chest pain shortness breath fevers chills followup instructions provider first pattern last md phone telephone fax time provider first pattern known lastname m d time provider nameis last m d phone telephone fax time appointment scheduled dr last stitle hospital hospital campus please arrive register',\n",
              "       'admission discharge birth sex m service cardiothoracic allergies recorded having no known allergies drugs attending first lf chief complaint chest pain sob positive ett major surgical invasive procedure four vessel coronary artery bypass grafting lima lad svg diagonal svg om svg pda history present illness year old male known cad underwent ptca lad diagonal prior hernia repair operation ett notable ekg changes echo month only notable mild mr first titles last titles location un estimated cm peak mean gradients mmhg mild concentric lvh lvef subsequently referred cardiac catheterization performed hospital angiography showed right dominant system ostial lad lesion first diagonal stenosis circumflex lesion while rca stenosis only mild first location un cm mean gradient mmhg left ventriculogram showed preserved lv function based above results referred cabg past medical history cad ptca htn hypercholesterolemia bph hernia decreased hearing l knee arthroscopy appy social history year history pipe smoking admits etoh drinks per week family history no premature cad physical exam temp bp hr resp sat ra general elderly male nad neck supple no jvd heent benign lungs clear bilaterally heart regular rate rhythm sem radiating carotids abdomen benign ext warm no edema no varicosities neuro nonfocal pulses distally no femoral bruits pertinent results blood hct blood wbc rbc hgb hct mcv mch mchc rdw plt ct blood urean creat k blood glucose urean creat na k cl hco angap blood mg brief hospital course admitted underwent four vessel cabg dr last stitle surgery uneventful see op note further details following operation brought csru stable condition weaned inotropic support extubated without difficulty noted some ventricular ectopy improved after intravenous lidocaine po beta blockade k mg levels monitored closely repleted per protocol otherwise maintained stable hemodynamics units prbcs intermittently transfused maintain hematocrit close pod transferred sdu remained normal sinus no further ventricular ectopy noted beta blockade slowly advanced tolerated over several days made clinical improvements discharge near preoperative weight oxygen saturations over room air worked daily physical therapy made steady progress hospital course otherwise uneventful cleared discharge home pod scheduled follow up dr last stitle local cardiologist approximately weeks medications admission isordil hospital lescol qd accupril qd hytrin qd hctz last lf first lf qd cartia qd kcl hospital tng prn discharge medications docusate sodium mg capsule sig capsule po bid times day disp capsule refills aspirin mg tablet delayed release e c sig tablet delayed release e c po daily daily disp tablet delayed release e c refills terazosin mg capsule sig capsule po hs bedtime disp capsule refills ferrous gluconate mg tablet sig tablet po daily daily months disp tablet refills metoprolol tartrate mg tablet sig tablet po bid times day disp tablet refills furosemide mg tablet sig tablet po daily daily days disp tablet refills potassium chloride meq tab sust rel particle crystal sig tab sust rel particle crystal po daily daily days disp tab sust rel particle crystal refills percocet mg tablet sig tablets po hours days disp tablet refills lescol mg capsule sig capsule po once day disp capsule refills discharge disposition home service facility hospital vna discharge diagnosis cabgx lima lad svg diag svg om svg pda pmh cad pci htn chol bph hernia repair discharge condition good discharge instructions keep wounds clean dry ok shower no bathing swimming take all medications prescribed call any fever redness drainage wounds followup instructions hospital clinic week dr last stitle weeks dr last stitle weeks completed',\n",
              "       ...,\n",
              "       'admission discharge birth sex m service medicine allergies oxycontin attending first lf chief complaint hypotension setting ativan administration major surgical invasive procedure diagnostic paracentesis history present illness mr known lastname year old gentlamen etoh cirrhosis complicated ascites encephalopathy admitted transient hypotension scheduled outpatient mri liver today prescribed mg po ativan taken hour prior arrival while awaiting mri waiting room became dizzy states couldn t see lost focus time lay down floor noted sbp baseline sbp received l ivf transferred ed further evaluation note reports last ate morning meal consisting bowl cereal does report assocaited nausea denies any cp f c ha diaphoresis palpitations orthopnea pnd le swelling pain legs does report chronic diarrhea since starting lactulose note admitted doctor last county hospital location un ri range hepatic encephalopathy during treated lactulose large volume paracentesis addition underwent rhc doctor first mmhg hospital ed initial vs ra received l ns negative cxr labs notable hyponatremia creatinine only prior creatinine diagnostic paracentesis negative sbp admitted micu request liver currently resting comfortably does state ros worsening sob over past days such unable walk feet without feeling fatigued past medical history etoh cirrhosis complicated diuretic refractory ascites encephalopathy currently undergoing transplant eval reports having large volume paracentesis q wks since etoh abuse acute kidney injury hypertension social history denies history intravenous drug use pack year history tobacco use quitting years ago history extensive alcohol use past quitting months ago etoh last drink married daughters ages family history grandparent alcoholism mother died age father age history diabetes colon cancer family physical exam admission vs temp f bp hr r sat ra general well appearing man nad comfortable appropriate heent nc perrla eomi sclerae anicteric mmm op clear neck supple no thyromegaly no jvd no carotid bruits lungs cta bilat no r rh wh good air movement resp unlabored no accessory muscle use heart pmi non displaced rrr no mrg nl abdomen obese no fluid waves soft nabs soft nt nd no rebound guarding extremities wwp no c c e peripheral pulses radials dps skin no rashes lesions lymph no cervical axillary inguinal lad neuro awake ox cns ii xii grossly intact pertinent results admission ascites glucose ld ldh albumin less than ascites wbc rbc polys lymphs monos eos mesotheli macrophag glucose urea n creat sodium potassium chloride total co anion gap alt sgpt ast sgot ld ldh tot bili lipase albumin wbc rbc hgb hct mcv mch mchc rdw plt count plt count creat estgfr using cxr findings frontal lateral views chest obtained blunting right posterior costophrenic angles raises concern small pleural effusion minimal left mid lower lung atelectasis noted no discrete focal consolidation seen cardiac mediastinal silhouettes unremarkable impression small right pleural effusion mild left base atelectasis echo no atrial septal defect seen d color doppler patent foramen ovale suggested premature appearance saline contrast left heart cough left ventricular wall thickness cavity size regional global systolic function normal lvef right ventricular chamber size free wall motion normal estimated pulmonary artery systolic pressure normal small moderate sized pericardial effusion around right atrium prominent pleural effusion impression patent foramen ovale loculated pericardial effusion suggestive pericardial cyst renal u impression technically limited study however patent bilateral main renal arteries veins large amount ascites mri mrv impression non obstructive infrarenal partial thrombus ivc without extension beyond bifurcation lenis negative dvt egd esophagus protruding lesions cords grade i varices seen gastroesophageal junction varices not bleeding stomach contents food found stomach mucosa diffuse erythema congestion mosaic appearance mucosa no bleeding noted stomach these findings compatible portal gastropathy discharge blood wbc rbc hgb hct mcv mch mchc rdw plt ct blood ptt inr blood glucose urean creat na k cl hco angap blood alt ast alkphos totbili ascites wbc rbc polys lymphs monos eos mesothe macroph meld brief hospital course mr known lastname year old gentleman etoh cirrhosis complicated refractory ascites encephalopathy admitted transient hypotension hypotension became hypotensive after taking ativan prior receiving outpatient mri hcc screening briefly dizzy felt normal within minutes transported ed where given ns boluses then admitted icu overnight observation blood pressures remained stable sbp overnight then transferred floor where orthostatics neagative asymptomatic systolics hyponatremia na admission reported having been drinking lots fluid because told it would help kidneys placed salt restriction l fluid restriction sodium gradually improved day discharge taught about importance salt restriction diet urine osm na showed perceived decreased effective circulating volume secondary cirrhosis prolonged pr new st degree avb compared prior ecg kept briefly telemetry without events acute chronic renal failure creatinine admission past hospital labs revealed cr reported having frequent large volume paracenteses without administration albumin reported thought creatinine usually briefly treated hepatorenal syndrome albumin octreotide midodrine without much improvement creatinine normal urine output discharge cr scheduled see hospital nephrology consultation possible renal transplant addition liver transplant etoh cirrhosis c b portal hypertension ascites recent admission osh hepatic encephalopathy transplant evaluation completed echo mri egd egd showed grade i varices portal hypertensive gastropathy presented transplant committee listed transplant unfortunately mri showed incidental ivc thrombus see below scheduled renal follow up possible renal transplant listing rifaximin lactulose continued discharge diagnostic paracentesis admission negative sbp ivf thrombus infrarenal non occlusive thrombus seen mri occupying vessel likely result cirrhosis decreased anticoagulant proteins heparin gtt initially started continued days coumadin started inr discharge plans repeat inr check days pcp initial pre goal inr anticoagulation least weeks etoh abuse reports last drink scheduled begin substance relapse prevention program kodak shortly after discharge transitional issues sodium monitoring renal function monitoring possible listing renal liver transplant anticoagulation ivc thrombus substance relapse prevention medications admission rifaxamin mg hospital dexilant mg daily ciprofloxacin mg daily vicodin prn vitamin d units weekly discharge medications acetaminophen mg tablet sig two tablet po eight hours needed pain fever do not exceed g hours caution vicodin contains acetaminophen ciprofloxacin mg tablet sig tablet po q hours docusate sodium mg capsule sig capsule po bid times day rifaximin mg tablet sig tablet po bid times day senna mg tablet sig tablet po bid times day needed constipation ergocalciferol vitamin d unit capsule sig capsule po once week dexilant mg cap delayed rel multiphasic sig cap delayed rel multiphasic po once day vicodin mg tablet oral warfarin mg tablet sig five tablet po once day daily requires frequent monitoring inr goal inr disp tablet refills outpatient lab work please draw inr provide results dr first last ph telephone fax should twice weekly inrs goal lactulose gram ml solution sig ml po three times day please titrate soft bowel movements per day disp bottle refills discharge disposition home discharge diagnosis primary hypotension inferior vena cava thrombus cirrhosis alcoholic acute vs chronic kidney disease secondary gerd discharge condition mental status clear coherent level consciousness alert interactive activity status ambulatory independent discharge instructions it pleasure caring hospital admitted after became hypotensive prior mri we completed liver transplant evaluation presented transplant committee dr last stitle would like see transplant nephrologist evaluated possible kidney transplant kidney function abnormal we incidentally discovered small thrombus inferior vena cava will need anticoagulated least weeks coumadin requires very close monitoring twice weekly inrs goal inr we made following changes medications we started coumadin warfarin mg per day will need inr checked twice per week first check thursday we continued lactulose should use titrate soft bowel movements per day we called dr ni office willing manage coumadin follow up information listed below followup instructions department transplant center when friday md md md telephone fax building lm hospital unit location un campus west best parking hospital ward garage department echo lab when friday echocardiogram telephone fax building gz hospital ward building felbeerg hospital ward complex location un campus east best parking main garage department endo suites when thursday first md md md number',\n",
              "       'admission discharge birth sex m service cardiothoracic allergies no known allergies adverse drug reactions attending first lf chief complaint tricuspid regurgitation major surgical invasive procedure tricuspid valve replacement mm st male first un tissue history present illness year old white male known nonischemic dilated cardiomyopathy years previously undergone biventricular pacemeker icd placement progressive tricuspid regurgitation device recently explanted due concern lead interfering tricuspid valve continued worsening symptoms referred surgical intervention catheterization previously demonstarted no obstructive coronary disease severely depressed lv function elevated right heart pressures past medical history biventricular pacer icd placement removal pacer icd left achilles tendon repair sinus surgery chronic atrial fibrillation nonischemic dilated cardiomyopathy chronic dysphagia social history retired pipe fitter lives wife ni ni tobacco history never smoker etoh quit when diagnosed heart failure illicit drugs denies family history mother renal failure no family history early mi arrhythmia cardiomyopathies sudden cardiac death otherwise non contributory physical exam pulse b cuff aline sat ra resp height weight kgs general nad skin dry x intact x heent perrla x eomi x neck supple x full rom x mild jvd chest lungs clear bilaterally x heart rrr x irregular murmur x holosystolic abdomen soft x non distended x non tender x bowel sounds x extremities warm x well perfused x edema x trace varicosities lle neuro grossly intact x pulses femoral right left dp right left ni left radial right left carotid bruit right left pertinent results blood wbc rbc hgb hct mcv mch mchc rdw plt ct blood wbc rbc hgb hct mcv mch mchc rdw plt ct blood ptt inr blood ptt inr blood ptt inr blood ptt inr blood ptt inr blood glucose urean creat na k cl hco angap blood alt ast alkphos totbili echo right atrium moderately dilated left ventricular wall thicknesses normal left ventricular cavity size normal moderate severe global left ventricular hypokinesis lvef right ventricular free wall thickness normal right ventricular chamber size normal depressed free wall contractility aortic root mildly dilated sinus level aortic valve leaflets mildly thickened aortic stenosis not present mild aortic regurgitation seen mitral valve leaflets mildly thickened no mitral valve prolapse mild moderate mitral regurgitation seen bioprosthetic tricuspid valve present prosthetic tricuspid leaflets appear normal estimated pulmonary artery systolic pressure normal no pericardial effusion compared findings prior study images reviewed tricuspid valve been replaced bioprosthesis right ventricle no longer dilated trace mild tricuspid regurgitation present left ventricular function improved due reduction right ventricular size well reduction ventricular interaction electronically signed first pattern last md interpreting physician last brief hospital course admitted day early pa catheter placement diuresis despite ultrasound visualization hour time catheter could not passed across valve due regurgitant jet diuresis undertaken went operating room where valve replacement performed see operative note details weaned bypass levophed milrinone pa catheter placed end case great difficulty remained stable extubated day surgery over next few days milrinone weaned off did well diuresed toward pre operative weight coumadin started atrial fibrillation carvedilol started cardiomyopathy torsemide home resumed after stopping lasix wires removed cts ambulated icu progressed well physical therapy consulted strength well cleared discharge home pod vna services medications listed appropriate follow up appointments coumadin will continue managed dr last stitle primary cardiologist medications admission losartan mg daily metoprolol succinate mg daily omeprazole mg daily hospital torsemide mg daily coumadin mg daily days per week mg tuesday discharge medications oxycodone acetaminophen mg tablet sig tablets po q hours needed pain weeks disp tablet refills magnesium hydroxide mg ml suspension sig thirty ml po daily daily needed constipation omeprazole mg capsule delayed release e c sig capsule delayed release e c po bid times day aspirin mg tablet delayed release e c sig tablet delayed release e c po daily daily acetaminophen mg tablet sig two tablet po q hours needed fever pain outpatient lab work inr mon wed friday until inr stable results dr last stitle warfarin mg tablet sig tablet po once day indication afib inr goal docusate sodium mg capsule sig capsule po bid times day metoprolol succinate mg tablet extended release hr sig tablet extended release hr po daily daily disp tablet extended release hr refills torsemide mg tablet sig two tablet po twice day disp tablet refills potassium chloride meq tablet extended release sig four tablet extended release po daily daily disp tablet extended release refills discharge disposition home service facility location un vna discharge diagnosis tricuspid regurgitation tricuspid valve replacement nonischemic dilated cardiomyopathy biventricular pacemaker icd placement removal biventricular pacemaker icd chronic atrial fibrillation achilles tendon repair chronic dysphagia discharge condition alert oriented x nonfocal ambulating steady gait incisional pain managed percocet incisions sternal healing well no erythema drainage discharge instructions please shower daily including washing incisions gently mild soap no baths swimming until cleared surgeon look incisions daily redness drainage please no lotions cream powder ointments incisions each morning should weigh yourself then evening take temperature these should written down chart no driving approximately month while taking narcotics will discussed follow up appointment surgeon when will able drive no lifting more than pounds weeks please call any questions concerns telephone fax please call cardiac surgery office any questions concerns telephone fax answering service will contact call person during off hours followup instructions scheduled following appointments surgeon dr last stitle telephone fax hospital medical office building last hospital unit cardiologist dr last stitle heart failure dr first stitle hospital ward echocardiogram telephone fax time hospital ward please call cardiac surgery office any questions concerns telephone fax answering service will contact call person during off hours labs inr coumadin indication atrial fibrillation goal inr first draw then mon wed friday until stable results dr last stitle phone telephone fax fax telephone fax completed',\n",
              "       'admission discharge birth sex m service medicine allergies no known allergies adverse drug reactions attending last chief complaint dyspnea major surgical invasive procedure cardiac catheterization history present illness yo m who weeks tricuspid valve replacement severe nonischemic cardiomyopathy hospital v ivcd lead causing wide open tr chronic afib coumadin who w day history worsening doe orthopnea noted doe walking since operation three days ago doe increased two nights ago noted increased orthopnea episodes pnd saw cardiologist dr first stitle f u yesterday point no complaints after appointment noted increased doe occurring after few steps all these acute changes past few weeks no appreciable increase edema denies prior pnd denies cp nonproductive cough since leaving hospital constipation no f c no n v d came today because acute change symptoms hospital received mg iv lasix went rhc after swan placed now being admitted ccu milrinone lasix gtt fluid management arrival ccu comfortable without complaints past medical history tricuspid valve replacement tr biventricular pacer icd placement removal pacer icd left achilles tendon repair sinus surgery chronic atrial fibrillation nonischemic dilated cardiomyopathy chronic dysphagia social history retired pipe fitter lives wife ni ni never smoked denies illicits drank etoh only rarely after diagnosed chf quit family history mother renal failure no family history early mi arrhythmia cardiomyopathies sudden cardiac death otherwise non contributory physical exam admission vs hr bp ra general thin elderly m nad comfortable appropriate aaox heent nc perrla eomi sclerae anicteric mmm op clear neck supple no thyromegaly jvd up neck degrees lungs cta bilat no r rh wh good air movement resp unlabored no accessory muscle use heart pmi non displaced rrr nl no rv heave noted heart sounds distant abdomen nabs soft nt nd no masses hsm no rebound guarding extremities wwp bilateral pitting edema skin no rashes lesions lymph no cervical axillary inguinal lad neuro awake ox grossly non focal discharge general thin elderly m nad comfortable appropriate aaox heent nc perrla eomi sclerae anicteric mmm op clear neck supple no thyromegaly no jvd appreciated lungs cta bilat no r rh wh good air movement resp unlabored no accessory muscle use heart pmi non displaced rrr nl no rv heave noted abdomen nabs soft nt nd no masses hsm no rebound guarding extremities wwp no edema skin no rashes lesions lymph no cervical axillary inguinal lad neuro awake ox grossly non focal pertinent results admission labs blood wbc rbc hgb hct mcv mch mchc rdw plt ct blood neuts lymphs monos eos baso blood ptt inr blood glucose urean creat na k cl hco angap blood calcium phos mg cardiac enzymes blood ctropnt blood ck mb ctropnt blood ck cpk discharge labs pertinent labs pertinent studies cxr findings frontal lateral views chest obtained status post median sternotomy small bilateral pleural effusions overlying atelectasis no overt pulmonary edema seen cardiac silhouette remains top normal mildly enlarged impression small bilateral pleural effusions overlying atelectasis cardiac cath comments resting hemodynamics revealed right left filling pressures rvedp mmhg pcw mmhg moderate pulmonary artery systoic hypertension pasp mmhg cardiac index low l min m final diagnosis biventricular elevated filling pressures moderate pulmonary arterial hypertension echo conclusions left atrium moderately dilated right atrium moderately dilated no atrial septal defect seen d color doppler estimated right atrial pressure least mmhg left ventricular wall thicknesses normal left ventricular cavity size normal left ventricular cavity dilated systolic function apical segments relatively preserved overall left ventricular systolic function severely depressed lvef intrinsic left ventricular systolic function likely more depressed given severity valvular regurgitation right ventricular free wall thickness normal right ventricular cavity mildly dilated moderate global free wall hypokinesis aortic valve leaflets mildly thickened aortic stenosis not present mild aortic regurgitation seen mitral valve leaflets structurally normal moderate severe mitral regurgitation seen bioprosthetic tricuspid valve present tricuspid prosthesis appears well seated normal leaflet motion transvalvular gradients due acoustic shadowing severity tricuspid regurgitation may significantly underestimated mild pulmonary artery systolic hypertension trivial physiologic pericardial effusion impression biatrial enlargement dilated severely hypokinetic left ventricle relative preservation apical segments dilated hypokinetic right ventricle mild aortic regurgitation moderate severe mitral regurgitation well seated normally functioning tricuspid annuloplasty ring mild pulmonary artery systolic pressure compared prior study images reviewed worsening left ventricular global regional systolic function decrease ejection fraction severity mitral regurgitation increased minimally mild pulmonary artery systolic hypertension now appreciated its presence could not determined previously tte left atrium moderately dilated right atrium moderately dilated left ventricular wall thicknesses normal left ventricular cavity size top normal borderline dilated severe global left ventricular hypokinesis lvef right ventricular free wall thickness normal right ventricular cavity mildly dilated depressed free wall contractility aortic valve leaflets mildly thickened aortic stenosis not present mild aortic regurgitation seen mitral valve leaflets mildly thickened no mitral valve prolapse moderate mitral regurgitation seen bioprosthetic tricuspid valve present tricuspid prosthesis appears well seated normal leaflet motion transvalvular gradients compared findings prior study images reviewed systolic function both ventricles improved brief hospital course mr known lastname year old man who five weeks status post tricuspid valve replacement severe tricuspid regurgitation severe right ventricular enlargement severe right heart failure recent removal defibrillator coil revealed massively dilated right atrium right ventricle who presenting worsening dyspnea exertion acute chronic heart failure right sided systolic weeks tricuspid valve replacement now worsening right heart failure symptoms tte worsening systolic function well depressed ef attempts made iv diuresis ultimately required ccu admission milrinone initially started milrinone alone uop measured ultimately required lasix drip well maintain good uop cardiac output doubled milrinone therapy length stay out approximately l net negative edema cleared lungs remained clear jvp no longer elevated symptomatically felt much better having improved exercise tolerance greatly increased appetite milrinone approximately days after it lasix stopped repeat echo hours after cessation milrinone showing improved global function started back home torsemide without metolazone maintained euvolemia afib ectopy therapeutic warfarin inr rate controlled home digoxin metoprolol these medications continued throughout admission afib rate controlled well never having rapid ventricular rate did few episodes ventricular ectopy small runs nsvt although these likely related hypokalemia electrolyte shifts rather than milrinone other intrinsic cardiac etiology acute kidney injury creatinine baseline late month only etiology likely secondary poor forward flow rather than overdiuresis diuretics actually been decreased recently weeks ago renal function quickly improved milrinone time discharge baseline medications admission omeprazole mg ec po bid aspirin mg po daily warfarin mg po daily trazodone mg po qhs prn insomnia polyethylene glycol gram dose powder packet daily senna mg tablet po bid docusate sodium mg po bid digoxin mcg po daily potassium chloride meq tablet er po tid metoprolol succinate mg po daily torsemide mg po daily discharge medications omeprazole mg capsule delayed release e c sig capsule delayed release e c po bid times day aspirin mg tablet chewable sig tablet chewable po daily daily warfarin mg tablet sig tablets po once day polyethylene glycol gram dose powder sig packet po daily daily senna mg tablet sig tablet po bid times day needed constipation docusate sodium mg capsule sig capsule po bid times day digoxin mcg tablet sig tablet po daily daily potassium chloride meq capsule extended release sig capsule extended release po three times day metoprolol succinate mg tablet extended release hr sig tablet extended release hr po daily daily torsemide mg tablet sig three tablet po once day losartan mg tablet sig tablet po daily daily discharge disposition home discharge diagnosis acute chronic systolic heart failure nonischemic cardiomyoapthy icd later removed chronic af chronic dysphagia discharge condition mental status clear coherent level consciousness alert interactive activity status ambulatory independent discharge instructions admitted hospital shortness breath found acute heart failure given medication take off extra fluid no longer appear fluid overloaded future please call dr first stitle heartline right away if symptoms too much fluid shortness breath swelling feet ankles weight gain should increase torsemide mg daily will need electrolytes repeated week can it all done monday when see dr last stitle inr been low should increase coumadin mg alternating mg daily should take mg tonight will need inr checked monday should resume digoxin seems like may been off medication past medication changes increase coumadin mg alternating mg daily take mg tonight increase torsemide mg daily add losartan mg daily resume digoxin mcg daily heart failure diagnosis weigh yourself morning md md if weight goes up more than lbs days lbs days follow low salt diet fluid restriction ml day offered vna services home declines need them time please let us know if reconsider followup instructions dr last stitle telephone fax monday blood work repeated visit department cardiac services when tuesday dr first doctor last telephone fax building sc hospital ward clinical ctr location un campus east best parking hospital ward garage department cardiac services when friday first pattern last m d telephone fax building sc hospital ward clinical ctr location un campus east best parking hospital ward garage'],\n",
              "      dtype=object)"
            ]
          },
          "metadata": {},
          "execution_count": 71
        }
      ],
      "source": [
        "X"
      ]
    },
    {
      "cell_type": "code",
      "source": [
        "from sklearn.feature_extraction.text import CountVectorizer"
      ],
      "metadata": {
        "id": "wlZXVkrvTIh1"
      },
      "execution_count": null,
      "outputs": []
    },
    {
      "cell_type": "code",
      "execution_count": null,
      "metadata": {
        "id": "5WHsiJEXKeW4"
      },
      "outputs": [],
      "source": [
        "vect = CountVectorizer(max_features = 3000, \n",
        "                       tokenizer = tokenizer_better, \n",
        "                       stop_words = my_stop_words)\n",
        "\n",
        "vect.fit(df.TEXT.values)"
      ]
    },
    {
      "cell_type": "code",
      "execution_count": null,
      "metadata": {
        "id": "6MoNdaV5sIoA",
        "colab": {
          "base_uri": "https://localhost:8080/",
          "height": 310
        },
        "outputId": "c62f8f3a-b769-4d88-971f-c69066376a60"
      },
      "outputs": [
        {
          "output_type": "error",
          "ename": "KeyboardInterrupt",
          "evalue": "ignored",
          "traceback": [
            "\u001b[0;31m---------------------------------------------------------------------------\u001b[0m",
            "\u001b[0;31mKeyboardInterrupt\u001b[0m                         Traceback (most recent call last)",
            "\u001b[0;32m<ipython-input-74-e888859b6e08>\u001b[0m in \u001b[0;36m<module>\u001b[0;34m()\u001b[0m\n\u001b[0;32m----> 1\u001b[0;31m \u001b[0mX\u001b[0m\u001b[0;34m=\u001b[0m\u001b[0mvect\u001b[0m\u001b[0;34m.\u001b[0m\u001b[0mtransform\u001b[0m\u001b[0;34m(\u001b[0m\u001b[0mdf\u001b[0m\u001b[0;34m.\u001b[0m\u001b[0mTEXT\u001b[0m\u001b[0;34m.\u001b[0m\u001b[0mvalues\u001b[0m\u001b[0;34m)\u001b[0m\u001b[0;34m\u001b[0m\u001b[0;34m\u001b[0m\u001b[0m\n\u001b[0m",
            "\u001b[0;32m/usr/local/lib/python3.7/dist-packages/sklearn/feature_extraction/text.py\u001b[0m in \u001b[0;36mtransform\u001b[0;34m(self, raw_documents)\u001b[0m\n\u001b[1;32m   1377\u001b[0m \u001b[0;34m\u001b[0m\u001b[0m\n\u001b[1;32m   1378\u001b[0m         \u001b[0;31m# use the same matrix-building strategy as fit_transform\u001b[0m\u001b[0;34m\u001b[0m\u001b[0;34m\u001b[0m\u001b[0;34m\u001b[0m\u001b[0m\n\u001b[0;32m-> 1379\u001b[0;31m         \u001b[0m_\u001b[0m\u001b[0;34m,\u001b[0m \u001b[0mX\u001b[0m \u001b[0;34m=\u001b[0m \u001b[0mself\u001b[0m\u001b[0;34m.\u001b[0m\u001b[0m_count_vocab\u001b[0m\u001b[0;34m(\u001b[0m\u001b[0mraw_documents\u001b[0m\u001b[0;34m,\u001b[0m \u001b[0mfixed_vocab\u001b[0m\u001b[0;34m=\u001b[0m\u001b[0;32mTrue\u001b[0m\u001b[0;34m)\u001b[0m\u001b[0;34m\u001b[0m\u001b[0;34m\u001b[0m\u001b[0m\n\u001b[0m\u001b[1;32m   1380\u001b[0m         \u001b[0;32mif\u001b[0m \u001b[0mself\u001b[0m\u001b[0;34m.\u001b[0m\u001b[0mbinary\u001b[0m\u001b[0;34m:\u001b[0m\u001b[0;34m\u001b[0m\u001b[0;34m\u001b[0m\u001b[0m\n\u001b[1;32m   1381\u001b[0m             \u001b[0mX\u001b[0m\u001b[0;34m.\u001b[0m\u001b[0mdata\u001b[0m\u001b[0;34m.\u001b[0m\u001b[0mfill\u001b[0m\u001b[0;34m(\u001b[0m\u001b[0;36m1\u001b[0m\u001b[0;34m)\u001b[0m\u001b[0;34m\u001b[0m\u001b[0;34m\u001b[0m\u001b[0m\n",
            "\u001b[0;32m/usr/local/lib/python3.7/dist-packages/sklearn/feature_extraction/text.py\u001b[0m in \u001b[0;36m_count_vocab\u001b[0;34m(self, raw_documents, fixed_vocab)\u001b[0m\n\u001b[1;32m   1199\u001b[0m         \u001b[0;32mfor\u001b[0m \u001b[0mdoc\u001b[0m \u001b[0;32min\u001b[0m \u001b[0mraw_documents\u001b[0m\u001b[0;34m:\u001b[0m\u001b[0;34m\u001b[0m\u001b[0;34m\u001b[0m\u001b[0m\n\u001b[1;32m   1200\u001b[0m             \u001b[0mfeature_counter\u001b[0m \u001b[0;34m=\u001b[0m \u001b[0;34m{\u001b[0m\u001b[0;34m}\u001b[0m\u001b[0;34m\u001b[0m\u001b[0;34m\u001b[0m\u001b[0m\n\u001b[0;32m-> 1201\u001b[0;31m             \u001b[0;32mfor\u001b[0m \u001b[0mfeature\u001b[0m \u001b[0;32min\u001b[0m \u001b[0manalyze\u001b[0m\u001b[0;34m(\u001b[0m\u001b[0mdoc\u001b[0m\u001b[0;34m)\u001b[0m\u001b[0;34m:\u001b[0m\u001b[0;34m\u001b[0m\u001b[0;34m\u001b[0m\u001b[0m\n\u001b[0m\u001b[1;32m   1202\u001b[0m                 \u001b[0;32mtry\u001b[0m\u001b[0;34m:\u001b[0m\u001b[0;34m\u001b[0m\u001b[0;34m\u001b[0m\u001b[0m\n\u001b[1;32m   1203\u001b[0m                     \u001b[0mfeature_idx\u001b[0m \u001b[0;34m=\u001b[0m \u001b[0mvocabulary\u001b[0m\u001b[0;34m[\u001b[0m\u001b[0mfeature\u001b[0m\u001b[0;34m]\u001b[0m\u001b[0;34m\u001b[0m\u001b[0;34m\u001b[0m\u001b[0m\n",
            "\u001b[0;32m/usr/local/lib/python3.7/dist-packages/sklearn/feature_extraction/text.py\u001b[0m in \u001b[0;36m_analyze\u001b[0;34m(doc, analyzer, tokenizer, ngrams, preprocessor, decoder, stop_words)\u001b[0m\n\u001b[1;32m    113\u001b[0m             \u001b[0mdoc\u001b[0m \u001b[0;34m=\u001b[0m \u001b[0mpreprocessor\u001b[0m\u001b[0;34m(\u001b[0m\u001b[0mdoc\u001b[0m\u001b[0;34m)\u001b[0m\u001b[0;34m\u001b[0m\u001b[0;34m\u001b[0m\u001b[0m\n\u001b[1;32m    114\u001b[0m         \u001b[0;32mif\u001b[0m \u001b[0mtokenizer\u001b[0m \u001b[0;32mis\u001b[0m \u001b[0;32mnot\u001b[0m \u001b[0;32mNone\u001b[0m\u001b[0;34m:\u001b[0m\u001b[0;34m\u001b[0m\u001b[0;34m\u001b[0m\u001b[0m\n\u001b[0;32m--> 115\u001b[0;31m             \u001b[0mdoc\u001b[0m \u001b[0;34m=\u001b[0m \u001b[0mtokenizer\u001b[0m\u001b[0;34m(\u001b[0m\u001b[0mdoc\u001b[0m\u001b[0;34m)\u001b[0m\u001b[0;34m\u001b[0m\u001b[0;34m\u001b[0m\u001b[0m\n\u001b[0m\u001b[1;32m    116\u001b[0m         \u001b[0;32mif\u001b[0m \u001b[0mngrams\u001b[0m \u001b[0;32mis\u001b[0m \u001b[0;32mnot\u001b[0m \u001b[0;32mNone\u001b[0m\u001b[0;34m:\u001b[0m\u001b[0;34m\u001b[0m\u001b[0;34m\u001b[0m\u001b[0m\n\u001b[1;32m    117\u001b[0m             \u001b[0;32mif\u001b[0m \u001b[0mstop_words\u001b[0m \u001b[0;32mis\u001b[0m \u001b[0;32mnot\u001b[0m \u001b[0;32mNone\u001b[0m\u001b[0;34m:\u001b[0m\u001b[0;34m\u001b[0m\u001b[0;34m\u001b[0m\u001b[0m\n",
            "\u001b[0;32m<ipython-input-66-25915883b752>\u001b[0m in \u001b[0;36mtokenizer_better\u001b[0;34m(text)\u001b[0m\n\u001b[1;32m      8\u001b[0m     \u001b[0mtext\u001b[0m \u001b[0;34m=\u001b[0m \u001b[0mtext\u001b[0m\u001b[0;34m.\u001b[0m\u001b[0mlower\u001b[0m\u001b[0;34m(\u001b[0m\u001b[0;34m)\u001b[0m\u001b[0;34m.\u001b[0m\u001b[0mtranslate\u001b[0m\u001b[0;34m(\u001b[0m\u001b[0mt\u001b[0m\u001b[0;34m)\u001b[0m\u001b[0;34m\u001b[0m\u001b[0;34m\u001b[0m\u001b[0m\n\u001b[1;32m      9\u001b[0m     \u001b[0mtext\u001b[0m\u001b[0;34m=\u001b[0m \u001b[0mre\u001b[0m\u001b[0;34m.\u001b[0m\u001b[0msub\u001b[0m\u001b[0;34m(\u001b[0m\u001b[0;34m'[^a-zA-Z0-9 \\n\\.]'\u001b[0m\u001b[0;34m,\u001b[0m\u001b[0;34m''\u001b[0m\u001b[0;34m,\u001b[0m \u001b[0mtext\u001b[0m\u001b[0;34m)\u001b[0m\u001b[0;34m\u001b[0m\u001b[0;34m\u001b[0m\u001b[0m\n\u001b[0;32m---> 10\u001b[0;31m     \u001b[0mtext\u001b[0m\u001b[0;34m=\u001b[0m\u001b[0mremove_stopwords\u001b[0m\u001b[0;34m(\u001b[0m\u001b[0mtext\u001b[0m\u001b[0;34m)\u001b[0m\u001b[0;34m\u001b[0m\u001b[0;34m\u001b[0m\u001b[0m\n\u001b[0m\u001b[1;32m     11\u001b[0m     \u001b[0;32mreturn\u001b[0m \u001b[0mtext\u001b[0m\u001b[0;34m\u001b[0m\u001b[0;34m\u001b[0m\u001b[0m\n",
            "\u001b[0;32m<ipython-input-64-8b0c7c5ba0d5>\u001b[0m in \u001b[0;36mremove_stopwords\u001b[0;34m(text)\u001b[0m\n\u001b[1;32m      1\u001b[0m \u001b[0;32mdef\u001b[0m \u001b[0mremove_stopwords\u001b[0m\u001b[0;34m(\u001b[0m\u001b[0mtext\u001b[0m\u001b[0;34m)\u001b[0m\u001b[0;34m:\u001b[0m\u001b[0;34m\u001b[0m\u001b[0;34m\u001b[0m\u001b[0m\n\u001b[1;32m      2\u001b[0m   \u001b[0ml\u001b[0m\u001b[0;34m=\u001b[0m\u001b[0;34m[\u001b[0m\u001b[0;34m]\u001b[0m\u001b[0;34m\u001b[0m\u001b[0;34m\u001b[0m\u001b[0m\n\u001b[0;32m----> 3\u001b[0;31m   \u001b[0;32mfor\u001b[0m \u001b[0mi\u001b[0m \u001b[0;32min\u001b[0m \u001b[0mtext\u001b[0m\u001b[0;34m.\u001b[0m\u001b[0msplit\u001b[0m\u001b[0;34m(\u001b[0m\u001b[0;34m)\u001b[0m\u001b[0;34m:\u001b[0m\u001b[0;34m\u001b[0m\u001b[0;34m\u001b[0m\u001b[0m\n\u001b[0m\u001b[1;32m      4\u001b[0m     \u001b[0;32mif\u001b[0m \u001b[0mi\u001b[0m \u001b[0;32mnot\u001b[0m \u001b[0;32min\u001b[0m \u001b[0mmy_stop_words\u001b[0m\u001b[0;34m:\u001b[0m\u001b[0;34m\u001b[0m\u001b[0;34m\u001b[0m\u001b[0m\n\u001b[1;32m      5\u001b[0m       \u001b[0ml\u001b[0m\u001b[0;34m.\u001b[0m\u001b[0mappend\u001b[0m\u001b[0;34m(\u001b[0m\u001b[0mi\u001b[0m\u001b[0;34m)\u001b[0m\u001b[0;34m\u001b[0m\u001b[0;34m\u001b[0m\u001b[0m\n",
            "\u001b[0;31mKeyboardInterrupt\u001b[0m: "
          ]
        }
      ],
      "source": [
        "X=vect.transform(df.TEXT.values)"
      ]
    },
    {
      "cell_type": "code",
      "source": [
        "y\n"
      ],
      "metadata": {
        "id": "SyHVc2PFT0K2"
      },
      "execution_count": null,
      "outputs": []
    },
    {
      "cell_type": "code",
      "execution_count": null,
      "metadata": {
        "id": "aHnJgx0NPYLA"
      },
      "outputs": [],
      "source": [
        "from sklearn.linear_model import LogisticRegression\n",
        "from sklearn import svm\n",
        "from sklearn.ensemble import RandomForestClassifier\n",
        "\n",
        "\n"
      ]
    },
    {
      "cell_type": "code",
      "source": [
        "lr=LogisticRegression( random_state = 42,max_iter=1000)\n",
        "lr.fit(X,y)\n",
        "y_lr=lr.predict_proba(X)\n",
        "\n",
        "rf=RandomForestClassifier()\n",
        "rf.fit(X,y)\n",
        "y_rf=rf.predict_proba(X)\n",
        "\n",
        "\n",
        "s=svm.SVC()\n",
        "s.fit(X,y)\n",
        "\n",
        "\n",
        "\n"
      ],
      "metadata": {
        "id": "nMCKL59hZAOB"
      },
      "execution_count": null,
      "outputs": []
    },
    {
      "cell_type": "code",
      "source": [
        "import matplotlib.pyplot as plt\n",
        "from matplotlib.pyplot import *\n",
        "import sklearn.metrics as metrics\n",
        "svc_disp = metrics.plot_roc_curve(lr, X, y)\n",
        "rfc_disp = metrics.plot_roc_curve(s, X, y)\n",
        "rfc_disp.figure_.suptitle(\"ROC curve comparison\")\n",
        "plt.show()"
      ],
      "metadata": {
        "id": "yIInmL85bD_X"
      },
      "execution_count": null,
      "outputs": []
    },
    {
      "cell_type": "code",
      "source": [
        "y_pred=clf.predict_proba(X)[:,1]"
      ],
      "metadata": {
        "id": "AW1O1VPtTe-N"
      },
      "execution_count": null,
      "outputs": []
    },
    {
      "cell_type": "code",
      "execution_count": null,
      "metadata": {
        "id": "k39hLP6KRJoa"
      },
      "outputs": [],
      "source": [
        "from sklearn.metrics import roc_curve\n"
      ]
    },
    {
      "cell_type": "code",
      "execution_count": null,
      "metadata": {
        "id": "fT4-wfFwSS_u"
      },
      "outputs": [],
      "source": [
        ""
      ]
    },
    {
      "cell_type": "code",
      "execution_count": null,
      "metadata": {
        "id": "9hFaZ7njSYG-"
      },
      "outputs": [],
      "source": [
        ""
      ]
    },
    {
      "cell_type": "code",
      "execution_count": null,
      "metadata": {
        "id": "y524sNkNQtAz"
      },
      "outputs": [],
      "source": [
        "fpr, tpr, thresholds = roc_curve(y,y_pred)\n",
        "roc_auc =auc(fpr, tpr)\n",
        "plt.title('Receiver Operating Characteristic')\n",
        "plt.plot(fpr, tpr, 'b', label = 'AUC = %0.2f' % roc_auc)\n",
        "plt.legend(loc = 'lower right')\n",
        "plt.plot([0, 1], [0, 1],'r--')\n",
        "plt.xlim([0, 1])\n",
        "plt.ylim([0, 1])\n",
        "plt.ylabel('True Positive Rate')\n",
        "plt.xlabel('False Positive Rate')\n",
        "plt.show()"
      ]
    },
    {
      "cell_type": "code",
      "execution_count": null,
      "metadata": {
        "id": "3XLyDiLCQs2c"
      },
      "outputs": [],
      "source": [
        ""
      ]
    },
    {
      "cell_type": "code",
      "execution_count": null,
      "metadata": {
        "id": "lA893cNnPnkH"
      },
      "outputs": [],
      "source": [
        "'''y_pred=clf.predict_proba(X)[:,1]'''"
      ]
    },
    {
      "cell_type": "code",
      "execution_count": null,
      "metadata": {
        "id": "M3SOP_aOPxY3"
      },
      "outputs": [],
      "source": [
        "'''y_pred'''"
      ]
    },
    {
      "cell_type": "code",
      "execution_count": null,
      "metadata": {
        "id": "y4mHv5EJk3QG"
      },
      "outputs": [],
      "source": [
        "'''counts = pd.DataFrame(matrix.toarray(),\n",
        "                  columns=vect.get_feature_names())\n",
        "\n",
        "counts'''\n"
      ]
    },
    {
      "cell_type": "code",
      "execution_count": null,
      "metadata": {
        "id": "_0tR-FGcvBiA"
      },
      "outputs": [],
      "source": [
        "my_sum_serie=counts.sum() #get a ordered pandas Series\n",
        "my_sum_serie\n",
        "d=my_sum_serie.to_dict()''\n"
      ]
    },
    {
      "cell_type": "code",
      "execution_count": null,
      "metadata": {
        "id": "CsN65mog_t9_"
      },
      "outputs": [],
      "source": [
        "\n",
        "'''sorted(A, key=A.get, reverse=True)[:5]'''"
      ]
    },
    {
      "cell_type": "code",
      "execution_count": null,
      "metadata": {
        "id": "-ne5dwBUA7BW"
      },
      "outputs": [],
      "source": [
        "'''type(D)'''"
      ]
    },
    {
      "cell_type": "code",
      "execution_count": null,
      "metadata": {
        "id": "GLp0DlyKBBHk"
      },
      "outputs": [],
      "source": [
        "'''merged.head()'''"
      ]
    },
    {
      "cell_type": "code",
      "execution_count": null,
      "metadata": {
        "id": "5t_sOAhg_OmL"
      },
      "outputs": [],
      "source": [
        "'import matplotlib.pyplot as plt\n",
        "from matplotlib.pyplot import figure\n",
        "figure(figsize=(30, 10), dpi=80)\n",
        "D=sorted(d, key=d.get, reverse=True)[:20]\n",
        "plt.rc('xtick',labelsize=20)\n",
        "plt.rc('ytick',labelsize=20)\n",
        "plt.bar(D, [d[i] for i in D],width=1.0, facecolor='black', edgecolor='white')\n"
      ]
    },
    {
      "cell_type": "code",
      "execution_count": null,
      "metadata": {
        "id": "QuPz6R45MPk4"
      },
      "outputs": [],
      "source": [
        "# adTyp=merged.groupby(['ADMISSION_TYPE']).size()\n",
        "# col=merged.ADMISSION_TYPE.unique()\n",
        "# col=col.tolist()\n",
        "# col\n",
        "# adTyp=adTyp.tolist()\n",
        "# plt.bar(col,adTyp)"
      ]
    },
    {
      "cell_type": "code",
      "execution_count": null,
      "metadata": {
        "id": "DQykZ04sMQ8p"
      },
      "outputs": [],
      "source": [
        "# adTyp=merged.groupby(['ADMISSION_TYPE_succeeding']).size()\n",
        "# col=merged.ADMISSION_TYPE.unique()\n",
        "# col=col.tolist()\n",
        "# col\n",
        "# adTyp=adTyp.tolist()\n",
        "# plt.bar(col,adTyp)"
      ]
    },
    {
      "cell_type": "code",
      "execution_count": null,
      "metadata": {
        "id": "1cGQWTEjZ650"
      },
      "outputs": [],
      "source": [
        "import math"
      ]
    },
    {
      "cell_type": "code",
      "execution_count": null,
      "metadata": {
        "id": "a7UV85jPY0bM"
      },
      "outputs": [],
      "source": [
        "# daysgap=[]\n",
        "# daysgap.append((merged.As_D_time< 30).astype('int').sum())\n",
        "# daysgap.append((merged.As_D_time< 90).astype('int').sum())\n",
        "# daysgap.append((merged.As_D_time< 180).astype('int').sum())\n",
        "# daysgap.append((merged.As_D_time< 365).astype('int').sum())\n",
        "# daysgap.append((merged.As_D_time<math.inf).astype('int').sum())"
      ]
    },
    {
      "cell_type": "code",
      "execution_count": null,
      "metadata": {
        "id": "UWDNDLiZZXq1"
      },
      "outputs": [],
      "source": [
        "# daysgap"
      ]
    },
    {
      "cell_type": "code",
      "execution_count": null,
      "metadata": {
        "id": "Qd6aHJI3Z-tt"
      },
      "outputs": [],
      "source": [
        "# plt.bar([\"30\",\"90\",\"180\",\"365\",\"any time\"],daysgap,color=\"c\")\n",
        "# plt.xlabel(\"readmission time\")\n",
        "# plt.ylabel(\"number of patients\")"
      ]
    },
    {
      "cell_type": "markdown",
      "metadata": {
        "id": "_4RwhiV2wfIm"
      },
      "source": [
        " #< 30\n",
        " #> 30  <90\n",
        " #> 90 ++++++"
      ]
    },
    {
      "cell_type": "code",
      "execution_count": null,
      "metadata": {
        "id": "TPb4bSvtdi3V"
      },
      "outputs": [],
      "source": [
        "notes.CATEGORY.count()"
      ]
    },
    {
      "cell_type": "code",
      "execution_count": null,
      "metadata": {
        "id": "Ua3NCemPZYUN"
      },
      "outputs": [],
      "source": [
        "\n",
        "# sns.set_theme(style=\"darkgrid\")\n",
        "# sns.set(rc={'figure.figsize':(11.7,8.27)})\n",
        "\n",
        "# plt.tight_layout()\n",
        "# ax = sns.countplot(x=\"CATEGORY\", data=notes)\n",
        "# ax.set_xticklabels(ax.get_xticklabels(), rotation=40, ha=\"right\")"
      ]
    },
    {
      "cell_type": "code",
      "execution_count": null,
      "metadata": {
        "id": "ZugrhkJcqe5W",
        "colab": {
          "base_uri": "https://localhost:8080/"
        },
        "outputId": "cd9eeb64-adbe-4c89-835f-11f3083fe5c9"
      },
      "outputs": [
        {
          "output_type": "stream",
          "name": "stdout",
          "text": [
            "Collecting transformers\n",
            "  Downloading transformers-4.13.0-py3-none-any.whl (3.3 MB)\n",
            "\u001b[K     |████████████████████████████████| 3.3 MB 4.8 MB/s \n",
            "\u001b[?25hCollecting pyyaml>=5.1\n",
            "  Downloading PyYAML-6.0-cp37-cp37m-manylinux_2_5_x86_64.manylinux1_x86_64.manylinux_2_12_x86_64.manylinux2010_x86_64.whl (596 kB)\n",
            "\u001b[K     |████████████████████████████████| 596 kB 42.2 MB/s \n",
            "\u001b[?25hCollecting huggingface-hub<1.0,>=0.1.0\n",
            "  Downloading huggingface_hub-0.2.1-py3-none-any.whl (61 kB)\n",
            "\u001b[K     |████████████████████████████████| 61 kB 502 kB/s \n",
            "\u001b[?25hRequirement already satisfied: tqdm>=4.27 in /usr/local/lib/python3.7/dist-packages (from transformers) (4.62.3)\n",
            "Collecting tokenizers<0.11,>=0.10.1\n",
            "  Downloading tokenizers-0.10.3-cp37-cp37m-manylinux_2_5_x86_64.manylinux1_x86_64.manylinux_2_12_x86_64.manylinux2010_x86_64.whl (3.3 MB)\n",
            "\u001b[K     |████████████████████████████████| 3.3 MB 37.6 MB/s \n",
            "\u001b[?25hCollecting sacremoses\n",
            "  Downloading sacremoses-0.0.46-py3-none-any.whl (895 kB)\n",
            "\u001b[K     |████████████████████████████████| 895 kB 42.0 MB/s \n",
            "\u001b[?25hRequirement already satisfied: filelock in /usr/local/lib/python3.7/dist-packages (from transformers) (3.4.0)\n",
            "Requirement already satisfied: regex!=2019.12.17 in /usr/local/lib/python3.7/dist-packages (from transformers) (2019.12.20)\n",
            "Requirement already satisfied: requests in /usr/local/lib/python3.7/dist-packages (from transformers) (2.23.0)\n",
            "Requirement already satisfied: numpy>=1.17 in /usr/local/lib/python3.7/dist-packages (from transformers) (1.19.5)\n",
            "Requirement already satisfied: packaging>=20.0 in /usr/local/lib/python3.7/dist-packages (from transformers) (21.3)\n",
            "Requirement already satisfied: importlib-metadata in /usr/local/lib/python3.7/dist-packages (from transformers) (4.8.2)\n",
            "Requirement already satisfied: typing-extensions>=3.7.4.3 in /usr/local/lib/python3.7/dist-packages (from huggingface-hub<1.0,>=0.1.0->transformers) (3.10.0.2)\n",
            "Requirement already satisfied: pyparsing!=3.0.5,>=2.0.2 in /usr/local/lib/python3.7/dist-packages (from packaging>=20.0->transformers) (3.0.6)\n",
            "Requirement already satisfied: zipp>=0.5 in /usr/local/lib/python3.7/dist-packages (from importlib-metadata->transformers) (3.6.0)\n",
            "Requirement already satisfied: idna<3,>=2.5 in /usr/local/lib/python3.7/dist-packages (from requests->transformers) (2.10)\n",
            "Requirement already satisfied: chardet<4,>=3.0.2 in /usr/local/lib/python3.7/dist-packages (from requests->transformers) (3.0.4)\n",
            "Requirement already satisfied: urllib3!=1.25.0,!=1.25.1,<1.26,>=1.21.1 in /usr/local/lib/python3.7/dist-packages (from requests->transformers) (1.24.3)\n",
            "Requirement already satisfied: certifi>=2017.4.17 in /usr/local/lib/python3.7/dist-packages (from requests->transformers) (2021.10.8)\n",
            "Requirement already satisfied: joblib in /usr/local/lib/python3.7/dist-packages (from sacremoses->transformers) (1.1.0)\n",
            "Requirement already satisfied: click in /usr/local/lib/python3.7/dist-packages (from sacremoses->transformers) (7.1.2)\n",
            "Requirement already satisfied: six in /usr/local/lib/python3.7/dist-packages (from sacremoses->transformers) (1.15.0)\n",
            "Installing collected packages: pyyaml, tokenizers, sacremoses, huggingface-hub, transformers\n",
            "  Attempting uninstall: pyyaml\n",
            "    Found existing installation: PyYAML 3.13\n",
            "    Uninstalling PyYAML-3.13:\n",
            "      Successfully uninstalled PyYAML-3.13\n",
            "Successfully installed huggingface-hub-0.2.1 pyyaml-6.0 sacremoses-0.0.46 tokenizers-0.10.3 transformers-4.13.0\n"
          ]
        }
      ],
      "source": [
        "!pip install transformers\n",
        "import numpy as np\n",
        "import pandas as pd\n",
        "import torch\n",
        "import torch.nn as nn\n",
        "from sklearn.model_selection import train_test_split\n",
        "from sklearn.metrics import classification_report\n",
        "import transformers\n",
        "from transformers import AutoModel, BertTokenizerFast\n",
        "\n",
        "# specify GPU\n",
        "device = torch.device(\"cuda\")"
      ]
    },
    {
      "cell_type": "code",
      "execution_count": null,
      "metadata": {
        "id": "35ldlPC6cvc3",
        "colab": {
          "base_uri": "https://localhost:8080/",
          "height": 185,
          "referenced_widgets": [
            "8473afd8f32e439f97dea8c8c22b2a3c",
            "c349d9e0082b46efa05cb1f2d60498ee",
            "0b35ed6e54f848959f0ec46abb01dfc0",
            "0fa29f784fb04858ad84b1e97505779e",
            "047820f21e834069b63600c68c565a40",
            "d83212316a9d4988a30b4e108813a27c",
            "4f58573e45114ec2a9684405565673bc",
            "140f5194053044099acff7cd0829cfcf",
            "744826b289964704a11eca5fe8e5f8b3",
            "dbf578f9bf3e4470b0f0d39b44d8046d",
            "e3841ae3da544fa8986755dbce041cbf",
            "6fc1e7d900d045338a53d35200a01007",
            "b9b246e269b94d548e0764cf076517f6",
            "37ab8be9f4824656bdcf990e6ea7b158",
            "9797413bcc924138aa0d6c164b2634e8",
            "aaaa8ae8d4024fc398a4a1a75120b131",
            "b97be863b7604576a2889f47ebfc6f9d",
            "d415711078b24bca9f7161162bc3d5cc",
            "f1e65f5c0d4741fe9fddf8e1107362fd",
            "88c147f600034f5b9c53b43bbf8f287c",
            "cc21c0322821493f97848bd07971f57d",
            "be95a1860aca422aae17b1a9e242bc3b",
            "64ccf87afbea4a23bafde812b14233dd",
            "6ae23fc34e114c9ba4b2cd403e81dfaf",
            "1b02ede7bac34fca82529c6bd70a2402",
            "c54c290ade514199878369e4b1ab7c77",
            "d301ded8d20649d6ae0f6ff0d9187c2f",
            "9c3633ee3e4949b2a2bd1d07dc98a593",
            "04814b60d6754001a2c972eac39c87ea",
            "f03879cb8dfe485495e222f9e82e7bee",
            "f53cd6b2a7fa433aaed0021ba59fc611",
            "32a4c8fbf40346a08ee561aa9ea1dfa1",
            "ff4c42ed785b4434bc80a08bb8ea2299"
          ]
        },
        "outputId": "bdd32bc7-6c1d-4e68-c537-814455f48ebb"
      },
      "outputs": [
        {
          "output_type": "display_data",
          "data": {
            "application/vnd.jupyter.widget-view+json": {
              "model_id": "8473afd8f32e439f97dea8c8c22b2a3c",
              "version_minor": 0,
              "version_major": 2
            },
            "text/plain": [
              "Downloading:   0%|          | 0.00/385 [00:00<?, ?B/s]"
            ]
          },
          "metadata": {}
        },
        {
          "output_type": "display_data",
          "data": {
            "application/vnd.jupyter.widget-view+json": {
              "model_id": "6fc1e7d900d045338a53d35200a01007",
              "version_minor": 0,
              "version_major": 2
            },
            "text/plain": [
              "Downloading:   0%|          | 0.00/208k [00:00<?, ?B/s]"
            ]
          },
          "metadata": {}
        },
        {
          "output_type": "display_data",
          "data": {
            "application/vnd.jupyter.widget-view+json": {
              "model_id": "64ccf87afbea4a23bafde812b14233dd",
              "version_minor": 0,
              "version_major": 2
            },
            "text/plain": [
              "Downloading:   0%|          | 0.00/416M [00:00<?, ?B/s]"
            ]
          },
          "metadata": {}
        },
        {
          "output_type": "stream",
          "name": "stderr",
          "text": [
            "Some weights of the model checkpoint at emilyalsentzer/Bio_ClinicalBERT were not used when initializing BertModel: ['cls.predictions.transform.dense.weight', 'cls.seq_relationship.weight', 'cls.predictions.transform.dense.bias', 'cls.predictions.transform.LayerNorm.bias', 'cls.predictions.decoder.weight', 'cls.seq_relationship.bias', 'cls.predictions.transform.LayerNorm.weight', 'cls.predictions.bias']\n",
            "- This IS expected if you are initializing BertModel from the checkpoint of a model trained on another task or with another architecture (e.g. initializing a BertForSequenceClassification model from a BertForPreTraining model).\n",
            "- This IS NOT expected if you are initializing BertModel from the checkpoint of a model that you expect to be exactly identical (initializing a BertForSequenceClassification model from a BertForSequenceClassification model).\n"
          ]
        }
      ],
      "source": [
        "from transformers import AutoTokenizer, AutoModel\n",
        "tokenizer = AutoTokenizer.from_pretrained(\"emilyalsentzer/Bio_ClinicalBERT\")\n",
        "model = AutoModel.from_pretrained(\"emilyalsentzer/Bio_ClinicalBERT\", return_dict=False)"
      ]
    },
    {
      "cell_type": "code",
      "execution_count": null,
      "metadata": {
        "id": "b3yRLwRCq1mp"
      },
      "outputs": [],
      "source": [
        ""
      ]
    },
    {
      "cell_type": "code",
      "execution_count": null,
      "metadata": {
        "id": "_Kc8oEtGq6MJ"
      },
      "outputs": [],
      "source": [
        "X.shape"
      ]
    },
    {
      "cell_type": "code",
      "source": [
        "import pylab as pl"
      ],
      "metadata": {
        "id": "pRQumfILzHzY"
      },
      "execution_count": null,
      "outputs": []
    },
    {
      "cell_type": "code",
      "execution_count": null,
      "metadata": {
        "id": "ox9p-_z5HCkn",
        "colab": {
          "base_uri": "https://localhost:8080/",
          "height": 465
        },
        "outputId": "fc2d4fe2-9c7b-4936-c942-a0e64af31c46"
      },
      "outputs": [
        {
          "output_type": "error",
          "ename": "NameError",
          "evalue": "ignored",
          "traceback": [
            "\u001b[0;31m---------------------------------------------------------------------------\u001b[0m",
            "\u001b[0;31mNameError\u001b[0m                                 Traceback (most recent call last)",
            "\u001b[0;32m<ipython-input-78-b7fd3822cecb>\u001b[0m in \u001b[0;36m<module>\u001b[0;34m()\u001b[0m\n\u001b[1;32m      2\u001b[0m \u001b[0;34m\u001b[0m\u001b[0m\n\u001b[1;32m      3\u001b[0m \u001b[0mpd\u001b[0m\u001b[0;34m.\u001b[0m\u001b[0mSeries\u001b[0m\u001b[0;34m(\u001b[0m\u001b[0mseq_len\u001b[0m\u001b[0;34m)\u001b[0m\u001b[0;34m.\u001b[0m\u001b[0mhist\u001b[0m\u001b[0;34m(\u001b[0m\u001b[0mbins\u001b[0m \u001b[0;34m=\u001b[0m \u001b[0;36m30\u001b[0m\u001b[0;34m)\u001b[0m\u001b[0;34m\u001b[0m\u001b[0;34m\u001b[0m\u001b[0m\n\u001b[0;32m----> 4\u001b[0;31m \u001b[0mpl\u001b[0m\u001b[0;34m.\u001b[0m\u001b[0mxlabel\u001b[0m\u001b[0;34m(\u001b[0m\u001b[0;34m\"Number of Words\"\u001b[0m\u001b[0;34m)\u001b[0m\u001b[0;34m\u001b[0m\u001b[0;34m\u001b[0m\u001b[0m\n\u001b[0m\u001b[1;32m      5\u001b[0m \u001b[0mpl\u001b[0m\u001b[0;34m.\u001b[0m\u001b[0mylabel\u001b[0m\u001b[0;34m(\u001b[0m\u001b[0;34m\"Number of notes\"\u001b[0m\u001b[0;34m)\u001b[0m\u001b[0;34m\u001b[0m\u001b[0;34m\u001b[0m\u001b[0m\n",
            "\u001b[0;31mNameError\u001b[0m: name 'pl' is not defined"
          ]
        },
        {
          "output_type": "display_data",
          "data": {
            "image/png": "[encoded data removed]",
            "text/plain": [
              "<Figure size 432x288 with 1 Axes>"
            ]
          },
          "metadata": {
            "needs_background": "light"
          }
        }
      ],
      "source": [
        "seq_len = [len(i.split()) for i in X]\n",
        "\n",
        "pd.Series(seq_len).hist(bins = 30)\n",
        "pl.xlabel(\"Number of Words\")\n",
        "pl.ylabel(\"Number of notes\")"
      ]
    },
    {
      "cell_type": "code",
      "execution_count": null,
      "metadata": {
        "id": "u1dqRZjzHJK1"
      },
      "outputs": [],
      "source": [
        "train_text, temp_text, train_labels, temp_labels = train_test_split(X, y, \n",
        "                                                                    random_state=2018, \n",
        "                                                                    test_size=0.4, \n",
        "                                                                    stratify=y)\n",
        "\n",
        "\n",
        "val_text, test_text, val_labels, test_labels = train_test_split(temp_text, temp_labels, \n",
        "                                                                random_state=2018, \n",
        "                                                                test_size=0.5, \n",
        "                                                                stratify=temp_labels)\n"
      ]
    },
    {
      "cell_type": "code",
      "execution_count": null,
      "metadata": {
        "id": "rhp9OIuSPxCN",
        "colab": {
          "base_uri": "https://localhost:8080/"
        },
        "outputId": "d6079eaa-b567-4536-d18b-ca08521a0590"
      },
      "outputs": [
        {
          "output_type": "stream",
          "name": "stderr",
          "text": [
            "/usr/local/lib/python3.7/dist-packages/transformers/tokenization_utils_base.py:2227: FutureWarning: The `pad_to_max_length` argument is deprecated and will be removed in a future version, use `padding=True` or `padding='longest'` to pad to the longest sequence in the batch, or use `padding='max_length'` to pad to a max length. In this case, you can give a specific length with `max_length` (e.g. `max_length=45`) or leave max_length to None to pad to the maximal input size of the model (e.g. 512 for Bert).\n",
            "  FutureWarning,\n"
          ]
        }
      ],
      "source": [
        "tokens_train = tokenizer.batch_encode_plus(\n",
        "    train_text.tolist(),\n",
        "    max_length = 50,\n",
        "    pad_to_max_length=True,\n",
        "    truncation=True\n",
        ")\n"
      ]
    },
    {
      "cell_type": "code",
      "execution_count": null,
      "metadata": {
        "id": "zZwhdCHMCAeL",
        "colab": {
          "base_uri": "https://localhost:8080/"
        },
        "outputId": "552bf631-e1c5-401b-d1c4-a613fbbe4b89"
      },
      "outputs": [
        {
          "output_type": "stream",
          "name": "stderr",
          "text": [
            "/usr/local/lib/python3.7/dist-packages/transformers/tokenization_utils_base.py:2227: FutureWarning: The `pad_to_max_length` argument is deprecated and will be removed in a future version, use `padding=True` or `padding='longest'` to pad to the longest sequence in the batch, or use `padding='max_length'` to pad to a max length. In this case, you can give a specific length with `max_length` (e.g. `max_length=45`) or leave max_length to None to pad to the maximal input size of the model (e.g. 512 for Bert).\n",
            "  FutureWarning,\n"
          ]
        }
      ],
      "source": [
        "# tokenize and encode sequences in the validation set\n",
        "tokens_val = tokenizer.batch_encode_plus(\n",
        "    val_text.tolist(),\n",
        "    max_length = 50,\n",
        "    pad_to_max_length=True,\n",
        "    truncation=True\n",
        ")\n",
        "\n",
        "# tokenize and encode sequences in the test set\n",
        "tokens_test = tokenizer.batch_encode_plus(\n",
        "    test_text.tolist(),\n",
        "    max_length = 50,\n",
        "    pad_to_max_length=True,\n",
        "    truncation=True\n",
        ")"
      ]
    },
    {
      "cell_type": "code",
      "execution_count": null,
      "metadata": {
        "id": "ZIkygUmYH3e_"
      },
      "outputs": [],
      "source": [
        "\n",
        "train_seq = torch.tensor(tokens_train['input_ids'])\n",
        "train_mask = torch.tensor(tokens_train['attention_mask'])\n",
        "train_y = torch.tensor(train_labels.tolist())\n",
        "\n",
        "val_seq = torch.tensor(tokens_val['input_ids'])\n",
        "val_mask = torch.tensor(tokens_val['attention_mask'])\n",
        "val_y = torch.tensor(val_labels.tolist())\n",
        "\n",
        "test_seq = torch.tensor(tokens_test['input_ids'])\n",
        "test_mask = torch.tensor(tokens_test['attention_mask'])\n",
        "test_y = torch.tensor(test_labels.tolist())"
      ]
    },
    {
      "cell_type": "code",
      "execution_count": null,
      "metadata": {
        "id": "01i47Q-wVaXv"
      },
      "outputs": [],
      "source": [
        "\n",
        "from torch.utils.data import TensorDataset, DataLoader, RandomSampler, SequentialSampler\n",
        "\n",
        "#define a batch size\n",
        "batch_size = 32\n",
        "\n",
        "# wrap tensors\n",
        "train_data = TensorDataset(train_seq, train_mask, train_y)\n",
        "\n",
        "# sampler for sampling the data during training\n",
        "train_sampler = RandomSampler(train_data)\n",
        "\n",
        "# dataLoader for train set\n",
        "train_dataloader = DataLoader(train_data, sampler=train_sampler, batch_size=batch_size)\n",
        "\n",
        "# wrap tensors\n",
        "val_data = TensorDataset(val_seq, val_mask, val_y)\n",
        "\n",
        "# sampler for sampling the data during training\n",
        "val_sampler = SequentialSampler(val_data)\n",
        "\n",
        "# dataLoader for validation set\n",
        "val_dataloader = DataLoader(val_data, sampler = val_sampler, batch_size=batch_size)"
      ]
    },
    {
      "cell_type": "code",
      "execution_count": null,
      "metadata": {
        "id": "SxKcJW8NCcc2"
      },
      "outputs": [],
      "source": [
        ""
      ]
    },
    {
      "cell_type": "code",
      "execution_count": null,
      "metadata": {
        "id": "GUtZZA8hW7Eq"
      },
      "outputs": [],
      "source": [
        "class BERT_Arch(nn.Module):\n",
        "\n",
        "    def __init__(self, bert):\n",
        "      \n",
        "      super(BERT_Arch, self).__init__()\n",
        "\n",
        "      self.bert = bert \n",
        "      \n",
        "      # dropout layer\n",
        "      self.dropout = nn.Dropout(0.1)\n",
        "      \n",
        "      # relu activation function\n",
        "      self.relu =  nn.ReLU()\n",
        "\n",
        "      # dense layer 1\n",
        "      self.fc1 = nn.Linear(768,512)\n",
        "      \n",
        "      # dense layer 2 (Output layer)\n",
        "      self.fc2 = nn.Linear(512,2)\n",
        "\n",
        "      #softmax activation function\n",
        "      self.softmax = nn.LogSoftmax(dim=1)\n",
        "\n",
        "    #define the forward pass\n",
        "    def forward(self, sent_id, mask):\n",
        "\n",
        "      #pass the inputs to the model  \n",
        "      _, cls_hs = self.bert(sent_id, attention_mask=mask)\n",
        "      \n",
        "      x = self.fc1(cls_hs)\n",
        "\n",
        "      x = self.relu(x)\n",
        "\n",
        "      x = self.dropout(x)\n",
        "\n",
        "      # output layer\n",
        "      x = self.fc2(x)\n",
        "      \n",
        "      # apply softmax activation\n",
        "      x = self.softmax(x)\n",
        "\n",
        "      return x"
      ]
    },
    {
      "cell_type": "code",
      "execution_count": null,
      "metadata": {
        "id": "UXjHZZU2Wv_R"
      },
      "outputs": [],
      "source": [
        "# pass the pre-trained BERT to our define architecture\n",
        "model = BERT_Arch(model)\n",
        "\n",
        "# push the model to GPU\n",
        "model = model.to(device)"
      ]
    },
    {
      "cell_type": "code",
      "execution_count": null,
      "metadata": {
        "id": "Rx_PueewVx4F"
      },
      "outputs": [],
      "source": [
        "\n",
        "# optimizer from hugging face transformers\n",
        "from transformers import AdamW\n",
        "\n",
        "# define the optimizer\n",
        "optimizer = AdamW(model.parameters(),\n",
        "                  lr = 1e-5)          # learning rate"
      ]
    },
    {
      "cell_type": "code",
      "execution_count": null,
      "metadata": {
        "id": "1TIPLmhiC9Sc",
        "colab": {
          "base_uri": "https://localhost:8080/"
        },
        "outputId": "75f56e9e-d374-4dc4-adc6-1834ba9563fc"
      },
      "outputs": [
        {
          "output_type": "stream",
          "name": "stdout",
          "text": [
            "Class Weights: [0.68163616 1.87637795]\n"
          ]
        }
      ],
      "source": [
        "from sklearn.utils.class_weight import compute_class_weight\n",
        "\n",
        "#compute the class weights\n",
        "class_weights = compute_class_weight(class_weight ='balanced',classes = np.unique(train_labels),y= train_labels)\n",
        "\n",
        "print(\"Class Weights:\",class_weights)"
      ]
    },
    {
      "cell_type": "code",
      "execution_count": null,
      "metadata": {
        "id": "_RPEOkroXD06"
      },
      "outputs": [],
      "source": [
        "# converting list of class weights to a tensor\n",
        "weights= torch.tensor(class_weights,dtype=torch.float)\n",
        "\n",
        "# push to GPU\n",
        "weights = weights.to(device)\n",
        "\n",
        "# define the loss function\n",
        "cross_entropy  = nn.NLLLoss(weight=weights) \n",
        "\n",
        "# number of training epochs\n",
        "epochs = 5"
      ]
    },
    {
      "cell_type": "code",
      "execution_count": null,
      "metadata": {
        "id": "PQKsyde8XMqS"
      },
      "outputs": [],
      "source": [
        ""
      ]
    },
    {
      "cell_type": "code",
      "execution_count": null,
      "metadata": {
        "id": "ulsBqYpvV5Zx"
      },
      "outputs": [],
      "source": [
        "def train():\n",
        "  \n",
        "  model.train()\n",
        "\n",
        "  total_loss, total_accuracy = 0, 0\n",
        "  \n",
        "  # empty list to save model predictions\n",
        "  total_preds=[]\n",
        "  \n",
        "  # iterate over batches\n",
        "  for step,batch in enumerate(train_dataloader):\n",
        "    \n",
        "    # progress update after every 50 batches.\n",
        "    if step % 50 == 0 and not step == 0:\n",
        "      print('  Batch {:>5,}  of  {:>5,}.'.format(step, len(train_dataloader)))\n",
        "\n",
        "    # push the batch to gpu\n",
        "    batch = [r.to(device) for r in batch]\n",
        " \n",
        "    sent_id, mask, labels = batch\n",
        "\n",
        "    # clear previously calculated gradients \n",
        "    model.zero_grad()        \n",
        "\n",
        "    # get model predictions for the current batch\n",
        "    preds = model(sent_id, mask)\n",
        "\n",
        "    # compute the loss between actual and predicted values\n",
        "    loss = cross_entropy(preds, labels)\n",
        "\n",
        "    # add on to the total loss\n",
        "    total_loss = total_loss + loss.item()\n",
        "\n",
        "    # backward pass to calculate the gradients\n",
        "    loss.backward()\n",
        "\n",
        "    # clip the the gradients to 1.0. It helps in preventing the exploding gradient problem\n",
        "    torch.nn.utils.clip_grad_norm_(model.parameters(), 1.0)\n",
        "\n",
        "    # update parameters\n",
        "    optimizer.step()\n",
        "\n",
        "    # model predictions are stored on GPU. So, push it to CPU\n",
        "    preds=preds.detach().cpu().numpy()\n",
        "\n",
        "    # append the model predictions\n",
        "    total_preds.append(preds)\n",
        "\n",
        "  # compute the training loss of the epoch\n",
        "  avg_loss = total_loss / len(train_dataloader)\n",
        "  \n",
        "  # predictions are in the form of (no. of batches, size of batch, no. of classes).\n",
        "  # reshape the predictions in form of (number of samples, no. of classes)\n",
        "  total_preds  = np.concatenate(total_preds, axis=0)\n",
        "\n",
        "  #returns the loss and predictions\n",
        "  return avg_loss, total_preds"
      ]
    },
    {
      "cell_type": "code",
      "execution_count": null,
      "metadata": {
        "id": "JAZophKfFqiC"
      },
      "outputs": [],
      "source": [
        ""
      ]
    },
    {
      "cell_type": "code",
      "execution_count": null,
      "metadata": {
        "id": "HpWStpjqXXdO"
      },
      "outputs": [],
      "source": [
        "def evaluate():\n",
        "  \n",
        "  print(\"\\nEvaluating...\")\n",
        "  \n",
        "  # deactivate dropout layers\n",
        "  model.eval()\n",
        "\n",
        "  total_loss, total_accuracy = 0, 0\n",
        "  \n",
        "  # empty list to save the model predictions\n",
        "  total_preds = []\n",
        "\n",
        "  # iterate over batches\n",
        "  for step,batch in enumerate(val_dataloader):\n",
        "    \n",
        "    # Progress update every 50 batches.\n",
        "    if step % 50 == 0 and not step == 0:\n",
        "      \n",
        "      # Calculate elapsed time in minutes.\n",
        "      #elapsed = format_time(time.time() - t0)\n",
        "            \n",
        "      # Report progress.\n",
        "      print('  Batch {:>5,}  of  {:>5,}.'.format(step, len(val_dataloader)))\n",
        "\n",
        "    # push the batch to gpu\n",
        "    batch = [t.to(device) for t in batch]\n",
        "\n",
        "    sent_id, mask, labels = batch\n",
        "\n",
        "    # deactivate autograd\n",
        "    with torch.no_grad():\n",
        "      \n",
        "      # model predictions\n",
        "      preds = model(sent_id, mask)\n",
        "\n",
        "      # compute the validation loss between actual and predicted values\n",
        "      loss = cross_entropy(preds,labels)\n",
        "\n",
        "      total_loss = total_loss + loss.item()\n",
        "\n",
        "      preds = preds.detach().cpu().numpy()\n",
        "\n",
        "      total_preds.append(preds)\n",
        "\n",
        "  # compute the validation loss of the epoch\n",
        "  avg_loss = total_loss / len(val_dataloader) \n",
        "\n",
        "  # reshape the predictions in form of (number of samples, no. of classes)\n",
        "  total_preds  = np.concatenate(total_preds, axis=0)\n",
        "\n",
        "  return avg_loss, total_preds"
      ]
    },
    {
      "cell_type": "code",
      "execution_count": null,
      "metadata": {
        "colab": {
          "base_uri": "https://localhost:8080/"
        },
        "id": "tNRCUrF2WCNQ",
        "outputId": "88fec520-ec93-452d-9031-da6fb64f4f22"
      },
      "outputs": [
        {
          "output_type": "stream",
          "name": "stdout",
          "text": [
            "\n",
            " Epoch 1 / 5\n",
            "  Batch    50  of    224.\n",
            "  Batch   100  of    224.\n",
            "  Batch   150  of    224.\n",
            "  Batch   200  of    224.\n",
            "\n",
            "Evaluating...\n",
            "  Batch    50  of     75.\n",
            "\n",
            "Training Loss: 0.687\n",
            "Validation Loss: 0.692\n",
            "\n",
            " Epoch 2 / 5\n",
            "  Batch    50  of    224.\n",
            "  Batch   100  of    224.\n",
            "  Batch   150  of    224.\n",
            "  Batch   200  of    224.\n",
            "\n",
            "Evaluating...\n",
            "  Batch    50  of     75.\n",
            "\n",
            "Training Loss: 0.681\n",
            "Validation Loss: 0.688\n",
            "\n",
            " Epoch 3 / 5\n",
            "  Batch    50  of    224.\n",
            "  Batch   100  of    224.\n",
            "  Batch   150  of    224.\n",
            "  Batch   200  of    224.\n",
            "\n",
            "Evaluating...\n",
            "  Batch    50  of     75.\n",
            "\n",
            "Training Loss: 0.668\n",
            "Validation Loss: 0.682\n",
            "\n",
            " Epoch 4 / 5\n",
            "  Batch    50  of    224.\n",
            "  Batch   100  of    224.\n",
            "  Batch   150  of    224.\n",
            "  Batch   200  of    224.\n",
            "\n",
            "Evaluating...\n",
            "  Batch    50  of     75.\n",
            "\n",
            "Training Loss: 0.651\n",
            "Validation Loss: 0.685\n",
            "\n",
            " Epoch 5 / 5\n",
            "  Batch    50  of    224.\n",
            "  Batch   100  of    224.\n",
            "  Batch   150  of    224.\n",
            "  Batch   200  of    224.\n",
            "\n",
            "Evaluating...\n",
            "  Batch    50  of     75.\n",
            "\n",
            "Training Loss: 0.612\n",
            "Validation Loss: 0.722\n"
          ]
        }
      ],
      "source": [
        "best_valid_loss = float('inf')\n",
        "\n",
        "# empty lists to store training and validation loss of each epoch\n",
        "train_losses=[]\n",
        "valid_losses=[]\n",
        "\n",
        "#for each epoch\n",
        "for epoch in range(epochs):\n",
        "     \n",
        "    print('\\n Epoch {:} / {:}'.format(epoch + 1, epochs))\n",
        "    \n",
        "    #train model\n",
        "    train_loss, _ = train()\n",
        "    \n",
        "    valid_loss, _ = evaluate()\n",
        "    \n",
        "    #save the best model\n",
        "    if valid_loss < best_valid_loss:\n",
        "        best_valid_loss = valid_loss\n",
        "        torch.save(model.state_dict(), 'saved_weights.pt')\n",
        "    \n",
        "    # append training and validation loss\n",
        "    train_losses.append(train_loss)\n",
        " \n",
        "    \n",
        "    print(f'\\nTraining Loss: {train_loss:.3f}')\n",
        "    print(f'Validation Loss: {valid_loss:.3f}')"
      ]
    },
    {
      "cell_type": "code",
      "execution_count": null,
      "metadata": {
        "colab": {
          "base_uri": "https://localhost:8080/"
        },
        "id": "NVR0MIzPXmYF",
        "outputId": "6fb56924-0e49-4315-e944-876f373ae64e"
      },
      "outputs": [
        {
          "output_type": "execute_result",
          "data": {
            "text/plain": [
              "<All keys matched successfully>"
            ]
          },
          "metadata": {},
          "execution_count": 92
        }
      ],
      "source": [
        "#load weights of best model\n",
        "path = 'saved_weights.pt'\n",
        "model.load_state_dict(torch.load(path))"
      ]
    },
    {
      "cell_type": "code",
      "execution_count": null,
      "metadata": {
        "id": "RbwRnTLIXpOq"
      },
      "outputs": [],
      "source": [
        "# get predictions for test data\n",
        "with torch.no_grad():\n",
        "  preds = model(test_seq.to(device), test_mask.to(device))\n",
        "  preds = preds.detach().cpu().numpy()"
      ]
    },
    {
      "cell_type": "code",
      "execution_count": null,
      "metadata": {
        "colab": {
          "base_uri": "https://localhost:8080/"
        },
        "id": "TouWuHFkXrLb",
        "outputId": "23807fa8-669a-4f85-c634-10de54d61513"
      },
      "outputs": [
        {
          "output_type": "stream",
          "name": "stdout",
          "text": [
            "              precision    recall  f1-score   support\n",
            "\n",
            "           0       0.77      0.54      0.64      1748\n",
            "           1       0.31      0.57      0.40       635\n",
            "\n",
            "    accuracy                           0.55      2383\n",
            "   macro avg       0.54      0.55      0.52      2383\n",
            "weighted avg       0.65      0.55      0.57      2383\n",
            "\n"
          ]
        }
      ],
      "source": [
        "preds = np.argmax(preds, axis = 1)\n",
        "print(classification_report(test_y, preds))"
      ]
    },
    {
      "cell_type": "code",
      "execution_count": null,
      "metadata": {
        "colab": {
          "base_uri": "https://localhost:8080/",
          "height": 295
        },
        "id": "_VA5lFQZRax3",
        "outputId": "0c4539ef-1142-450d-a914-073e51d93ca7"
      },
      "outputs": [
        {
          "output_type": "display_data",
          "data": {
            "image/png": "[encoded data removed]",
            "text/plain": [
              "<Figure size 432x288 with 1 Axes>"
            ]
          },
          "metadata": {
            "needs_background": "light"
          }
        }
      ],
      "source": [
        "fpr, tpr, thresholds = roc_curve(test_y,preds)\n",
        "roc_auc =auc(fpr, tpr)\n",
        "plt.title('Receiver Operating Characteristic')\n",
        "plt.plot(fpr, tpr, 'b', label = 'AUC = %0.2f' % roc_auc)\n",
        "plt.legend(loc = 'lower right')\n",
        "plt.plot([0, 1], [0, 1],'r--')\n",
        "plt.xlim([0, 1])\n",
        "plt.ylim([0, 1])\n",
        "plt.ylabel('True Positive Rate')\n",
        "plt.xlabel('False Positive Rate')\n",
        "plt.show()"
      ]
    },
    {
      "cell_type": "code",
      "execution_count": null,
      "metadata": {
        "id": "1Foszjz_RiuT"
      },
      "outputs": [],
      "source": [
        ""
      ]
    }
  ],
  "metadata": {
    "accelerator": "GPU",
    "colab": {
      "collapsed_sections": [],
      "name": "Hospital Readmission_BERT",
      "provenance": []
    },
    "kernelspec": {
      "display_name": "Python 3",
      "name": "python3"
    },
    "language_info": {
      "name": "python"
    },
    "widgets": {
      "application/vnd.jupyter.widget-state+json": {
        "8473afd8f32e439f97dea8c8c22b2a3c": {
          "model_module": "@jupyter-widgets/controls",
          "model_name": "HBoxModel",
          "model_module_version": "1.5.0",
          "state": {
            "_view_name": "HBoxView",
            "_dom_classes": [],
            "_model_name": "HBoxModel",
            "_view_module": "@jupyter-widgets/controls",
            "_model_module_version": "1.5.0",
            "_view_count": null,
            "_view_module_version": "1.5.0",
            "box_style": "",
            "layout": "IPY_MODEL_c349d9e0082b46efa05cb1f2d60498ee",
            "_model_module": "@jupyter-widgets/controls",
            "children": [
              "IPY_MODEL_0b35ed6e54f848959f0ec46abb01dfc0",
              "IPY_MODEL_0fa29f784fb04858ad84b1e97505779e",
              "IPY_MODEL_047820f21e834069b63600c68c565a40"
            ]
          }
        },
        "c349d9e0082b46efa05cb1f2d60498ee": {
          "model_module": "@jupyter-widgets/base",
          "model_name": "LayoutModel",
          "model_module_version": "1.2.0",
          "state": {
            "_view_name": "LayoutView",
            "grid_template_rows": null,
            "right": null,
            "justify_content": null,
            "_view_module": "@jupyter-widgets/base",
            "overflow": null,
            "_model_module_version": "1.2.0",
            "_view_count": null,
            "flex_flow": null,
            "width": null,
            "min_width": null,
            "border": null,
            "align_items": null,
            "bottom": null,
            "_model_module": "@jupyter-widgets/base",
            "top": null,
            "grid_column": null,
            "overflow_y": null,
            "overflow_x": null,
            "grid_auto_flow": null,
            "grid_area": null,
            "grid_template_columns": null,
            "flex": null,
            "_model_name": "LayoutModel",
            "justify_items": null,
            "grid_row": null,
            "max_height": null,
            "align_content": null,
            "visibility": null,
            "align_self": null,
            "height": null,
            "min_height": null,
            "padding": null,
            "grid_auto_rows": null,
            "grid_gap": null,
            "max_width": null,
            "order": null,
            "_view_module_version": "1.2.0",
            "grid_template_areas": null,
            "object_position": null,
            "object_fit": null,
            "grid_auto_columns": null,
            "margin": null,
            "display": null,
            "left": null
          }
        },
        "0b35ed6e54f848959f0ec46abb01dfc0": {
          "model_module": "@jupyter-widgets/controls",
          "model_name": "HTMLModel",
          "model_module_version": "1.5.0",
          "state": {
            "_view_name": "HTMLView",
            "style": "IPY_MODEL_d83212316a9d4988a30b4e108813a27c",
            "_dom_classes": [],
            "description": "",
            "_model_name": "HTMLModel",
            "placeholder": "​",
            "_view_module": "@jupyter-widgets/controls",
            "_model_module_version": "1.5.0",
            "value": "Downloading: 100%",
            "_view_count": null,
            "_view_module_version": "1.5.0",
            "description_tooltip": null,
            "_model_module": "@jupyter-widgets/controls",
            "layout": "IPY_MODEL_4f58573e45114ec2a9684405565673bc"
          }
        },
        "0fa29f784fb04858ad84b1e97505779e": {
          "model_module": "@jupyter-widgets/controls",
          "model_name": "FloatProgressModel",
          "model_module_version": "1.5.0",
          "state": {
            "_view_name": "ProgressView",
            "style": "IPY_MODEL_140f5194053044099acff7cd0829cfcf",
            "_dom_classes": [],
            "description": "",
            "_model_name": "FloatProgressModel",
            "bar_style": "success",
            "max": 385,
            "_view_module": "@jupyter-widgets/controls",
            "_model_module_version": "1.5.0",
            "value": 385,
            "_view_count": null,
            "_view_module_version": "1.5.0",
            "orientation": "horizontal",
            "min": 0,
            "description_tooltip": null,
            "_model_module": "@jupyter-widgets/controls",
            "layout": "IPY_MODEL_744826b289964704a11eca5fe8e5f8b3"
          }
        },
        "047820f21e834069b63600c68c565a40": {
          "model_module": "@jupyter-widgets/controls",
          "model_name": "HTMLModel",
          "model_module_version": "1.5.0",
          "state": {
            "_view_name": "HTMLView",
            "style": "IPY_MODEL_dbf578f9bf3e4470b0f0d39b44d8046d",
            "_dom_classes": [],
            "description": "",
            "_model_name": "HTMLModel",
            "placeholder": "​",
            "_view_module": "@jupyter-widgets/controls",
            "_model_module_version": "1.5.0",
            "value": " 385/385 [00:00&lt;00:00, 9.10kB/s]",
            "_view_count": null,
            "_view_module_version": "1.5.0",
            "description_tooltip": null,
            "_model_module": "@jupyter-widgets/controls",
            "layout": "IPY_MODEL_e3841ae3da544fa8986755dbce041cbf"
          }
        },
        "d83212316a9d4988a30b4e108813a27c": {
          "model_module": "@jupyter-widgets/controls",
          "model_name": "DescriptionStyleModel",
          "model_module_version": "1.5.0",
          "state": {
            "_view_name": "StyleView",
            "_model_name": "DescriptionStyleModel",
            "description_width": "",
            "_view_module": "@jupyter-widgets/base",
            "_model_module_version": "1.5.0",
            "_view_count": null,
            "_view_module_version": "1.2.0",
            "_model_module": "@jupyter-widgets/controls"
          }
        },
        "4f58573e45114ec2a9684405565673bc": {
          "model_module": "@jupyter-widgets/base",
          "model_name": "LayoutModel",
          "model_module_version": "1.2.0",
          "state": {
            "_view_name": "LayoutView",
            "grid_template_rows": null,
            "right": null,
            "justify_content": null,
            "_view_module": "@jupyter-widgets/base",
            "overflow": null,
            "_model_module_version": "1.2.0",
            "_view_count": null,
            "flex_flow": null,
            "width": null,
            "min_width": null,
            "border": null,
            "align_items": null,
            "bottom": null,
            "_model_module": "@jupyter-widgets/base",
            "top": null,
            "grid_column": null,
            "overflow_y": null,
            "overflow_x": null,
            "grid_auto_flow": null,
            "grid_area": null,
            "grid_template_columns": null,
            "flex": null,
            "_model_name": "LayoutModel",
            "justify_items": null,
            "grid_row": null,
            "max_height": null,
            "align_content": null,
            "visibility": null,
            "align_self": null,
            "height": null,
            "min_height": null,
            "padding": null,
            "grid_auto_rows": null,
            "grid_gap": null,
            "max_width": null,
            "order": null,
            "_view_module_version": "1.2.0",
            "grid_template_areas": null,
            "object_position": null,
            "object_fit": null,
            "grid_auto_columns": null,
            "margin": null,
            "display": null,
            "left": null
          }
        },
        "140f5194053044099acff7cd0829cfcf": {
          "model_module": "@jupyter-widgets/controls",
          "model_name": "ProgressStyleModel",
          "model_module_version": "1.5.0",
          "state": {
            "_view_name": "StyleView",
            "_model_name": "ProgressStyleModel",
            "description_width": "",
            "_view_module": "@jupyter-widgets/base",
            "_model_module_version": "1.5.0",
            "_view_count": null,
            "_view_module_version": "1.2.0",
            "bar_color": null,
            "_model_module": "@jupyter-widgets/controls"
          }
        },
        "744826b289964704a11eca5fe8e5f8b3": {
          "model_module": "@jupyter-widgets/base",
          "model_name": "LayoutModel",
          "model_module_version": "1.2.0",
          "state": {
            "_view_name": "LayoutView",
            "grid_template_rows": null,
            "right": null,
            "justify_content": null,
            "_view_module": "@jupyter-widgets/base",
            "overflow": null,
            "_model_module_version": "1.2.0",
            "_view_count": null,
            "flex_flow": null,
            "width": null,
            "min_width": null,
            "border": null,
            "align_items": null,
            "bottom": null,
            "_model_module": "@jupyter-widgets/base",
            "top": null,
            "grid_column": null,
            "overflow_y": null,
            "overflow_x": null,
            "grid_auto_flow": null,
            "grid_area": null,
            "grid_template_columns": null,
            "flex": null,
            "_model_name": "LayoutModel",
            "justify_items": null,
            "grid_row": null,
            "max_height": null,
            "align_content": null,
            "visibility": null,
            "align_self": null,
            "height": null,
            "min_height": null,
            "padding": null,
            "grid_auto_rows": null,
            "grid_gap": null,
            "max_width": null,
            "order": null,
            "_view_module_version": "1.2.0",
            "grid_template_areas": null,
            "object_position": null,
            "object_fit": null,
            "grid_auto_columns": null,
            "margin": null,
            "display": null,
            "left": null
          }
        },
        "dbf578f9bf3e4470b0f0d39b44d8046d": {
          "model_module": "@jupyter-widgets/controls",
          "model_name": "DescriptionStyleModel",
          "model_module_version": "1.5.0",
          "state": {
            "_view_name": "StyleView",
            "_model_name": "DescriptionStyleModel",
            "description_width": "",
            "_view_module": "@jupyter-widgets/base",
            "_model_module_version": "1.5.0",
            "_view_count": null,
            "_view_module_version": "1.2.0",
            "_model_module": "@jupyter-widgets/controls"
          }
        },
        "e3841ae3da544fa8986755dbce041cbf": {
          "model_module": "@jupyter-widgets/base",
          "model_name": "LayoutModel",
          "model_module_version": "1.2.0",
          "state": {
            "_view_name": "LayoutView",
            "grid_template_rows": null,
            "right": null,
            "justify_content": null,
            "_view_module": "@jupyter-widgets/base",
            "overflow": null,
            "_model_module_version": "1.2.0",
            "_view_count": null,
            "flex_flow": null,
            "width": null,
            "min_width": null,
            "border": null,
            "align_items": null,
            "bottom": null,
            "_model_module": "@jupyter-widgets/base",
            "top": null,
            "grid_column": null,
            "overflow_y": null,
            "overflow_x": null,
            "grid_auto_flow": null,
            "grid_area": null,
            "grid_template_columns": null,
            "flex": null,
            "_model_name": "LayoutModel",
            "justify_items": null,
            "grid_row": null,
            "max_height": null,
            "align_content": null,
            "visibility": null,
            "align_self": null,
            "height": null,
            "min_height": null,
            "padding": null,
            "grid_auto_rows": null,
            "grid_gap": null,
            "max_width": null,
            "order": null,
            "_view_module_version": "1.2.0",
            "grid_template_areas": null,
            "object_position": null,
            "object_fit": null,
            "grid_auto_columns": null,
            "margin": null,
            "display": null,
            "left": null
          }
        },
        "6fc1e7d900d045338a53d35200a01007": {
          "model_module": "@jupyter-widgets/controls",
          "model_name": "HBoxModel",
          "model_module_version": "1.5.0",
          "state": {
            "_view_name": "HBoxView",
            "_dom_classes": [],
            "_model_name": "HBoxModel",
            "_view_module": "@jupyter-widgets/controls",
            "_model_module_version": "1.5.0",
            "_view_count": null,
            "_view_module_version": "1.5.0",
            "box_style": "",
            "layout": "IPY_MODEL_b9b246e269b94d548e0764cf076517f6",
            "_model_module": "@jupyter-widgets/controls",
            "children": [
              "IPY_MODEL_37ab8be9f4824656bdcf990e6ea7b158",
              "IPY_MODEL_9797413bcc924138aa0d6c164b2634e8",
              "IPY_MODEL_aaaa8ae8d4024fc398a4a1a75120b131"
            ]
          }
        },
        "b9b246e269b94d548e0764cf076517f6": {
          "model_module": "@jupyter-widgets/base",
          "model_name": "LayoutModel",
          "model_module_version": "1.2.0",
          "state": {
            "_view_name": "LayoutView",
            "grid_template_rows": null,
            "right": null,
            "justify_content": null,
            "_view_module": "@jupyter-widgets/base",
            "overflow": null,
            "_model_module_version": "1.2.0",
            "_view_count": null,
            "flex_flow": null,
            "width": null,
            "min_width": null,
            "border": null,
            "align_items": null,
            "bottom": null,
            "_model_module": "@jupyter-widgets/base",
            "top": null,
            "grid_column": null,
            "overflow_y": null,
            "overflow_x": null,
            "grid_auto_flow": null,
            "grid_area": null,
            "grid_template_columns": null,
            "flex": null,
            "_model_name": "LayoutModel",
            "justify_items": null,
            "grid_row": null,
            "max_height": null,
            "align_content": null,
            "visibility": null,
            "align_self": null,
            "height": null,
            "min_height": null,
            "padding": null,
            "grid_auto_rows": null,
            "grid_gap": null,
            "max_width": null,
            "order": null,
            "_view_module_version": "1.2.0",
            "grid_template_areas": null,
            "object_position": null,
            "object_fit": null,
            "grid_auto_columns": null,
            "margin": null,
            "display": null,
            "left": null
          }
        },
        "37ab8be9f4824656bdcf990e6ea7b158": {
          "model_module": "@jupyter-widgets/controls",
          "model_name": "HTMLModel",
          "model_module_version": "1.5.0",
          "state": {
            "_view_name": "HTMLView",
            "style": "IPY_MODEL_b97be863b7604576a2889f47ebfc6f9d",
            "_dom_classes": [],
            "description": "",
            "_model_name": "HTMLModel",
            "placeholder": "​",
            "_view_module": "@jupyter-widgets/controls",
            "_model_module_version": "1.5.0",
            "value": "Downloading: 100%",
            "_view_count": null,
            "_view_module_version": "1.5.0",
            "description_tooltip": null,
            "_model_module": "@jupyter-widgets/controls",
            "layout": "IPY_MODEL_d415711078b24bca9f7161162bc3d5cc"
          }
        },
        "9797413bcc924138aa0d6c164b2634e8": {
          "model_module": "@jupyter-widgets/controls",
          "model_name": "FloatProgressModel",
          "model_module_version": "1.5.0",
          "state": {
            "_view_name": "ProgressView",
            "style": "IPY_MODEL_f1e65f5c0d4741fe9fddf8e1107362fd",
            "_dom_classes": [],
            "description": "",
            "_model_name": "FloatProgressModel",
            "bar_style": "success",
            "max": 213450,
            "_view_module": "@jupyter-widgets/controls",
            "_model_module_version": "1.5.0",
            "value": 213450,
            "_view_count": null,
            "_view_module_version": "1.5.0",
            "orientation": "horizontal",
            "min": 0,
            "description_tooltip": null,
            "_model_module": "@jupyter-widgets/controls",
            "layout": "IPY_MODEL_88c147f600034f5b9c53b43bbf8f287c"
          }
        },
        "aaaa8ae8d4024fc398a4a1a75120b131": {
          "model_module": "@jupyter-widgets/controls",
          "model_name": "HTMLModel",
          "model_module_version": "1.5.0",
          "state": {
            "_view_name": "HTMLView",
            "style": "IPY_MODEL_cc21c0322821493f97848bd07971f57d",
            "_dom_classes": [],
            "description": "",
            "_model_name": "HTMLModel",
            "placeholder": "​",
            "_view_module": "@jupyter-widgets/controls",
            "_model_module_version": "1.5.0",
            "value": " 208k/208k [00:00&lt;00:00, 787kB/s]",
            "_view_count": null,
            "_view_module_version": "1.5.0",
            "description_tooltip": null,
            "_model_module": "@jupyter-widgets/controls",
            "layout": "IPY_MODEL_be95a1860aca422aae17b1a9e242bc3b"
          }
        },
        "b97be863b7604576a2889f47ebfc6f9d": {
          "model_module": "@jupyter-widgets/controls",
          "model_name": "DescriptionStyleModel",
          "model_module_version": "1.5.0",
          "state": {
            "_view_name": "StyleView",
            "_model_name": "DescriptionStyleModel",
            "description_width": "",
            "_view_module": "@jupyter-widgets/base",
            "_model_module_version": "1.5.0",
            "_view_count": null,
            "_view_module_version": "1.2.0",
            "_model_module": "@jupyter-widgets/controls"
          }
        },
        "d415711078b24bca9f7161162bc3d5cc": {
          "model_module": "@jupyter-widgets/base",
          "model_name": "LayoutModel",
          "model_module_version": "1.2.0",
          "state": {
            "_view_name": "LayoutView",
            "grid_template_rows": null,
            "right": null,
            "justify_content": null,
            "_view_module": "@jupyter-widgets/base",
            "overflow": null,
            "_model_module_version": "1.2.0",
            "_view_count": null,
            "flex_flow": null,
            "width": null,
            "min_width": null,
            "border": null,
            "align_items": null,
            "bottom": null,
            "_model_module": "@jupyter-widgets/base",
            "top": null,
            "grid_column": null,
            "overflow_y": null,
            "overflow_x": null,
            "grid_auto_flow": null,
            "grid_area": null,
            "grid_template_columns": null,
            "flex": null,
            "_model_name": "LayoutModel",
            "justify_items": null,
            "grid_row": null,
            "max_height": null,
            "align_content": null,
            "visibility": null,
            "align_self": null,
            "height": null,
            "min_height": null,
            "padding": null,
            "grid_auto_rows": null,
            "grid_gap": null,
            "max_width": null,
            "order": null,
            "_view_module_version": "1.2.0",
            "grid_template_areas": null,
            "object_position": null,
            "object_fit": null,
            "grid_auto_columns": null,
            "margin": null,
            "display": null,
            "left": null
          }
        },
        "f1e65f5c0d4741fe9fddf8e1107362fd": {
          "model_module": "@jupyter-widgets/controls",
          "model_name": "ProgressStyleModel",
          "model_module_version": "1.5.0",
          "state": {
            "_view_name": "StyleView",
            "_model_name": "ProgressStyleModel",
            "description_width": "",
            "_view_module": "@jupyter-widgets/base",
            "_model_module_version": "1.5.0",
            "_view_count": null,
            "_view_module_version": "1.2.0",
            "bar_color": null,
            "_model_module": "@jupyter-widgets/controls"
          }
        },
        "88c147f600034f5b9c53b43bbf8f287c": {
          "model_module": "@jupyter-widgets/base",
          "model_name": "LayoutModel",
          "model_module_version": "1.2.0",
          "state": {
            "_view_name": "LayoutView",
            "grid_template_rows": null,
            "right": null,
            "justify_content": null,
            "_view_module": "@jupyter-widgets/base",
            "overflow": null,
            "_model_module_version": "1.2.0",
            "_view_count": null,
            "flex_flow": null,
            "width": null,
            "min_width": null,
            "border": null,
            "align_items": null,
            "bottom": null,
            "_model_module": "@jupyter-widgets/base",
            "top": null,
            "grid_column": null,
            "overflow_y": null,
            "overflow_x": null,
            "grid_auto_flow": null,
            "grid_area": null,
            "grid_template_columns": null,
            "flex": null,
            "_model_name": "LayoutModel",
            "justify_items": null,
            "grid_row": null,
            "max_height": null,
            "align_content": null,
            "visibility": null,
            "align_self": null,
            "height": null,
            "min_height": null,
            "padding": null,
            "grid_auto_rows": null,
            "grid_gap": null,
            "max_width": null,
            "order": null,
            "_view_module_version": "1.2.0",
            "grid_template_areas": null,
            "object_position": null,
            "object_fit": null,
            "grid_auto_columns": null,
            "margin": null,
            "display": null,
            "left": null
          }
        },
        "cc21c0322821493f97848bd07971f57d": {
          "model_module": "@jupyter-widgets/controls",
          "model_name": "DescriptionStyleModel",
          "model_module_version": "1.5.0",
          "state": {
            "_view_name": "StyleView",
            "_model_name": "DescriptionStyleModel",
            "description_width": "",
            "_view_module": "@jupyter-widgets/base",
            "_model_module_version": "1.5.0",
            "_view_count": null,
            "_view_module_version": "1.2.0",
            "_model_module": "@jupyter-widgets/controls"
          }
        },
        "be95a1860aca422aae17b1a9e242bc3b": {
          "model_module": "@jupyter-widgets/base",
          "model_name": "LayoutModel",
          "model_module_version": "1.2.0",
          "state": {
            "_view_name": "LayoutView",
            "grid_template_rows": null,
            "right": null,
            "justify_content": null,
            "_view_module": "@jupyter-widgets/base",
            "overflow": null,
            "_model_module_version": "1.2.0",
            "_view_count": null,
            "flex_flow": null,
            "width": null,
            "min_width": null,
            "border": null,
            "align_items": null,
            "bottom": null,
            "_model_module": "@jupyter-widgets/base",
            "top": null,
            "grid_column": null,
            "overflow_y": null,
            "overflow_x": null,
            "grid_auto_flow": null,
            "grid_area": null,
            "grid_template_columns": null,
            "flex": null,
            "_model_name": "LayoutModel",
            "justify_items": null,
            "grid_row": null,
            "max_height": null,
            "align_content": null,
            "visibility": null,
            "align_self": null,
            "height": null,
            "min_height": null,
            "padding": null,
            "grid_auto_rows": null,
            "grid_gap": null,
            "max_width": null,
            "order": null,
            "_view_module_version": "1.2.0",
            "grid_template_areas": null,
            "object_position": null,
            "object_fit": null,
            "grid_auto_columns": null,
            "margin": null,
            "display": null,
            "left": null
          }
        },
        "64ccf87afbea4a23bafde812b14233dd": {
          "model_module": "@jupyter-widgets/controls",
          "model_name": "HBoxModel",
          "model_module_version": "1.5.0",
          "state": {
            "_view_name": "HBoxView",
            "_dom_classes": [],
            "_model_name": "HBoxModel",
            "_view_module": "@jupyter-widgets/controls",
            "_model_module_version": "1.5.0",
            "_view_count": null,
            "_view_module_version": "1.5.0",
            "box_style": "",
            "layout": "IPY_MODEL_6ae23fc34e114c9ba4b2cd403e81dfaf",
            "_model_module": "@jupyter-widgets/controls",
            "children": [
              "IPY_MODEL_1b02ede7bac34fca82529c6bd70a2402",
              "IPY_MODEL_c54c290ade514199878369e4b1ab7c77",
              "IPY_MODEL_d301ded8d20649d6ae0f6ff0d9187c2f"
            ]
          }
        },
        "6ae23fc34e114c9ba4b2cd403e81dfaf": {
          "model_module": "@jupyter-widgets/base",
          "model_name": "LayoutModel",
          "model_module_version": "1.2.0",
          "state": {
            "_view_name": "LayoutView",
            "grid_template_rows": null,
            "right": null,
            "justify_content": null,
            "_view_module": "@jupyter-widgets/base",
            "overflow": null,
            "_model_module_version": "1.2.0",
            "_view_count": null,
            "flex_flow": null,
            "width": null,
            "min_width": null,
            "border": null,
            "align_items": null,
            "bottom": null,
            "_model_module": "@jupyter-widgets/base",
            "top": null,
            "grid_column": null,
            "overflow_y": null,
            "overflow_x": null,
            "grid_auto_flow": null,
            "grid_area": null,
            "grid_template_columns": null,
            "flex": null,
            "_model_name": "LayoutModel",
            "justify_items": null,
            "grid_row": null,
            "max_height": null,
            "align_content": null,
            "visibility": null,
            "align_self": null,
            "height": null,
            "min_height": null,
            "padding": null,
            "grid_auto_rows": null,
            "grid_gap": null,
            "max_width": null,
            "order": null,
            "_view_module_version": "1.2.0",
            "grid_template_areas": null,
            "object_position": null,
            "object_fit": null,
            "grid_auto_columns": null,
            "margin": null,
            "display": null,
            "left": null
          }
        },
        "1b02ede7bac34fca82529c6bd70a2402": {
          "model_module": "@jupyter-widgets/controls",
          "model_name": "HTMLModel",
          "model_module_version": "1.5.0",
          "state": {
            "_view_name": "HTMLView",
            "style": "IPY_MODEL_9c3633ee3e4949b2a2bd1d07dc98a593",
            "_dom_classes": [],
            "description": "",
            "_model_name": "HTMLModel",
            "placeholder": "​",
            "_view_module": "@jupyter-widgets/controls",
            "_model_module_version": "1.5.0",
            "value": "Downloading: 100%",
            "_view_count": null,
            "_view_module_version": "1.5.0",
            "description_tooltip": null,
            "_model_module": "@jupyter-widgets/controls",
            "layout": "IPY_MODEL_04814b60d6754001a2c972eac39c87ea"
          }
        },
        "c54c290ade514199878369e4b1ab7c77": {
          "model_module": "@jupyter-widgets/controls",
          "model_name": "FloatProgressModel",
          "model_module_version": "1.5.0",
          "state": {
            "_view_name": "ProgressView",
            "style": "IPY_MODEL_f03879cb8dfe485495e222f9e82e7bee",
            "_dom_classes": [],
            "description": "",
            "_model_name": "FloatProgressModel",
            "bar_style": "success",
            "max": 435778770,
            "_view_module": "@jupyter-widgets/controls",
            "_model_module_version": "1.5.0",
            "value": 435778770,
            "_view_count": null,
            "_view_module_version": "1.5.0",
            "orientation": "horizontal",
            "min": 0,
            "description_tooltip": null,
            "_model_module": "@jupyter-widgets/controls",
            "layout": "IPY_MODEL_f53cd6b2a7fa433aaed0021ba59fc611"
          }
        },
        "d301ded8d20649d6ae0f6ff0d9187c2f": {
          "model_module": "@jupyter-widgets/controls",
          "model_name": "HTMLModel",
          "model_module_version": "1.5.0",
          "state": {
            "_view_name": "HTMLView",
            "style": "IPY_MODEL_32a4c8fbf40346a08ee561aa9ea1dfa1",
            "_dom_classes": [],
            "description": "",
            "_model_name": "HTMLModel",
            "placeholder": "​",
            "_view_module": "@jupyter-widgets/controls",
            "_model_module_version": "1.5.0",
            "value": " 416M/416M [00:26&lt;00:00, 7.47MB/s]",
            "_view_count": null,
            "_view_module_version": "1.5.0",
            "description_tooltip": null,
            "_model_module": "@jupyter-widgets/controls",
            "layout": "IPY_MODEL_ff4c42ed785b4434bc80a08bb8ea2299"
          }
        },
        "9c3633ee3e4949b2a2bd1d07dc98a593": {
          "model_module": "@jupyter-widgets/controls",
          "model_name": "DescriptionStyleModel",
          "model_module_version": "1.5.0",
          "state": {
            "_view_name": "StyleView",
            "_model_name": "DescriptionStyleModel",
            "description_width": "",
            "_view_module": "@jupyter-widgets/base",
            "_model_module_version": "1.5.0",
            "_view_count": null,
            "_view_module_version": "1.2.0",
            "_model_module": "@jupyter-widgets/controls"
          }
        },
        "04814b60d6754001a2c972eac39c87ea": {
          "model_module": "@jupyter-widgets/base",
          "model_name": "LayoutModel",
          "model_module_version": "1.2.0",
          "state": {
            "_view_name": "LayoutView",
            "grid_template_rows": null,
            "right": null,
            "justify_content": null,
            "_view_module": "@jupyter-widgets/base",
            "overflow": null,
            "_model_module_version": "1.2.0",
            "_view_count": null,
            "flex_flow": null,
            "width": null,
            "min_width": null,
            "border": null,
            "align_items": null,
            "bottom": null,
            "_model_module": "@jupyter-widgets/base",
            "top": null,
            "grid_column": null,
            "overflow_y": null,
            "overflow_x": null,
            "grid_auto_flow": null,
            "grid_area": null,
            "grid_template_columns": null,
            "flex": null,
            "_model_name": "LayoutModel",
            "justify_items": null,
            "grid_row": null,
            "max_height": null,
            "align_content": null,
            "visibility": null,
            "align_self": null,
            "height": null,
            "min_height": null,
            "padding": null,
            "grid_auto_rows": null,
            "grid_gap": null,
            "max_width": null,
            "order": null,
            "_view_module_version": "1.2.0",
            "grid_template_areas": null,
            "object_position": null,
            "object_fit": null,
            "grid_auto_columns": null,
            "margin": null,
            "display": null,
            "left": null
          }
        },
        "f03879cb8dfe485495e222f9e82e7bee": {
          "model_module": "@jupyter-widgets/controls",
          "model_name": "ProgressStyleModel",
          "model_module_version": "1.5.0",
          "state": {
            "_view_name": "StyleView",
            "_model_name": "ProgressStyleModel",
            "description_width": "",
            "_view_module": "@jupyter-widgets/base",
            "_model_module_version": "1.5.0",
            "_view_count": null,
            "_view_module_version": "1.2.0",
            "bar_color": null,
            "_model_module": "@jupyter-widgets/controls"
          }
        },
        "f53cd6b2a7fa433aaed0021ba59fc611": {
          "model_module": "@jupyter-widgets/base",
          "model_name": "LayoutModel",
          "model_module_version": "1.2.0",
          "state": {
            "_view_name": "LayoutView",
            "grid_template_rows": null,
            "right": null,
            "justify_content": null,
            "_view_module": "@jupyter-widgets/base",
            "overflow": null,
            "_model_module_version": "1.2.0",
            "_view_count": null,
            "flex_flow": null,
            "width": null,
            "min_width": null,
            "border": null,
            "align_items": null,
            "bottom": null,
            "_model_module": "@jupyter-widgets/base",
            "top": null,
            "grid_column": null,
            "overflow_y": null,
            "overflow_x": null,
            "grid_auto_flow": null,
            "grid_area": null,
            "grid_template_columns": null,
            "flex": null,
            "_model_name": "LayoutModel",
            "justify_items": null,
            "grid_row": null,
            "max_height": null,
            "align_content": null,
            "visibility": null,
            "align_self": null,
            "height": null,
            "min_height": null,
            "padding": null,
            "grid_auto_rows": null,
            "grid_gap": null,
            "max_width": null,
            "order": null,
            "_view_module_version": "1.2.0",
            "grid_template_areas": null,
            "object_position": null,
            "object_fit": null,
            "grid_auto_columns": null,
            "margin": null,
            "display": null,
            "left": null
          }
        },
        "32a4c8fbf40346a08ee561aa9ea1dfa1": {
          "model_module": "@jupyter-widgets/controls",
          "model_name": "DescriptionStyleModel",
          "model_module_version": "1.5.0",
          "state": {
            "_view_name": "StyleView",
            "_model_name": "DescriptionStyleModel",
            "description_width": "",
            "_view_module": "@jupyter-widgets/base",
            "_model_module_version": "1.5.0",
            "_view_count": null,
            "_view_module_version": "1.2.0",
            "_model_module": "@jupyter-widgets/controls"
          }
        },
        "ff4c42ed785b4434bc80a08bb8ea2299": {
          "model_module": "@jupyter-widgets/base",
          "model_name": "LayoutModel",
          "model_module_version": "1.2.0",
          "state": {
            "_view_name": "LayoutView",
            "grid_template_rows": null,
            "right": null,
            "justify_content": null,
            "_view_module": "@jupyter-widgets/base",
            "overflow": null,
            "_model_module_version": "1.2.0",
            "_view_count": null,
            "flex_flow": null,
            "width": null,
            "min_width": null,
            "border": null,
            "align_items": null,
            "bottom": null,
            "_model_module": "@jupyter-widgets/base",
            "top": null,
            "grid_column": null,
            "overflow_y": null,
            "overflow_x": null,
            "grid_auto_flow": null,
            "grid_area": null,
            "grid_template_columns": null,
            "flex": null,
            "_model_name": "LayoutModel",
            "justify_items": null,
            "grid_row": null,
            "max_height": null,
            "align_content": null,
            "visibility": null,
            "align_self": null,
            "height": null,
            "min_height": null,
            "padding": null,
            "grid_auto_rows": null,
            "grid_gap": null,
            "max_width": null,
            "order": null,
            "_view_module_version": "1.2.0",
            "grid_template_areas": null,
            "object_position": null,
            "object_fit": null,
            "grid_auto_columns": null,
            "margin": null,
            "display": null,
            "left": null
          }
        }
      }
    }
  },
  "nbformat": 4,
  "nbformat_minor": 0
}